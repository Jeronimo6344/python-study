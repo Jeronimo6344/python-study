{
 "cells": [
  {
   "cell_type": "markdown",
   "id": "37a74095",
   "metadata": {},
   "source": [
    "# Lab 01 - 파이썬 시작하기, 변수와 연산자\n",
    "\n",
    "## #03. 첫 번째 프로그램\n",
    "\n",
    "### 소스코드 작성하기"
   ]
  },
  {
   "cell_type": "code",
   "execution_count": 5,
   "id": "aa79e1f3",
   "metadata": {},
   "outputs": [
    {
     "name": "stdout",
     "output_type": "stream",
     "text": [
      "Hello World\n"
     ]
    }
   ],
   "source": [
    "# 메세지를 출력하는 명령어\n",
    "print(\"Hello World\")"
   ]
  },
  {
   "cell_type": "code",
   "execution_count": 6,
   "id": "ebe282ec",
   "metadata": {},
   "outputs": [
    {
     "name": "stdout",
     "output_type": "stream",
     "text": [
      "300\n"
     ]
    }
   ],
   "source": [
    "a=100   # 100을 의미하는 a라는 데이터 생성\n",
    "b=200   # 200을 의미하는 b라는 데이터 생성\n",
    "\n",
    "# 합산 결과 출력하기\n",
    "print(a+b)"
   ]
  },
  {
   "cell_type": "markdown",
   "id": "5c0fb748",
   "metadata": {},
   "source": [
    "## #04. 변수의 이해\n",
    "\n",
    "### 다양한 변수 만들기"
   ]
  },
  {
   "cell_type": "code",
   "execution_count": 7,
   "id": "cfbac1a1",
   "metadata": {},
   "outputs": [
    {
     "name": "stdout",
     "output_type": "stream",
     "text": [
      "123\n",
      "-456\n"
     ]
    }
   ],
   "source": [
    "# 변수 만들기 ( 오른쪽에서 왼쪽으로 대입 -> 최초 대입을 초기화라고 함 )\n",
    "# -> 이름 = 값\n",
    "a = 123\n",
    "b = -456\n",
    "print(a)\n",
    "print(b)"
   ]
  },
  {
   "cell_type": "code",
   "execution_count": 8,
   "id": "e6ead9db",
   "metadata": {},
   "outputs": [
    {
     "name": "stdout",
     "output_type": "stream",
     "text": [
      "10000\n"
     ]
    }
   ],
   "source": [
    "# 한 번 할당된 변수는 다른 값으로 변경 가능\n",
    "a = 10000\n",
    "print(a)"
   ]
  },
  {
   "cell_type": "code",
   "execution_count": 9,
   "id": "28ed5486",
   "metadata": {},
   "outputs": [
    {
     "name": "stdout",
     "output_type": "stream",
     "text": [
      "1.2\n",
      "-3.45\n"
     ]
    }
   ],
   "source": [
    "c = 1.2\n",
    "d = -3.45\n",
    "print(c)\n",
    "print(d)"
   ]
  },
  {
   "cell_type": "markdown",
   "id": "d9e43d87",
   "metadata": {},
   "source": [
    "### 논리형 변수"
   ]
  },
  {
   "cell_type": "code",
   "execution_count": 10,
   "id": "3ac982f4",
   "metadata": {},
   "outputs": [
    {
     "name": "stdout",
     "output_type": "stream",
     "text": [
      "True\n"
     ]
    }
   ],
   "source": [
    "a = True\n",
    "print(a)"
   ]
  },
  {
   "cell_type": "code",
   "execution_count": 11,
   "id": "e644875f",
   "metadata": {},
   "outputs": [
    {
     "name": "stdout",
     "output_type": "stream",
     "text": [
      "False\n"
     ]
    }
   ],
   "source": [
    "b = False\n",
    "print(b)"
   ]
  },
  {
   "cell_type": "markdown",
   "id": "95caca8b",
   "metadata": {},
   "source": [
    "### 문자열 변수"
   ]
  },
  {
   "cell_type": "code",
   "execution_count": 12,
   "id": "74d0399f",
   "metadata": {},
   "outputs": [
    {
     "name": "stdout",
     "output_type": "stream",
     "text": [
      "안녕하세요. 파이썬\n"
     ]
    }
   ],
   "source": [
    "# 문자열 변수\n",
    "msg = '안녕하세요. 파이썬'\n",
    "print(msg)"
   ]
  },
  {
   "cell_type": "markdown",
   "id": "a4fa3a90",
   "metadata": {},
   "source": [
    "### 내용이 없는 변수"
   ]
  },
  {
   "cell_type": "code",
   "execution_count": 13,
   "id": "ebe57278",
   "metadata": {},
   "outputs": [
    {
     "name": "stdout",
     "output_type": "stream",
     "text": [
      "None\n"
     ]
    }
   ],
   "source": [
    "# 내용이 없는 변수\n",
    "hello = None\n",
    "print(hello)"
   ]
  },
  {
   "cell_type": "markdown",
   "id": "fdbdb9bd",
   "metadata": {},
   "source": [
    "## #05. 연산자의 활용\n",
    "\n",
    "### 대입 연산자를 활용한 swap 처리"
   ]
  },
  {
   "cell_type": "code",
   "execution_count": 15,
   "id": "92cbe3e8",
   "metadata": {},
   "outputs": [
    {
     "name": "stdout",
     "output_type": "stream",
     "text": [
      "1\n",
      "2\n",
      "2\n",
      "1\n"
     ]
    }
   ],
   "source": [
    "a = 1\n",
    "b = 2\n",
    "print(a)\n",
    "print(b)\n",
    "\n",
    "a, b = b, a\n",
    "print(a)\n",
    "print(b)"
   ]
  },
  {
   "cell_type": "markdown",
   "id": "f8ee8ca8",
   "metadata": {},
   "source": [
    "### 산술 연산자 사용하기"
   ]
  },
  {
   "cell_type": "code",
   "execution_count": 16,
   "id": "202e4629",
   "metadata": {},
   "outputs": [
    {
     "name": "stdout",
     "output_type": "stream",
     "text": [
      "7\n"
     ]
    }
   ],
   "source": [
    "# 연산 결과는 새로운 변수에 할당 하거나 직접 출력 가능\n",
    "a = 3\n",
    "b = 4\n",
    "c = a + b\n",
    "print(c)"
   ]
  },
  {
   "cell_type": "code",
   "execution_count": 17,
   "id": "12880a6d",
   "metadata": {},
   "outputs": [
    {
     "name": "stdout",
     "output_type": "stream",
     "text": [
      "-1\n",
      "12\n",
      "0.75\n"
     ]
    }
   ],
   "source": [
    "# 연산 결과 직접 출력\n",
    "print(a-b)\n",
    "print(a*b)\n",
    "print(a/b)"
   ]
  },
  {
   "cell_type": "markdown",
   "id": "c8099598",
   "metadata": {},
   "source": [
    "### 나눗셈과 거듭제곱"
   ]
  },
  {
   "cell_type": "code",
   "execution_count": 18,
   "id": "0024572b",
   "metadata": {},
   "outputs": [
    {
     "name": "stdout",
     "output_type": "stream",
     "text": [
      "3.3333333333333335\n"
     ]
    }
   ],
   "source": [
    "# 나눗셈의 몫을 구한다\n",
    "# -> 처리 가능한 단위까지 계산함 (마지막 오차 발생)\n",
    "print(10/3)"
   ]
  },
  {
   "cell_type": "code",
   "execution_count": 19,
   "id": "4a318173",
   "metadata": {},
   "outputs": [
    {
     "name": "stdout",
     "output_type": "stream",
     "text": [
      "3\n"
     ]
    }
   ],
   "source": [
    "# 나눗셈에서 소수점 아래를 버리고 몫만 계산\n",
    "print(10//3)"
   ]
  },
  {
   "cell_type": "code",
   "execution_count": 20,
   "id": "f12b65ee",
   "metadata": {},
   "outputs": [
    {
     "name": "stdout",
     "output_type": "stream",
     "text": [
      "1\n"
     ]
    }
   ],
   "source": [
    "# 나눗셈의 나머지를 구한다\n",
    "# -> 정수 단위에서만 연산 후 종료\n",
    "print(10%3)"
   ]
  },
  {
   "cell_type": "code",
   "execution_count": 21,
   "id": "bcee1367",
   "metadata": {},
   "outputs": [
    {
     "name": "stdout",
     "output_type": "stream",
     "text": [
      "243\n"
     ]
    }
   ],
   "source": [
    "## 거듭제곱\n",
    "print(3**5)"
   ]
  },
  {
   "cell_type": "markdown",
   "id": "b510175a",
   "metadata": {},
   "source": [
    "### 단항 연산자"
   ]
  },
  {
   "cell_type": "code",
   "execution_count": 23,
   "id": "83d987af",
   "metadata": {},
   "outputs": [
    {
     "name": "stdout",
     "output_type": "stream",
     "text": [
      "1\n"
     ]
    }
   ],
   "source": [
    "a=1\n",
    "a+=100\n",
    "a*=10\n",
    "a//=3\n",
    "a%=5\n",
    "print(a)"
   ]
  },
  {
   "cell_type": "markdown",
   "id": "e0bf72b5",
   "metadata": {},
   "source": [
    "### 비교 연산자"
   ]
  },
  {
   "cell_type": "code",
   "execution_count": 24,
   "id": "d4c5734e",
   "metadata": {},
   "outputs": [
    {
     "name": "stdout",
     "output_type": "stream",
     "text": [
      "False\n",
      "True\n",
      "True\n",
      "True\n",
      "False\n",
      "False\n"
     ]
    }
   ],
   "source": [
    "# 결과값이 True 혹은 False가 된다\n",
    "print(100==50)\n",
    "print(100!=50)\n",
    "print(100>=50)\n",
    "print(100>50)\n",
    "print(100<50)\n",
    "print(100<=50)"
   ]
  },
  {
   "cell_type": "code",
   "execution_count": 25,
   "id": "59539319",
   "metadata": {},
   "outputs": [
    {
     "name": "stdout",
     "output_type": "stream",
     "text": [
      "True\n"
     ]
    }
   ],
   "source": [
    "# 비교 연산도 하나의 수식이므로 결과를 다른 변수에 할당 가능함\n",
    "result = 100>50\n",
    "print(result)"
   ]
  },
  {
   "cell_type": "markdown",
   "id": "2ce71b38",
   "metadata": {},
   "source": [
    "### 논리 연산자"
   ]
  },
  {
   "cell_type": "code",
   "execution_count": 26,
   "id": "fc4b86c5",
   "metadata": {},
   "outputs": [
    {
     "name": "stdout",
     "output_type": "stream",
     "text": [
      "True\n",
      "False\n",
      "False\n",
      "False\n"
     ]
    }
   ],
   "source": [
    "# 논리 연산자 (and) --> 전체가 True인 경우만 결과값이 True\n",
    "print(True and True)\n",
    "print(True and False)\n",
    "print(False and True)\n",
    "print(False and False)"
   ]
  },
  {
   "cell_type": "code",
   "execution_count": 27,
   "id": "2aeb70f1",
   "metadata": {},
   "outputs": [
    {
     "name": "stdout",
     "output_type": "stream",
     "text": [
      "True\n",
      "True\n",
      "True\n",
      "False\n"
     ]
    }
   ],
   "source": [
    "# 논리 연산자 (or) --> 하나라도 True가 포함되어 있다면 결과값이 True\n",
    "print(True or True)\n",
    "print(True or False)\n",
    "print(False or True)\n",
    "print(False or False)"
   ]
  },
  {
   "cell_type": "code",
   "execution_count": 28,
   "id": "de0ba26e",
   "metadata": {},
   "outputs": [
    {
     "name": "stdout",
     "output_type": "stream",
     "text": [
      "False\n"
     ]
    }
   ],
   "source": [
    "# True에 대한 부정\n",
    "print(not True)"
   ]
  },
  {
   "cell_type": "code",
   "execution_count": 29,
   "id": "4bc96fb8",
   "metadata": {},
   "outputs": [
    {
     "name": "stdout",
     "output_type": "stream",
     "text": [
      "True\n"
     ]
    }
   ],
   "source": [
    "# False에 대한 부정\n",
    "print(not False)"
   ]
  },
  {
   "cell_type": "code",
   "execution_count": 30,
   "id": "b0ccb5fd",
   "metadata": {},
   "outputs": [
    {
     "name": "stdout",
     "output_type": "stream",
     "text": [
      "False\n"
     ]
    }
   ],
   "source": [
    "# 논리값을 저장하는 변수를 부정하여 그 결과를 다른 변수에 할당\n",
    "mybool=True\n",
    "reverse=not mybool\n",
    "print(reverse)"
   ]
  },
  {
   "cell_type": "markdown",
   "id": "d70cda89",
   "metadata": {},
   "source": [
    "### 비교 연산과 논리 연산의 결합"
   ]
  },
  {
   "cell_type": "code",
   "execution_count": 31,
   "id": "345c301a",
   "metadata": {},
   "outputs": [
    {
     "name": "stdout",
     "output_type": "stream",
     "text": [
      "True\n"
     ]
    }
   ],
   "source": [
    "# 비교 연산의 결과값은 bool 형식이므로 논리 연산이 가능함\n",
    "a= 100>50\n",
    "b= 20>10\n",
    "print(a and b)"
   ]
  },
  {
   "cell_type": "code",
   "execution_count": 32,
   "id": "1acb1b92",
   "metadata": {},
   "outputs": [
    {
     "name": "stdout",
     "output_type": "stream",
     "text": [
      "False\n"
     ]
    }
   ],
   "source": [
    "# \"비교 연산 --> 논리 연산\"의 순서로 처리됨\n",
    "c = 100>=100 and 50==10\n",
    "print(c)"
   ]
  },
  {
   "cell_type": "code",
   "execution_count": 33,
   "id": "bb8cb7a9",
   "metadata": {},
   "outputs": [
    {
     "name": "stdout",
     "output_type": "stream",
     "text": [
      "True\n"
     ]
    }
   ],
   "source": [
    "print( 100!=200 and 100==100)"
   ]
  },
  {
   "cell_type": "markdown",
   "id": "2dcb587e",
   "metadata": {},
   "source": [
    "### 완전 항등 연산자 'is'"
   ]
  },
  {
   "cell_type": "code",
   "execution_count": 34,
   "id": "48ac487b",
   "metadata": {},
   "outputs": [],
   "source": [
    "# 비교를 위한 변수값 정의\n",
    "x=100\n",
    "y=100.0"
   ]
  },
  {
   "cell_type": "code",
   "execution_count": 35,
   "id": "26eb3095",
   "metadata": {},
   "outputs": [
    {
     "name": "stdout",
     "output_type": "stream",
     "text": [
      "True\n",
      "False\n"
     ]
    }
   ],
   "source": [
    "# 단순 비교 연산자는 정수와 실수를 구분하지 않는다\n",
    "print(x==y) # 100과 100.0을 같다고 판별하므로 True\n",
    "print(x!=y) # 100과 100.0을 다르다고 판별할 경우 False"
   ]
  },
  {
   "cell_type": "code",
   "execution_count": 36,
   "id": "30363dac",
   "metadata": {},
   "outputs": [
    {
     "name": "stdout",
     "output_type": "stream",
     "text": [
      "False\n",
      "True\n"
     ]
    }
   ],
   "source": [
    "# is 연산자는 비교하는 값의 데이터 타입까지 일치해야만 True\n",
    "print(x is y)   # 정수와 실수가 같다는 의미이므로 False\n",
    "print(x is not y)   # 정수와 실수는 데이터 타입이 다르므로 내용이 같더라도 다른 값으로 판별"
   ]
  }
 ],
 "metadata": {
  "kernelspec": {
   "display_name": "Python 3",
   "language": "python",
   "name": "python3"
  },
  "language_info": {
   "codemirror_mode": {
    "name": "ipython",
    "version": 3
   },
   "file_extension": ".py",
   "mimetype": "text/x-python",
   "name": "python",
   "nbconvert_exporter": "python",
   "pygments_lexer": "ipython3",
   "version": "3.13.9"
  }
 },
 "nbformat": 4,
 "nbformat_minor": 5
}
