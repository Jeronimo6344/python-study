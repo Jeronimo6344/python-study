{
 "cells": [
  {
   "cell_type": "markdown",
   "id": "a7d07c97",
   "metadata": {},
   "source": [
    "# LAB04‒ 리스트 (2) / 문자열\n",
    "## 2. 리스트 관련 함수"
   ]
  },
  {
   "cell_type": "code",
   "execution_count": 1,
   "id": "86cba256",
   "metadata": {},
   "outputs": [
    {
     "name": "stdout",
     "output_type": "stream",
     "text": [
      "3\n"
     ]
    }
   ],
   "source": [
    "mylist=[1,2,3]\n",
    "print(len(mylist))"
   ]
  },
  {
   "cell_type": "code",
   "execution_count": 2,
   "id": "c5880591",
   "metadata": {},
   "outputs": [
    {
     "name": "stdout",
     "output_type": "stream",
     "text": [
      "[1, 3]\n"
     ]
    }
   ],
   "source": [
    "del(mylist[1])\n",
    "print(mylist)"
   ]
  },
  {
   "cell_type": "code",
   "execution_count": null,
   "id": "c85b2a49",
   "metadata": {},
   "outputs": [
    {
     "name": "stdout",
     "output_type": "stream",
     "text": [
      "[4, 2, 5, 3, 1]\n",
      "[1, 2, 3, 4, 5]\n",
      "[5, 4, 3, 2, 1]\n",
      "[4, 2, 5, 3, 1]\n"
     ]
    }
   ],
   "source": [
    "mylist=[4,2,5,3,1]\n",
    "print(mylist)\n",
    "asc=sorted(mylist)\n",
    "print(asc)\n",
    "desc=sorted(mylist,reverse=True)\n",
    "print(desc)\n",
    "print(mylist)           # 원본은 그대로임!!!"
   ]
  },
  {
   "cell_type": "code",
   "execution_count": 4,
   "id": "7375374e",
   "metadata": {},
   "outputs": [
    {
     "name": "stdout",
     "output_type": "stream",
     "text": [
      "3\n",
      "1\n",
      "6\n"
     ]
    }
   ],
   "source": [
    "a=[1,2,3]\n",
    "print(max(a))\n",
    "print(min(a))\n",
    "print(sum(a))"
   ]
  },
  {
   "cell_type": "code",
   "execution_count": 5,
   "id": "18885633",
   "metadata": {},
   "outputs": [
    {
     "name": "stdout",
     "output_type": "stream",
     "text": [
      "2.0\n"
     ]
    }
   ],
   "source": [
    "avg=sum(a)/len(a)\n",
    "print(avg)"
   ]
  },
  {
   "cell_type": "code",
   "execution_count": 6,
   "id": "5c88266d",
   "metadata": {},
   "outputs": [
    {
     "name": "stdout",
     "output_type": "stream",
     "text": [
      "['P', 'y', 't', 'h', 'o', 'n']\n"
     ]
    }
   ],
   "source": [
    "a=\"Python\"\n",
    "b=list(a)\n",
    "print(b)"
   ]
  },
  {
   "cell_type": "code",
   "execution_count": 7,
   "id": "ab838c2c",
   "metadata": {},
   "outputs": [
    {
     "name": "stdout",
     "output_type": "stream",
     "text": [
      "[1, 2, 3]\n"
     ]
    }
   ],
   "source": [
    "c=(1,2,3)\n",
    "d=list(c)\n",
    "print(d)"
   ]
  },
  {
   "cell_type": "code",
   "execution_count": 8,
   "id": "63085039",
   "metadata": {},
   "outputs": [
    {
     "name": "stdout",
     "output_type": "stream",
     "text": [
      "[10, 20, 30]\n"
     ]
    }
   ],
   "source": [
    "e=[10,20,30]\n",
    "f=list(e)\n",
    "print(f)"
   ]
  },
  {
   "cell_type": "code",
   "execution_count": 9,
   "id": "5ccea057",
   "metadata": {},
   "outputs": [
    {
     "name": "stdout",
     "output_type": "stream",
     "text": [
      "<class 'range'>\n",
      "range(1, 10)\n"
     ]
    }
   ],
   "source": [
    "k=range(1,10)\n",
    "print(type(k))\n",
    "print(k)"
   ]
  },
  {
   "cell_type": "code",
   "execution_count": 12,
   "id": "628a586d",
   "metadata": {},
   "outputs": [
    {
     "name": "stdout",
     "output_type": "stream",
     "text": [
      "[1, 2, 3, 4, 5, 6, 7, 8, 9]\n"
     ]
    }
   ],
   "source": [
    "z=list(k)\n",
    "print(z)"
   ]
  },
  {
   "cell_type": "code",
   "execution_count": 13,
   "id": "c15fe534",
   "metadata": {},
   "outputs": [
    {
     "name": "stdout",
     "output_type": "stream",
     "text": [
      "[1, 4, 7]\n"
     ]
    }
   ],
   "source": [
    "k=list(range(1,10,3))       # 1부터 10 전까지 3씩 증가하는 range 객체를 list로 변환\n",
    "print(k)"
   ]
  },
  {
   "cell_type": "code",
   "execution_count": 14,
   "id": "55230a43",
   "metadata": {},
   "outputs": [
    {
     "name": "stdout",
     "output_type": "stream",
     "text": [
      "3\n"
     ]
    }
   ],
   "source": [
    "mylist=[1,2,3,2,4,2]\n",
    "c=mylist.count(2)\n",
    "print(c)"
   ]
  },
  {
   "cell_type": "code",
   "execution_count": 15,
   "id": "41906e65",
   "metadata": {},
   "outputs": [
    {
     "name": "stdout",
     "output_type": "stream",
     "text": [
      "3\n"
     ]
    }
   ],
   "source": [
    "mylist=[1,2,3,10,1,2,3,10]\n",
    "x=mylist.index(10)\n",
    "print(x)"
   ]
  },
  {
   "cell_type": "code",
   "execution_count": 16,
   "id": "90e4c434",
   "metadata": {},
   "outputs": [
    {
     "name": "stdout",
     "output_type": "stream",
     "text": [
      "[1, 2, 3, 4]\n"
     ]
    }
   ],
   "source": [
    "mylist=[1,2,3]\n",
    "mylist.append(4)\n",
    "print(mylist)"
   ]
  },
  {
   "cell_type": "code",
   "execution_count": 17,
   "id": "9a905965",
   "metadata": {},
   "outputs": [
    {
     "name": "stdout",
     "output_type": "stream",
     "text": [
      "[1, 2, 3, [5, 6]]\n"
     ]
    }
   ],
   "source": [
    "mylist=[1,2,3]\n",
    "mylist.append([5,6])\n",
    "print(mylist)"
   ]
  },
  {
   "cell_type": "code",
   "execution_count": 18,
   "id": "8a67b036",
   "metadata": {},
   "outputs": [
    {
     "name": "stdout",
     "output_type": "stream",
     "text": [
      "[1, 10, 2, 3]\n"
     ]
    }
   ],
   "source": [
    "mylist=[1,2,3]\n",
    "mylist.insert(1,10)\n",
    "print(mylist)"
   ]
  },
  {
   "cell_type": "code",
   "execution_count": 19,
   "id": "7a4a1b3b",
   "metadata": {},
   "outputs": [
    {
     "name": "stdout",
     "output_type": "stream",
     "text": [
      "[10, 1, 2, 3]\n"
     ]
    }
   ],
   "source": [
    "mylist=[1,2,3]\n",
    "mylist.insert(0,10)\n",
    "print(mylist)"
   ]
  },
  {
   "cell_type": "code",
   "execution_count": 20,
   "id": "10c9cbf6",
   "metadata": {},
   "outputs": [
    {
     "name": "stdout",
     "output_type": "stream",
     "text": [
      "[1, 2, 3, 10]\n"
     ]
    }
   ],
   "source": [
    "mylist=[1,2,3]\n",
    "lastindex=len(mylist)\n",
    "mylist.insert(lastindex, 10)\n",
    "print(mylist)"
   ]
  },
  {
   "cell_type": "code",
   "execution_count": 21,
   "id": "47c1ada3",
   "metadata": {},
   "outputs": [
    {
     "name": "stdout",
     "output_type": "stream",
     "text": [
      "3\n",
      "[1, 2]\n"
     ]
    }
   ],
   "source": [
    "mylist=[1,2,3]\n",
    "k=mylist.pop()\n",
    "print(k)\n",
    "print(mylist)"
   ]
  },
  {
   "cell_type": "code",
   "execution_count": 22,
   "id": "d22da49f",
   "metadata": {},
   "outputs": [
    {
     "name": "stdout",
     "output_type": "stream",
     "text": [
      "[1, 2, 3, 10, 9, 8, 7]\n"
     ]
    }
   ],
   "source": [
    "mylist=[1,2,3]\n",
    "addon=[10,9,8,7]\n",
    "mylist.extend(addon)\n",
    "print(mylist)"
   ]
  },
  {
   "cell_type": "code",
   "execution_count": 24,
   "id": "a377bedc",
   "metadata": {},
   "outputs": [
    {
     "name": "stdout",
     "output_type": "stream",
     "text": [
      "[1, 2, 3, 1, 2, 3, 10]\n"
     ]
    }
   ],
   "source": [
    "mylist=[1,2,3,10,1,2,3,10]\n",
    "mylist.remove(10)\n",
    "print(mylist)"
   ]
  },
  {
   "cell_type": "code",
   "execution_count": 25,
   "id": "f73a1348",
   "metadata": {},
   "outputs": [
    {
     "name": "stdout",
     "output_type": "stream",
     "text": [
      "[9, 3, 5, 7, 1]\n"
     ]
    }
   ],
   "source": [
    "mylist=[1,7,5,3,9]\n",
    "mylist.reverse()\n",
    "print(mylist)"
   ]
  },
  {
   "cell_type": "code",
   "execution_count": 26,
   "id": "7b60cb05",
   "metadata": {},
   "outputs": [
    {
     "name": "stdout",
     "output_type": "stream",
     "text": [
      "[1, 2, 3, 4, 5]\n"
     ]
    }
   ],
   "source": [
    "mylist=[2,5,1,4,3]\n",
    "mylist.sort()\n",
    "print(mylist)"
   ]
  },
  {
   "cell_type": "code",
   "execution_count": 28,
   "id": "3f327217",
   "metadata": {},
   "outputs": [
    {
     "name": "stdout",
     "output_type": "stream",
     "text": [
      "[5, 4, 3, 2, 1]\n"
     ]
    }
   ],
   "source": [
    "mylist=[2,5,1,4,3]\n",
    "mylist.sort(reverse=True)\n",
    "print(mylist)"
   ]
  },
  {
   "cell_type": "code",
   "execution_count": 29,
   "id": "d92f2c4d",
   "metadata": {},
   "outputs": [
    {
     "name": "stdout",
     "output_type": "stream",
     "text": [
      "['Hello', 'Python', 'World', 'Good']\n"
     ]
    }
   ],
   "source": [
    "text=\"Hello,Python,World,Good\"\n",
    "mylist=text.split(\",\")\n",
    "print(mylist)"
   ]
  },
  {
   "cell_type": "code",
   "execution_count": 30,
   "id": "f5af672b",
   "metadata": {},
   "outputs": [
    {
     "name": "stdout",
     "output_type": "stream",
     "text": [
      "Hello$Python$World$Good\n"
     ]
    }
   ],
   "source": [
    "dl=\"$\"\n",
    "mylist=['Hello','Python','World','Good']\n",
    "text=dl.join(mylist)\n",
    "print(text)"
   ]
  },
  {
   "cell_type": "code",
   "execution_count": 31,
   "id": "76861a4c",
   "metadata": {},
   "outputs": [
    {
     "name": "stdout",
     "output_type": "stream",
     "text": [
      "HelloPythonWorldGood\n"
     ]
    }
   ],
   "source": [
    "empty=\"\"\n",
    "mylist=['Hello','Python','World','Good']\n",
    "text=empty.join(mylist)\n",
    "print(text)"
   ]
  },
  {
   "cell_type": "code",
   "execution_count": 32,
   "id": "f61fb801",
   "metadata": {},
   "outputs": [
    {
     "name": "stdout",
     "output_type": "stream",
     "text": [
      "Hello Python World Good\n"
     ]
    }
   ],
   "source": [
    "space=\" \"\n",
    "mylist=['Hello','Python','World','Good']\n",
    "text=space.join(mylist)\n",
    "print(text)"
   ]
  },
  {
   "cell_type": "code",
   "execution_count": 33,
   "id": "6edcdb09",
   "metadata": {},
   "outputs": [
    {
     "name": "stdout",
     "output_type": "stream",
     "text": [
      "(2, 1)\n"
     ]
    }
   ],
   "source": [
    "c=divmod(7,3)\n",
    "print(c)"
   ]
  },
  {
   "cell_type": "code",
   "execution_count": 34,
   "id": "57b095bc",
   "metadata": {},
   "outputs": [
    {
     "name": "stdout",
     "output_type": "stream",
     "text": [
      "33일 8시간\n"
     ]
    }
   ],
   "source": [
    "k=divmod(800,24)\n",
    "tpl=\"{0}일 {1}시간\"\n",
    "print(tpl.format(k[0],k[1]))"
   ]
  },
  {
   "cell_type": "code",
   "execution_count": 36,
   "id": "303d9a31",
   "metadata": {},
   "outputs": [
    {
     "name": "stdout",
     "output_type": "stream",
     "text": [
      "37일 12시간\n"
     ]
    }
   ],
   "source": [
    "days,hours=divmod(900,24)\n",
    "tpl=\"{0}일 {1}시간\"\n",
    "print(tpl.format(days,hours))"
   ]
  },
  {
   "cell_type": "code",
   "execution_count": 37,
   "id": "ca408f4f",
   "metadata": {},
   "outputs": [
    {
     "name": "stdout",
     "output_type": "stream",
     "text": [
      "Life is too short\n",
      "You need Python\n"
     ]
    }
   ],
   "source": [
    "msg1=\"Life is too short\"\n",
    "msg2='You need Python'\n",
    "print(msg1)\n",
    "print(msg2)"
   ]
  },
  {
   "cell_type": "code",
   "execution_count": 38,
   "id": "a7859b34",
   "metadata": {},
   "outputs": [
    {
     "name": "stdout",
     "output_type": "stream",
     "text": [
      "H\n",
      "e\n",
      "l\n",
      "l\n",
      "o\n"
     ]
    }
   ],
   "source": [
    "mymsg=\"Hello\"\n",
    "for m in mymsg:\n",
    "    print(m)"
   ]
  },
  {
   "cell_type": "code",
   "execution_count": 39,
   "id": "c5ba1199",
   "metadata": {},
   "outputs": [
    {
     "name": "stdout",
     "output_type": "stream",
     "text": [
      "Hello, Python\n"
     ]
    }
   ],
   "source": [
    "msg1=\"Hello\"\n",
    "msg2=\"Python\"\n",
    "print(msg1+\", \"+msg2)"
   ]
  },
  {
   "cell_type": "code",
   "execution_count": 40,
   "id": "086d4416",
   "metadata": {},
   "outputs": [
    {
     "name": "stdout",
     "output_type": "stream",
     "text": [
      "20000100\n"
     ]
    }
   ],
   "source": [
    "pay=\"20000\"\n",
    "bonus=\"100\"\n",
    "print(pay+bonus)"
   ]
  },
  {
   "cell_type": "code",
   "execution_count": 42,
   "id": "0cd9483d",
   "metadata": {},
   "outputs": [
    {
     "name": "stdout",
     "output_type": "stream",
     "text": [
      "PythonPythonPythonPythonPython\n"
     ]
    }
   ],
   "source": [
    "name=\"Python\"\n",
    "print(name*5)"
   ]
  },
  {
   "cell_type": "code",
   "execution_count": 43,
   "id": "c3463cd4",
   "metadata": {},
   "outputs": [
    {
     "name": "stdout",
     "output_type": "stream",
     "text": [
      "Life is \"too\" short\n"
     ]
    }
   ],
   "source": [
    "case1=\"Life is \\\"too\\\" short\"\n",
    "print(case1)"
   ]
  },
  {
   "cell_type": "code",
   "execution_count": 44,
   "id": "3f2db6b2",
   "metadata": {},
   "outputs": [
    {
     "name": "stdout",
     "output_type": "stream",
     "text": [
      "Life is 'too' short\n"
     ]
    }
   ],
   "source": [
    "case2 = 'Life is \\'too\\' short'\n",
    "print(case2)"
   ]
  },
  {
   "cell_type": "code",
   "execution_count": 45,
   "id": "706ed189",
   "metadata": {},
   "outputs": [
    {
     "name": "stdout",
     "output_type": "stream",
     "text": [
      "Life is too short\n",
      "You need Python\n"
     ]
    }
   ],
   "source": [
    "print(\"Life is too short\\nYou need Python\")"
   ]
  },
  {
   "cell_type": "code",
   "execution_count": 46,
   "id": "2cc3507f",
   "metadata": {},
   "outputs": [
    {
     "name": "stdout",
     "output_type": "stream",
     "text": [
      "Life is too short\tYou need Python\n"
     ]
    }
   ],
   "source": [
    "print(\"Life is too short\\tYou need Python\")"
   ]
  },
  {
   "cell_type": "code",
   "execution_count": 47,
   "id": "3843268f",
   "metadata": {},
   "outputs": [
    {
     "name": "stdout",
     "output_type": "stream",
     "text": [
      "Life is too short\\You need Python\n"
     ]
    }
   ],
   "source": [
    "print(\"Life is too short\\\\You need Python\")"
   ]
  },
  {
   "cell_type": "code",
   "execution_count": 48,
   "id": "2baf9c8c",
   "metadata": {},
   "outputs": [
    {
     "name": "stdout",
     "output_type": "stream",
     "text": [
      "You 'need' Python\n"
     ]
    }
   ],
   "source": [
    "str1=\"You 'need' Python\"\n",
    "print(str1)"
   ]
  },
  {
   "cell_type": "code",
   "execution_count": 49,
   "id": "33092202",
   "metadata": {},
   "outputs": [
    {
     "name": "stdout",
     "output_type": "stream",
     "text": [
      "You \"need\" Python\n"
     ]
    }
   ],
   "source": [
    "str2='You \"need\" Python'\n",
    "print(str2)"
   ]
  },
  {
   "cell_type": "code",
   "execution_count": 50,
   "id": "99b69cb2",
   "metadata": {},
   "outputs": [
    {
     "data": {
      "text/plain": [
       "'Life is too short, You need Python'"
      ]
     },
     "execution_count": 50,
     "metadata": {},
     "output_type": "execute_result"
    }
   ],
   "source": [
    "mystr=\"Life is too short, You need Python\"\n",
    "mystr"
   ]
  },
  {
   "cell_type": "code",
   "execution_count": 51,
   "id": "417a6e40",
   "metadata": {},
   "outputs": [
    {
     "name": "stdout",
     "output_type": "stream",
     "text": [
      "e\n"
     ]
    }
   ],
   "source": [
    "print(mystr[3])"
   ]
  },
  {
   "cell_type": "code",
   "execution_count": 52,
   "id": "1bfaa537",
   "metadata": {},
   "outputs": [
    {
     "name": "stdout",
     "output_type": "stream",
     "text": [
      "h\n"
     ]
    }
   ],
   "source": [
    "print(mystr[-3])"
   ]
  },
  {
   "cell_type": "code",
   "execution_count": 53,
   "id": "c3ed5b7f",
   "metadata": {},
   "outputs": [
    {
     "name": "stdout",
     "output_type": "stream",
     "text": [
      "Life\n"
     ]
    }
   ],
   "source": [
    "print(mystr[0:4])"
   ]
  },
  {
   "cell_type": "code",
   "execution_count": 54,
   "id": "ba4b9145",
   "metadata": {},
   "outputs": [
    {
     "name": "stdout",
     "output_type": "stream",
     "text": [
      "is\n"
     ]
    }
   ],
   "source": [
    "print(mystr[5:7])"
   ]
  },
  {
   "cell_type": "code",
   "execution_count": 55,
   "id": "264a0dbf",
   "metadata": {},
   "outputs": [
    {
     "name": "stdout",
     "output_type": "stream",
     "text": [
      "You need Python\n"
     ]
    }
   ],
   "source": [
    "print(mystr[19:])"
   ]
  },
  {
   "cell_type": "code",
   "execution_count": 56,
   "id": "75566cf5",
   "metadata": {},
   "outputs": [
    {
     "name": "stdout",
     "output_type": "stream",
     "text": [
      "Life is too short\n"
     ]
    }
   ],
   "source": [
    "print(mystr[:17])"
   ]
  },
  {
   "cell_type": "code",
   "execution_count": 57,
   "id": "74c3167c",
   "metadata": {},
   "outputs": [
    {
     "name": "stdout",
     "output_type": "stream",
     "text": [
      "Life is too short, You need Python\n"
     ]
    }
   ],
   "source": [
    "print(mystr[:])"
   ]
  },
  {
   "cell_type": "code",
   "execution_count": 58,
   "id": "eefa4313",
   "metadata": {},
   "outputs": [
    {
     "name": "stdout",
     "output_type": "stream",
     "text": [
      "You need\n"
     ]
    }
   ],
   "source": [
    "print(mystr[19:-7])"
   ]
  },
  {
   "cell_type": "code",
   "execution_count": 59,
   "id": "3c416390",
   "metadata": {},
   "outputs": [
    {
     "name": "stdout",
     "output_type": "stream",
     "text": [
      "\n"
     ]
    }
   ],
   "source": [
    "print(mystr[7:5])"
   ]
  },
  {
   "cell_type": "code",
   "execution_count": 60,
   "id": "d35bd2c1",
   "metadata": {},
   "outputs": [
    {
     "name": "stdout",
     "output_type": "stream",
     "text": [
      "나는 10000원을 갖고 있다.\n"
     ]
    }
   ],
   "source": [
    "str1=\"나는 %d원을 갖고 있다.\" %10000\n",
    "print(str1)"
   ]
  },
  {
   "cell_type": "code",
   "execution_count": 61,
   "id": "8664f435",
   "metadata": {},
   "outputs": [
    {
     "name": "stdout",
     "output_type": "stream",
     "text": [
      "[123.456789]원 입니다.\n"
     ]
    }
   ],
   "source": [
    "money=123.456789\n",
    "print(\"[%f]원 입니다.\"%money)"
   ]
  },
  {
   "cell_type": "code",
   "execution_count": 62,
   "id": "413fa2d4",
   "metadata": {},
   "outputs": [
    {
     "name": "stdout",
     "output_type": "stream",
     "text": [
      "Hello Python\n"
     ]
    }
   ],
   "source": [
    "lang=\"Python\"\n",
    "str2=\"Hello %s\"%lang\n",
    "print(str2)"
   ]
  },
  {
   "cell_type": "code",
   "execution_count": 63,
   "id": "0d12efd6",
   "metadata": {},
   "outputs": [
    {
     "name": "stdout",
     "output_type": "stream",
     "text": [
      "정모 날짜는 2023년 1월 1일 입니다.\n",
      "약속 날짜는 2023년 3월 5일 입니다.\n"
     ]
    }
   ],
   "source": [
    "str3=\"%s 날짜는 %d년 %d월 %d일 입니다.\"\n",
    "msg1=str3%(\"정모\", 2023, 1, 1)\n",
    "print(msg1)\n",
    "msg2=str3%(\"약속\", 2023, 3, 5)\n",
    "print(msg2)"
   ]
  },
  {
   "cell_type": "code",
   "execution_count": 64,
   "id": "fbd35697",
   "metadata": {},
   "outputs": [
    {
     "name": "stdout",
     "output_type": "stream",
     "text": [
      "[    120000]원을 입금했습니다.\n"
     ]
    }
   ],
   "source": [
    "print(\"[%10d]원을 입금했습니다.\"%120000)"
   ]
  },
  {
   "cell_type": "code",
   "execution_count": 65,
   "id": "2fecd912",
   "metadata": {},
   "outputs": [
    {
     "name": "stdout",
     "output_type": "stream",
     "text": [
      "[0000120000]원을 입금했습니다.\n"
     ]
    }
   ],
   "source": [
    "print(\"[%010d]원을 입금했습니다.\"%120000)"
   ]
  },
  {
   "cell_type": "code",
   "execution_count": 66,
   "id": "a85f2fc8",
   "metadata": {},
   "outputs": [
    {
     "name": "stdout",
     "output_type": "stream",
     "text": [
      "[       서울시]에 살고 있습니다.\n"
     ]
    }
   ],
   "source": [
    "print(\"[%10s]에 살고 있습니다.\"%\"서울시\")"
   ]
  },
  {
   "cell_type": "code",
   "execution_count": 67,
   "id": "bb5ecdad",
   "metadata": {},
   "outputs": [
    {
     "name": "stdout",
     "output_type": "stream",
     "text": [
      "[12345.679]원 입니다.\n"
     ]
    }
   ],
   "source": [
    "mymoney=12345.6789\n",
    "print(\"[%0.3f]원 입니다.\"%mymoney)"
   ]
  },
  {
   "cell_type": "code",
   "execution_count": 68,
   "id": "ef2e200f",
   "metadata": {},
   "outputs": [
    {
     "name": "stdout",
     "output_type": "stream",
     "text": [
      "[ 12345.679]원 입니다.\n"
     ]
    }
   ],
   "source": [
    "print(\"[%10.3f]원 입니다.\"%mymoney)"
   ]
  },
  {
   "cell_type": "code",
   "execution_count": 69,
   "id": "7b2cae47",
   "metadata": {},
   "outputs": [
    {
     "name": "stdout",
     "output_type": "stream",
     "text": [
      "[012345.679]원 입니다.\n"
     ]
    }
   ],
   "source": [
    "print(\"[%010.3f]원 입니다.\"%mymoney)"
   ]
  },
  {
   "cell_type": "code",
   "execution_count": 70,
   "id": "cbe3fe7d",
   "metadata": {},
   "outputs": [
    {
     "name": "stdout",
     "output_type": "stream",
     "text": [
      "I eat 3 apples\n"
     ]
    }
   ],
   "source": [
    "msg1=\"I eat {0} apples\"\n",
    "print(msg1.format(3))"
   ]
  },
  {
   "cell_type": "code",
   "execution_count": 71,
   "id": "246160df",
   "metadata": {},
   "outputs": [
    {
     "name": "stdout",
     "output_type": "stream",
     "text": [
      "오늘은 2025년 10월 20일 입니다.\n"
     ]
    }
   ],
   "source": [
    "msg2=\"{0}은 {1}년 {2}월 {3}일 입니다.\"\n",
    "print(msg2.format(\"오늘\",2025,10,20))"
   ]
  },
  {
   "cell_type": "code",
   "execution_count": 72,
   "id": "625cb19f",
   "metadata": {},
   "outputs": [
    {
     "name": "stdout",
     "output_type": "stream",
     "text": [
      "이 과자는 2000원 입니다.\n"
     ]
    }
   ],
   "source": [
    "fmt=\"이 과자는 {price}{unit} 입니다.\"\n",
    "rst=fmt.format(unit=\"원\", price=\"2000\")\n",
    "print(rst)"
   ]
  },
  {
   "cell_type": "code",
   "execution_count": 74,
   "id": "d7a7bde6",
   "metadata": {},
   "outputs": [
    {
     "name": "stdout",
     "output_type": "stream",
     "text": [
      "내일은 2025년 10월 21일 화요일 입니다.\n"
     ]
    }
   ],
   "source": [
    "msg3=\"{name}은 {yy}년 {mm}월 {dd}일 {rr}요일 입니다.\"\n",
    "print(msg3.format(name=\"내일\",yy=2025,mm=10,dd=21,rr=\"화\"))"
   ]
  },
  {
   "cell_type": "code",
   "execution_count": 75,
   "id": "c6223a62",
   "metadata": {},
   "outputs": [
    {
     "name": "stdout",
     "output_type": "stream",
     "text": [
      "내 생일은 2025년 11월 6일 입니다.\n"
     ]
    }
   ],
   "source": [
    "msg4=\"{0}은 {yy}년 {mm}월 {dd}일 입니다.\"\n",
    "print(msg4.format(\"내 생일\", yy=2025,mm=11,dd=6))"
   ]
  },
  {
   "cell_type": "code",
   "execution_count": 76,
   "id": "34a474bf",
   "metadata": {},
   "outputs": [
    {
     "name": "stdout",
     "output_type": "stream",
     "text": [
      "좋은 교과서는 이 책입니다.\n"
     ]
    }
   ],
   "source": [
    "fmt5=\"{1} {name}는 이 {0}입니다.\"\n",
    "print(fmt5.format(\"책\", \"좋은\", name=\"교과서\"))"
   ]
  },
  {
   "cell_type": "code",
   "execution_count": 77,
   "id": "bb6e0e11",
   "metadata": {},
   "outputs": [
    {
     "name": "stdout",
     "output_type": "stream",
     "text": [
      "4\n",
      "0\n"
     ]
    }
   ],
   "source": [
    "mystr=\"파이썬은 웹 프로그래밍이나 데이터 분석에 많이 사용되는 언어입니다.\"\n",
    "print(mystr.count(\"이\"))\n",
    "print(mystr.count(\"가\"))"
   ]
  },
  {
   "cell_type": "code",
   "execution_count": 78,
   "id": "3cb66e73",
   "metadata": {},
   "outputs": [
    {
     "name": "stdout",
     "output_type": "stream",
     "text": [
      "1\n",
      "0\n"
     ]
    }
   ],
   "source": [
    "print(mystr.count(\"파이썬\"))\n",
    "print(mystr.count(\"Python\"))"
   ]
  },
  {
   "cell_type": "code",
   "execution_count": 79,
   "id": "2d3346bc",
   "metadata": {},
   "outputs": [
    {
     "name": "stdout",
     "output_type": "stream",
     "text": [
      "1\n",
      "-1\n",
      "12\n",
      "-1\n"
     ]
    }
   ],
   "source": [
    "message=\"내가 좋아하는 것에만 집중하기로 했다.\"\n",
    "print(message.find(\"가\"))\n",
    "print(message.find(\"나\"))\n",
    "print(message.find(\"집중\"))\n",
    "print(message.find(\"파이썬\"))"
   ]
  },
  {
   "cell_type": "code",
   "execution_count": 80,
   "id": "2a642f97",
   "metadata": {},
   "outputs": [
    {
     "name": "stdout",
     "output_type": "stream",
     "text": [
      "11\n",
      "-1\n",
      "11\n",
      "-1\n"
     ]
    }
   ],
   "source": [
    "sentence=\"사람의 사람에 의한 사람을 위한\"\n",
    "print(sentence.rfind(\"사\"))\n",
    "print(sentence.rfind(\"자\"))\n",
    "print(sentence.rfind(\"사람\"))\n",
    "print(sentence.rfind(\"인간\"))"
   ]
  },
  {
   "cell_type": "code",
   "execution_count": 81,
   "id": "dd72923b",
   "metadata": {},
   "outputs": [
    {
     "name": "stdout",
     "output_type": "stream",
     "text": [
      "True\n",
      "False\n"
     ]
    }
   ],
   "source": [
    "test3=\"HELLO\"\n",
    "print(test3.isupper())\n",
    "test4=\"Hello\"\n",
    "print(test4.isupper())"
   ]
  },
  {
   "cell_type": "code",
   "execution_count": 82,
   "id": "15daad9a",
   "metadata": {},
   "outputs": [
    {
     "name": "stdout",
     "output_type": "stream",
     "text": [
      "True\n",
      "False\n"
     ]
    }
   ],
   "source": [
    "test5=\"hello\"\n",
    "print(test5.islower())\n",
    "test6='Hello'\n",
    "print(test6.islower())"
   ]
  },
  {
   "cell_type": "code",
   "execution_count": 83,
   "id": "227faa34",
   "metadata": {},
   "outputs": [
    {
     "name": "stdout",
     "output_type": "stream",
     "text": [
      "HELLO PYTHON\n",
      "hello python\n",
      "Hello Python\n"
     ]
    }
   ],
   "source": [
    "mystr=\"Hello Python\"\n",
    "up=mystr.upper()\n",
    "print(up)\n",
    "lw=mystr.lower()\n",
    "print(lw)\n",
    "print(mystr)"
   ]
  },
  {
   "cell_type": "code",
   "execution_count": 84,
   "id": "e0d3a456",
   "metadata": {},
   "outputs": [
    {
     "name": "stdout",
     "output_type": "stream",
     "text": [
      "hELLO pYTHON\n",
      "Hello python\n",
      "Hello Python\n"
     ]
    }
   ],
   "source": [
    "print(mystr.swapcase())\n",
    "print(mystr.capitalize())\n",
    "print(mystr.title())"
   ]
  },
  {
   "cell_type": "code",
   "execution_count": 86,
   "id": "f8a1c26c",
   "metadata": {},
   "outputs": [
    {
     "name": "stdout",
     "output_type": "stream",
     "text": [
      "[    python    ]\n",
      "[python]\n",
      "[python    ]\n",
      "[    python]\n"
     ]
    }
   ],
   "source": [
    "k=\"    python    \"\n",
    "print(\"[\"+k+\"]\")\n",
    "x=k.strip()\n",
    "print(\"[\"+x+\"]\")\n",
    "y=k.lstrip()\n",
    "print(\"[\"+y+\"]\")\n",
    "z=k.rstrip()\n",
    "print(\"[\"+z+\"]\")"
   ]
  },
  {
   "cell_type": "code",
   "execution_count": 87,
   "id": "bea5c19f",
   "metadata": {},
   "outputs": [
    {
     "name": "stdout",
     "output_type": "stream",
     "text": [
      "Hello Python\n",
      "Hello World\n"
     ]
    }
   ],
   "source": [
    "mymessage=\"Hello World\"\n",
    "newmessage=mymessage.replace(\"World\",\"Python\")\n",
    "print(newmessage)\n",
    "print(mymessage)"
   ]
  },
  {
   "cell_type": "code",
   "execution_count": 89,
   "id": "b7dc0a48",
   "metadata": {},
   "outputs": [
    {
     "name": "stdout",
     "output_type": "stream",
     "text": [
      "['파이썬', '데이터분석', '머신러닝']\n"
     ]
    }
   ],
   "source": [
    "sample1='파이썬,데이터분석,머신러닝'\n",
    "slist1=sample1.split(\",\")\n",
    "print(slist1)"
   ]
  },
  {
   "cell_type": "code",
   "execution_count": 90,
   "id": "2d7b010f",
   "metadata": {},
   "outputs": [
    {
     "name": "stdout",
     "output_type": "stream",
     "text": [
      "['파이썬', '데이터분석', '머신러닝']\n"
     ]
    }
   ],
   "source": [
    "sample2=\"파이썬 데이터분석 머신러닝\"\n",
    "slist2=sample2.split()\n",
    "print(slist2)"
   ]
  },
  {
   "cell_type": "code",
   "execution_count": 91,
   "id": "a122c52d",
   "metadata": {},
   "outputs": [
    {
     "name": "stdout",
     "output_type": "stream",
     "text": [
      "True\n"
     ]
    }
   ],
   "source": [
    "test1=\"123\"\n",
    "print(test1.isnumeric())"
   ]
  },
  {
   "cell_type": "code",
   "execution_count": 92,
   "id": "368ef787",
   "metadata": {},
   "outputs": [
    {
     "name": "stdout",
     "output_type": "stream",
     "text": [
      "False\n"
     ]
    }
   ],
   "source": [
    "test2=\"Hello123\"\n",
    "print(test2.isnumeric())"
   ]
  },
  {
   "cell_type": "code",
   "execution_count": null,
   "id": "032bca30",
   "metadata": {},
   "outputs": [],
   "source": []
  }
 ],
 "metadata": {
  "kernelspec": {
   "display_name": "Python 3",
   "language": "python",
   "name": "python3"
  },
  "language_info": {
   "codemirror_mode": {
    "name": "ipython",
    "version": 3
   },
   "file_extension": ".py",
   "mimetype": "text/x-python",
   "name": "python",
   "nbconvert_exporter": "python",
   "pygments_lexer": "ipython3",
   "version": "3.13.9"
  }
 },
 "nbformat": 4,
 "nbformat_minor": 5
}
