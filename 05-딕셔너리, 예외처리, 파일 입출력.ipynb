{
 "cells": [
  {
   "cell_type": "markdown",
   "id": "28430703",
   "metadata": {},
   "source": [
    "# LAB05‒ 딕셔너리 / 예외처리 / 파일 입출력\n",
    "## 1. 딕셔너리의 이해"
   ]
  },
  {
   "cell_type": "code",
   "execution_count": 2,
   "id": "53c7bb35",
   "metadata": {},
   "outputs": [
    {
     "name": "stdout",
     "output_type": "stream",
     "text": [
      "{'name': '철수', 'phone': '010-1234-5678', 'birth': '0115'}\n"
     ]
    }
   ],
   "source": [
    "mydic={\"name\":\"철수\", \"phone\":\"010-1234-5678\", \"birth\":\"0115\"}\n",
    "print(mydic)"
   ]
  },
  {
   "cell_type": "code",
   "execution_count": 3,
   "id": "ad528b38",
   "metadata": {},
   "outputs": [
    {
     "name": "stdout",
     "output_type": "stream",
     "text": [
      "철수\n"
     ]
    }
   ],
   "source": [
    "print(mydic[\"name\"])"
   ]
  },
  {
   "cell_type": "code",
   "execution_count": 4,
   "id": "be014c67",
   "metadata": {},
   "outputs": [
    {
     "name": "stdout",
     "output_type": "stream",
     "text": [
      "010-1234-5678\n"
     ]
    }
   ],
   "source": [
    "phone=mydic[\"phone\"]\n",
    "print(phone)"
   ]
  },
  {
   "cell_type": "code",
   "execution_count": 5,
   "id": "721f68f2",
   "metadata": {},
   "outputs": [
    {
     "name": "stdout",
     "output_type": "stream",
     "text": [
      "{'name': '호영', 'phone': '010-1234-5678', 'birth': '0115'}\n"
     ]
    }
   ],
   "source": [
    "mydic[\"name\"]=\"호영\"\n",
    "print(mydic)"
   ]
  },
  {
   "cell_type": "code",
   "execution_count": 6,
   "id": "5ef50048",
   "metadata": {},
   "outputs": [
    {
     "name": "stdout",
     "output_type": "stream",
     "text": [
      "{'a': 100, 'b': 200, 'c': 300}\n"
     ]
    }
   ],
   "source": [
    "foo={\"a\":100, \"b\":200}\n",
    "foo[\"c\"]=300\n",
    "print(foo)"
   ]
  },
  {
   "cell_type": "code",
   "execution_count": 7,
   "id": "727b36ab",
   "metadata": {},
   "outputs": [
    {
     "name": "stdout",
     "output_type": "stream",
     "text": [
      "python\n"
     ]
    },
    {
     "data": {
      "text/plain": [
       "{'msg': 'python'}"
      ]
     },
     "execution_count": 7,
     "metadata": {},
     "output_type": "execute_result"
    }
   ],
   "source": [
    "data={\"msg\":\"hello\",\"msg\":\"world\",\"msg\":\"python\"}\n",
    "print(data[\"msg\"])\n",
    "data"
   ]
  },
  {
   "cell_type": "code",
   "execution_count": 8,
   "id": "c2ac7a3d",
   "metadata": {},
   "outputs": [
    {
     "name": "stdout",
     "output_type": "stream",
     "text": [
      "0 번째 원소 : {'name': '철수', 'kor': 95, 'eng': 88}\n",
      "1 번째 원소 : {'name': '영희', 'kor': 92, 'eng': 90}\n",
      "2 번째 원소 : {'name': '철민', 'kor': 88, 'eng': 76}\n"
     ]
    }
   ],
   "source": [
    "grade=[\n",
    "    {\"name\":\"철수\", \"kor\":95, \"eng\":88},\n",
    "    {\"name\":\"영희\", \"kor\":92, \"eng\":90},\n",
    "    {\"name\":\"철민\", \"kor\":88, \"eng\":76}\n",
    "]\n",
    "\n",
    "for i in range(0,len(grade)):\n",
    "    print(i,\"번째 원소 : %s\" %grade[i])"
   ]
  },
  {
   "cell_type": "code",
   "execution_count": 9,
   "id": "3e4a20e7",
   "metadata": {},
   "outputs": [
    {
     "name": "stdout",
     "output_type": "stream",
     "text": [
      "철수의 국어점수:95, 영어점수:88\n",
      "영희의 국어점수:92, 영어점수:90\n",
      "철민의 국어점수:88, 영어점수:76\n"
     ]
    }
   ],
   "source": [
    "tpl=\"{0}의 국어점수:{1}, 영어점수:{2}\"\n",
    "for i in range(0,len(grade)):\n",
    "    print(tpl.format(grade[i][\"name\"], grade[i][\"kor\"], grade[i][\"eng\"]))"
   ]
  },
  {
   "cell_type": "code",
   "execution_count": 10,
   "id": "f469979c",
   "metadata": {},
   "outputs": [
    {
     "name": "stdout",
     "output_type": "stream",
     "text": [
      "[철수] 나이 : 16세, 키 : 172.4cm\n",
      "[민수] 나이 : 17세, 키 : 168.2cm\n",
      "[호영] 나이 : 19세, 키 : 170.5cm\n"
     ]
    }
   ],
   "source": [
    "student={\n",
    "    \"name\":['철수', '민수', '호영'],\n",
    "    \"age\":[16,17,19],\n",
    "    \"height\":[172.4,168.2,170.5]\n",
    "}\n",
    "\n",
    "tpl=\"[%s] 나이 : %d세, 키 : %0.1fcm\"\n",
    "for i in range(0,len(student[\"name\"])):\n",
    "    print(tpl % (student[\"name\"][i], student[\"age\"][i], student[\"height\"][i]))"
   ]
  },
  {
   "cell_type": "code",
   "execution_count": 16,
   "id": "8c109543",
   "metadata": {},
   "outputs": [
    {
     "name": "stdout",
     "output_type": "stream",
     "text": [
      "iPhone의 가격은 200$입니다.\n",
      "Galaxy의 가격은 200만원입니다.\n"
     ]
    }
   ],
   "source": [
    "phone={\n",
    "    \"apple\":{\n",
    "        \"name\" : \"iPhone\",\n",
    "        \"price\" : \"200$\"\n",
    "    },\n",
    "    \"samsung\":{\n",
    "        \"name\" : \"Galaxy\",\n",
    "        \"price\" : \"200만원\"\n",
    "    }\n",
    "}\n",
    "\n",
    "tpl=\"%s의 가격은 %s입니다.\"\n",
    "for i in phone:\n",
    "    print(tpl % (phone[i][\"name\"], phone[i][\"price\"]))"
   ]
  },
  {
   "cell_type": "code",
   "execution_count": 17,
   "id": "323f8eac",
   "metadata": {},
   "outputs": [
    {
     "name": "stdout",
     "output_type": "stream",
     "text": [
      "email: user1@python.com, comment: Good~!!\n",
      "email: user2@python.com, comment: Nice~~\n",
      "email: user3@python.com, comment: Not Bad\n"
     ]
    }
   ],
   "source": [
    "review={\n",
    "    \"items\":[\n",
    "        {\"email\":\"user1@python.com\", \"comment\":\"Good~!!\"},\n",
    "        {\"email\":\"user2@python.com\", \"comment\":\"Nice~~\"},\n",
    "        {\"email\":\"user3@python.com\", \"comment\":\"Not Bad\"}\n",
    "    ]\n",
    "}\n",
    "\n",
    "tpl=\"email: {0}, comment: {1}\"\n",
    "for item in review[\"items\"]:\n",
    "    print(tpl.format(item[\"email\"],item[\"comment\"]))"
   ]
  },
  {
   "cell_type": "code",
   "execution_count": 18,
   "id": "b72b8d74",
   "metadata": {},
   "outputs": [
    {
     "name": "stdout",
     "output_type": "stream",
     "text": [
      "파이썬 프로그래밍\n",
      "No.1 - 1일차 : 프로그래밍 언어의 이해\n",
      "No.2 - 2일차 : 변수와 연산자\n",
      "No.3 - 3일차 : 함수의 이해\n",
      "No.4 - 4일차 : 조건문과 반복문\n"
     ]
    }
   ],
   "source": [
    "lectures={\n",
    "    \"title\":\"파이썬 프로그래밍\",\n",
    "    \"subject\":[\n",
    "        {\"no\":1, \"date\":\"1일차\", \"title\":\"프로그래밍 언어의 이해\"},\n",
    "        {\"no\":2, \"date\":\"2일차\", \"title\":\"변수와 연산자\"},\n",
    "        {\"no\":3, \"date\":\"3일차\", \"title\":\"함수의 이해\"},\n",
    "        {\"no\":4, \"date\":\"4일차\", \"title\":\"조건문과 반복문\"}\n",
    "    ]\n",
    "}\n",
    "\n",
    "print(lectures[\"title\"])\n",
    "\n",
    "tpl=\"No.{0} - {1} : {2}\"\n",
    "for sb in lectures[\"subject\"]:\n",
    "    print(tpl.format(sb[\"no\"],sb[\"date\"],sb[\"title\"]))"
   ]
  },
  {
   "cell_type": "markdown",
   "id": "61dd1941",
   "metadata": {},
   "source": [
    "## 딕셔너리의 활용"
   ]
  },
  {
   "cell_type": "code",
   "execution_count": 19,
   "id": "0d461326",
   "metadata": {},
   "outputs": [
    {
     "data": {
      "text/plain": [
       "3"
      ]
     },
     "execution_count": 19,
     "metadata": {},
     "output_type": "execute_result"
    }
   ],
   "source": [
    "point={\"korean\":98, \"math\":77, \"english\":82}\n",
    "len(point)"
   ]
  },
  {
   "cell_type": "code",
   "execution_count": 20,
   "id": "d6df7806",
   "metadata": {},
   "outputs": [
    {
     "name": "stdout",
     "output_type": "stream",
     "text": [
      "{'korean': 98, 'math': 77, 'english': 82}\n",
      "{'korean': 98, 'math': 77}\n"
     ]
    }
   ],
   "source": [
    "print(point)\n",
    "del(point['english'])\n",
    "print(point)"
   ]
  },
  {
   "cell_type": "code",
   "execution_count": 22,
   "id": "f2205c1e",
   "metadata": {},
   "outputs": [
    {
     "name": "stdout",
     "output_type": "stream",
     "text": [
      "철수\n",
      "None\n"
     ]
    }
   ],
   "source": [
    "dic={'name':'철수', 'phone':'010-1234-5678', 'birth':'0115'}\n",
    "print(dic.get('name'))\n",
    "print(dic.get('gender'))"
   ]
  },
  {
   "cell_type": "code",
   "execution_count": 23,
   "id": "ec04a794",
   "metadata": {},
   "outputs": [
    {
     "name": "stdout",
     "output_type": "stream",
     "text": [
      "300\n"
     ]
    }
   ],
   "source": [
    "foo={'a':100,'b':200}\n",
    "print(foo.get('c',300))"
   ]
  },
  {
   "cell_type": "code",
   "execution_count": 24,
   "id": "3ef6a5c5",
   "metadata": {},
   "outputs": [
    {
     "name": "stdout",
     "output_type": "stream",
     "text": [
      "dict_keys(['국어', '수학', '영어'])\n"
     ]
    }
   ],
   "source": [
    "성적표={'국어':92, '수학':88, '영어':72}\n",
    "keys=성적표.keys()\n",
    "print(keys)"
   ]
  },
  {
   "cell_type": "code",
   "execution_count": 25,
   "id": "5dc7a3a7",
   "metadata": {},
   "outputs": [
    {
     "name": "stdout",
     "output_type": "stream",
     "text": [
      "['국어', '수학', '영어']\n"
     ]
    }
   ],
   "source": [
    "key_list=list(keys)\n",
    "print(key_list)"
   ]
  },
  {
   "cell_type": "code",
   "execution_count": 27,
   "id": "e3cb260d",
   "metadata": {},
   "outputs": [
    {
     "name": "stdout",
     "output_type": "stream",
     "text": [
      "[92, 88, 72]\n"
     ]
    }
   ],
   "source": [
    "valuelist=list(성적표.values())\n",
    "print(valuelist)"
   ]
  },
  {
   "cell_type": "code",
   "execution_count": 28,
   "id": "fa274091",
   "metadata": {},
   "outputs": [
    {
     "name": "stdout",
     "output_type": "stream",
     "text": [
      "{'국어': 92, '수학': 88, '영어': 72, '물리': 78, '화학': 82}\n"
     ]
    }
   ],
   "source": [
    "성적표1={'국어':92,'수학':88,'영어':72}\n",
    "성적표2={'물리':78,'화학':82}\n",
    "성적표1.update(성적표2)\n",
    "print(성적표1)"
   ]
  },
  {
   "cell_type": "code",
   "execution_count": 29,
   "id": "a93efdf0",
   "metadata": {},
   "outputs": [
    {
     "name": "stdout",
     "output_type": "stream",
     "text": [
      "{'국어': 92, '수학': 88, '영어': 72, '물리': 78, '화학': 82}\n"
     ]
    }
   ],
   "source": [
    "성적표최종=성적표1.copy()\n",
    "print(성적표최종)"
   ]
  },
  {
   "cell_type": "code",
   "execution_count": 30,
   "id": "8d9d2311",
   "metadata": {},
   "outputs": [
    {
     "name": "stdout",
     "output_type": "stream",
     "text": [
      "{'a': 100, 'b': 200}\n",
      "{}\n"
     ]
    }
   ],
   "source": [
    "bar={'a':100,'b':200}\n",
    "print(bar)\n",
    "\n",
    "bar.clear()\n",
    "print(bar)"
   ]
  },
  {
   "cell_type": "markdown",
   "id": "04111d02",
   "metadata": {},
   "source": [
    "## 3. 예외 처리"
   ]
  },
  {
   "cell_type": "code",
   "execution_count": 31,
   "id": "980e0b5f",
   "metadata": {},
   "outputs": [
    {
     "ename": "ZeroDivisionError",
     "evalue": "division by zero",
     "output_type": "error",
     "traceback": [
      "\u001b[31m---------------------------------------------------------------------------\u001b[39m",
      "\u001b[31mZeroDivisionError\u001b[39m                         Traceback (most recent call last)",
      "\u001b[36mCell\u001b[39m\u001b[36m \u001b[39m\u001b[32mIn[31]\u001b[39m\u001b[32m, line 2\u001b[39m\n\u001b[32m      1\u001b[39m x=\u001b[38;5;28mint\u001b[39m(\u001b[38;5;28minput\u001b[39m(\u001b[33m\"\u001b[39m\u001b[33m숫자를 입력하세요.\u001b[39m\u001b[33m\"\u001b[39m))\n\u001b[32m----> \u001b[39m\u001b[32m2\u001b[39m y=\u001b[32;43m100\u001b[39;49m\u001b[43m/\u001b[49m\u001b[43mx\u001b[49m\n\u001b[32m      3\u001b[39m \u001b[38;5;28mprint\u001b[39m(\u001b[33m\"\u001b[39m\u001b[33m결과는 \u001b[39m\u001b[38;5;132;01m%d\u001b[39;00m\u001b[33m입니다.\u001b[39m\u001b[33m\"\u001b[39m%y)\n",
      "\u001b[31mZeroDivisionError\u001b[39m: division by zero"
     ]
    }
   ],
   "source": [
    "x=int(input(\"숫자를 입력하세요.\"))\n",
    "y=100/x\n",
    "print(\"결과는 %d입니다.\"%y)"
   ]
  },
  {
   "cell_type": "code",
   "execution_count": 32,
   "id": "139c2dd4",
   "metadata": {},
   "outputs": [
    {
     "ename": "IndexError",
     "evalue": "list index out of range",
     "output_type": "error",
     "traceback": [
      "\u001b[31m---------------------------------------------------------------------------\u001b[39m",
      "\u001b[31mIndexError\u001b[39m                                Traceback (most recent call last)",
      "\u001b[36mCell\u001b[39m\u001b[36m \u001b[39m\u001b[32mIn[32]\u001b[39m\u001b[32m, line 5\u001b[39m\n\u001b[32m      3\u001b[39m x=\u001b[38;5;28mint\u001b[39m(\u001b[38;5;28minput\u001b[39m(\u001b[33m\"\u001b[39m\u001b[33m인원수를 입력하세요.\u001b[39m\u001b[33m\"\u001b[39m))\n\u001b[32m      4\u001b[39m \u001b[38;5;28;01mfor\u001b[39;00m i \u001b[38;5;129;01min\u001b[39;00m \u001b[38;5;28mrange\u001b[39m(x):\n\u001b[32m----> \u001b[39m\u001b[32m5\u001b[39m     mysum+=\u001b[43mmylist\u001b[49m\u001b[43m[\u001b[49m\u001b[43mi\u001b[49m\u001b[43m]\u001b[49m\n\u001b[32m      6\u001b[39m \u001b[38;5;28mprint\u001b[39m(\u001b[33m\"\u001b[39m\u001b[33m합계는 \u001b[39m\u001b[38;5;132;01m%d\u001b[39;00m\u001b[33m입니다.\u001b[39m\u001b[33m\"\u001b[39m%mysum)\n",
      "\u001b[31mIndexError\u001b[39m: list index out of range"
     ]
    }
   ],
   "source": [
    "mylist=[92,76,83,64,95]\n",
    "mysum=0\n",
    "x=int(input(\"인원수를 입력하세요.\"))\n",
    "for i in range(x):\n",
    "    mysum+=mylist[i]\n",
    "print(\"합계는 %d입니다.\"%mysum)"
   ]
  },
  {
   "cell_type": "code",
   "execution_count": 33,
   "id": "f6501dc7",
   "metadata": {},
   "outputs": [
    {
     "name": "stdout",
     "output_type": "stream",
     "text": [
      "0으로 나눌 수 없습니다.\n"
     ]
    }
   ],
   "source": [
    "x=int(input(\"숫자를 입려가세요.\"))\n",
    "if x==0:\n",
    "    print(\"0으로 나눌 수 없습니다.\")\n",
    "else:\n",
    "    y=100/x\n",
    "    print(\"결과는 %d입니다.\"%y)"
   ]
  },
  {
   "cell_type": "code",
   "execution_count": 34,
   "id": "74570d03",
   "metadata": {},
   "outputs": [
    {
     "name": "stdout",
     "output_type": "stream",
     "text": [
      "인원수가 너무 큽니다.\n"
     ]
    }
   ],
   "source": [
    "mylist=[92,76,83,64,95]\n",
    "mysum=0\n",
    "x=int(input(\"인원수를 입력하세요.\"))\n",
    "if len(mylist)<x:\n",
    "    print(\"인원수가 너무 큽니다.\")\n",
    "else:\n",
    "    for i in range(x):\n",
    "        mysum+=mylist[i]\n",
    "    print(\"합계는 %d입니다.\"%mysum)"
   ]
  },
  {
   "cell_type": "code",
   "execution_count": 35,
   "id": "1b188814",
   "metadata": {},
   "outputs": [
    {
     "name": "stdout",
     "output_type": "stream",
     "text": [
      "에러가 발생했습니다.\n"
     ]
    }
   ],
   "source": [
    "try:\n",
    "    x=int(input(\"숫자를 입력하세요.\"))\n",
    "    y=100/x\n",
    "    print(\"결과는 %d입니다.\"%y)\n",
    "except:\n",
    "    print(\"에러가 발생했습니다.\")"
   ]
  },
  {
   "cell_type": "code",
   "execution_count": 37,
   "id": "98300833",
   "metadata": {},
   "outputs": [
    {
     "name": "stdout",
     "output_type": "stream",
     "text": [
      "에러가 발생했습니다. division by zero\n",
      "오늘은 여기까지\n"
     ]
    }
   ],
   "source": [
    "try:\n",
    "    x=int(input(\"숫자를 입력하세요.\"))\n",
    "    y=100/x\n",
    "    print(\"결과는 %d입니다.\"%d)\n",
    "except Exception as e:\n",
    "    print(\"에러가 발생했습니다.\",e)\n",
    "finally:\n",
    "    print(\"오늘은 여기까지\")"
   ]
  },
  {
   "cell_type": "code",
   "execution_count": 38,
   "id": "6d650eb0",
   "metadata": {},
   "outputs": [
    {
     "name": "stdout",
     "output_type": "stream",
     "text": [
      "에러가 발생했습니다. list index out of range\n",
      "집에 가고싶다.\n"
     ]
    }
   ],
   "source": [
    "mylist=[92,76,83,64,95]\n",
    "mysum=0\n",
    "try:\n",
    "    x=int(input(\"인원수를 입력하세요.\"))\n",
    "    for i in range(x):\n",
    "        mysum+=mylist[i]\n",
    "    print(\"합계는 %d입니다.\"%mysum)\n",
    "except Exception as e:\n",
    "    print(\"에러가 발생했습니다.\",e)\n",
    "finally:\n",
    "    print(\"집에 가고싶다.\")"
   ]
  },
  {
   "cell_type": "markdown",
   "id": "b1478027",
   "metadata": {},
   "source": [
    "## 4. 파일 입출력"
   ]
  },
  {
   "cell_type": "code",
   "execution_count": 40,
   "id": "4d40832f",
   "metadata": {},
   "outputs": [],
   "source": [
    "f=open(\"helloworld.txt\",\"w\",encoding='utf-8')\n",
    "f.write(\"Hello Python!!!\\n\")\n",
    "f.write(\"안녕하세요. 파이썬!!!\\n\")\n",
    "f.close()"
   ]
  },
  {
   "cell_type": "code",
   "execution_count": 41,
   "id": "bb83f3b5",
   "metadata": {},
   "outputs": [
    {
     "name": "stdout",
     "output_type": "stream",
     "text": [
      "Hello Python!!!\n",
      "안녕하세요. 파이썬!!!\n",
      "\n"
     ]
    }
   ],
   "source": [
    "f=open(\"helloworld.txt\",\"r\",encoding='utf-8')\n",
    "data=f.read()\n",
    "print(data)\n",
    "f.close()"
   ]
  },
  {
   "cell_type": "code",
   "execution_count": 42,
   "id": "2aada03e",
   "metadata": {},
   "outputs": [
    {
     "name": "stdout",
     "output_type": "stream",
     "text": [
      "파일 저장이 완료되었습니다.\n"
     ]
    }
   ],
   "source": [
    "with open(\"hellopython.txt\", 'w', encoding='utf-8') as f:\n",
    "    for i in range(0,10):\n",
    "        f.write(\"%d >>\"%i)\n",
    "        f.write(\"Life is too short, \")\n",
    "        f.write(\"you need python\\n\")\n",
    "    print(\"파일 저장이 완료되었습니다.\")"
   ]
  },
  {
   "cell_type": "code",
   "execution_count": 43,
   "id": "26860d0a",
   "metadata": {},
   "outputs": [
    {
     "name": "stdout",
     "output_type": "stream",
     "text": [
      "0 >>Life is too short, you need python\n",
      "1 >>Life is too short, you need python\n",
      "2 >>Life is too short, you need python\n",
      "3 >>Life is too short, you need python\n",
      "4 >>Life is too short, you need python\n",
      "5 >>Life is too short, you need python\n",
      "6 >>Life is too short, you need python\n",
      "7 >>Life is too short, you need python\n",
      "8 >>Life is too short, you need python\n",
      "9 >>Life is too short, you need python\n",
      "\n"
     ]
    }
   ],
   "source": [
    "with open(\"hellopython.txt\",'r',encoding='utf-8') as f:\n",
    "    data=f.read()\n",
    "    print(data)"
   ]
  },
  {
   "cell_type": "code",
   "execution_count": 44,
   "id": "635ff54f",
   "metadata": {},
   "outputs": [
    {
     "name": "stdout",
     "output_type": "stream",
     "text": [
      "['Hello Python!!!\\n', '안녕하세요. 파이썬!!!\\n']\n",
      "------------------------------\n",
      "읽어들인 데이터는 총 2줄입니다\n",
      "------------------------------\n",
      "Hello Python!!!\n",
      "안녕하세요. 파이썬!!!\n"
     ]
    }
   ],
   "source": [
    "with open(\"helloworld.txt\",'r',encoding='utf-8') as f:\n",
    "    lines=f.readlines()\n",
    "    print(lines)\n",
    "    print('-'*30)\n",
    "    size=len(lines)\n",
    "    print('읽어들인 데이터는 총 %d줄입니다'%size)\n",
    "    print('-'*30)\n",
    "    for i in lines:\n",
    "        print(i.strip())"
   ]
  },
  {
   "cell_type": "code",
   "execution_count": 45,
   "id": "e19abe0f",
   "metadata": {},
   "outputs": [],
   "source": [
    "grade=[\n",
    "    {'name':'철수','kor':95,'eng':88,'math':72},\n",
    "    {'name':'영희','kor':92,'eng':90,'math':95},\n",
    "    {'name':'철민','kor':88,'eng':76,'math':64}\n",
    "]\n",
    "\n",
    "tpl=\"{0},{1},{2},{3}\\n\"\n",
    "\n",
    "with open('grade.csv','w',encoding='euc-kr') as f:\n",
    "    f.write('이름,국어,영어,수학\\n')\n",
    "    for i in grade:\n",
    "        t=tpl.format(i['name'],i['kor'],i['eng'],i['math'])\n",
    "        f.write(t)"
   ]
  },
  {
   "cell_type": "code",
   "execution_count": 46,
   "id": "6a067649",
   "metadata": {},
   "outputs": [],
   "source": [
    "grade_dic={\n",
    "    '이름':['철수','영희','민철','수현','호영'],\n",
    "    '국어':[98,88,92,63,120],\n",
    "    '영어':[76,90,70,60,50],\n",
    "    '수학':[88,62,88,31,76],\n",
    "    '과학':[64,72,45,70,88]\n",
    "}\n",
    "\n",
    "tpl=\"{0},{1},{2},{3},{4}\\n\"\n",
    "keys=list(grade_dic.keys())\n",
    "title=','.join(keys)\n",
    "\n",
    "with open('grade2.csv','w',encoding='euc-kr') as f:\n",
    "    f.write(title+'\\n')\n",
    "    for i in range(0,len(grade_dic['이름'])):\n",
    "        t=tpl.format(grade_dic['이름'][i],grade_dic['국어'][i],grade_dic['영어'][i],grade_dic['수학'][i],grade_dic['과학'][i])\n",
    "        f.write(t)"
   ]
  },
  {
   "cell_type": "code",
   "execution_count": 47,
   "id": "afd15d97",
   "metadata": {},
   "outputs": [
    {
     "name": "stdout",
     "output_type": "stream",
     "text": [
      "['이름,국어,영어,수학\\n', '철수,95,88,72\\n', '영희,92,90,95\\n', '철민,88,76,64\\n']\n"
     ]
    }
   ],
   "source": [
    "csv_list=None\n",
    "with open('grade.csv','r',encoding='euc-kr') as f:\n",
    "    csv_list=f.readlines()\n",
    "print(csv_list)"
   ]
  },
  {
   "cell_type": "code",
   "execution_count": 48,
   "id": "9ab60bcb",
   "metadata": {},
   "outputs": [
    {
     "name": "stdout",
     "output_type": "stream",
     "text": [
      "[{'name': '철수', 'kor': '95', 'eng': '88', 'math': '72'}, {'name': '영희', 'kor': '92', 'eng': '90', 'math': '95'}, {'name': '철민', 'kor': '88', 'eng': '76', 'math': '64'}]\n"
     ]
    }
   ],
   "source": [
    "data=[]\n",
    "for i, line in enumerate(csv_list):\n",
    "    if i==0:\n",
    "        continue\n",
    "    k=line.strip().split(',')\n",
    "    item={'name':k[0],'kor':k[1],'eng':k[2],'math':k[3]}\n",
    "    data.append(item)\n",
    "print(data)"
   ]
  },
  {
   "cell_type": "code",
   "execution_count": 51,
   "id": "bf57a553",
   "metadata": {},
   "outputs": [
    {
     "name": "stdout",
     "output_type": "stream",
     "text": [
      "['이름,국어,영어,수학,과학\\n', '철수,98,76,88,64\\n', '영희,88,90,62,72\\n', '민철,92,70,88,45\\n', '수현,63,60,31,70\\n', '호영,120,50,76,88\\n']\n"
     ]
    }
   ],
   "source": [
    "k=None\n",
    "with open('grade2.csv','r',encoding='euc-kr') as f:\n",
    "    k=f.readlines()\n",
    "print(k)"
   ]
  },
  {
   "cell_type": "code",
   "execution_count": 52,
   "id": "b74d6520",
   "metadata": {},
   "outputs": [
    {
     "name": "stdout",
     "output_type": "stream",
     "text": [
      "[{'name': '철수', 'kor': '98', 'eng': '76', 'math': '88', 'sci': '64'}, {'name': '영희', 'kor': '88', 'eng': '90', 'math': '62', 'sci': '72'}, {'name': '민철', 'kor': '92', 'eng': '70', 'math': '88', 'sci': '45'}, {'name': '수현', 'kor': '63', 'eng': '60', 'math': '31', 'sci': '70'}, {'name': '호영', 'kor': '120', 'eng': '50', 'math': '76', 'sci': '88'}]\n"
     ]
    }
   ],
   "source": [
    "data1=[]\n",
    "for i, l in enumerate(k):\n",
    "    if i==0:\n",
    "        continue\n",
    "    y=l.strip().split(',')\n",
    "    m={'name':y[0],'kor':y[1],'eng':y[2],'math':y[3],'sci':y[4]}\n",
    "    data1.append(m)\n",
    "print(data1)"
   ]
  },
  {
   "cell_type": "code",
   "execution_count": 54,
   "id": "ccf645fd",
   "metadata": {},
   "outputs": [
    {
     "name": "stdout",
     "output_type": "stream",
     "text": [
      "서울 일 평균 확진자 수 : 5119.41명\n",
      "서울 일 평균 사망자 수 : 3.40명\n",
      "전국 일 평균 확진자 수 : 26141.33명\n",
      "전국 일 평균 사망자 수 : 19.72명\n",
      "------------------------------\n",
      "슬슬 집 갈 준비 하자\n"
     ]
    }
   ],
   "source": [
    "try:\n",
    "    with open('covid19.csv','r',encoding='euc-kr') as f:\n",
    "        csv_list=f.readlines()\n",
    "        seoul_confirm_sum=0\n",
    "        seoul_death_sum=0\n",
    "        nation_confirm_sum=0\n",
    "        nation_death_sum=0\n",
    "        for i, line in enumerate(csv_list):\n",
    "            if i==0:\n",
    "                continue\n",
    "            k=line.strip().split(',')\n",
    "            if k[1].isnumeric():\n",
    "                seoul_confirm_sum+=int(k[1])\n",
    "            if k[2].isnumeric():\n",
    "                seoul_death_sum+=int(k[2])\n",
    "            if k[3].isnumeric():\n",
    "                nation_confirm_sum+=int(k[3])\n",
    "            if k[4].isnumeric():\n",
    "                nation_death_sum+=int(k[4])\n",
    "        size=len(csv_list)-1\n",
    "        print(\"서울 일 평균 확진자 수 : %.2f명\"%(seoul_confirm_sum/size))\n",
    "        print(\"서울 일 평균 사망자 수 : %.2f명\"%(seoul_death_sum/size))\n",
    "        print(\"전국 일 평균 확진자 수 : %.2f명\"%(nation_confirm_sum/size))\n",
    "        print(\"전국 일 평균 사망자 수 : %.2f명\"%(nation_death_sum/size))\n",
    "except Exception as e:\n",
    "    print(\"제대로 좀 코딩해라.\",e)\n",
    "finally:\n",
    "    print('-'*30)\n",
    "    print(\"슬슬 집 갈 준비 하자\")"
   ]
  },
  {
   "cell_type": "code",
   "execution_count": null,
   "id": "6b456cdd",
   "metadata": {},
   "outputs": [],
   "source": []
  }
 ],
 "metadata": {
  "kernelspec": {
   "display_name": "Python 3",
   "language": "python",
   "name": "python3"
  },
  "language_info": {
   "codemirror_mode": {
    "name": "ipython",
    "version": 3
   },
   "file_extension": ".py",
   "mimetype": "text/x-python",
   "name": "python",
   "nbconvert_exporter": "python",
   "pygments_lexer": "ipython3",
   "version": "3.13.9"
  }
 },
 "nbformat": 4,
 "nbformat_minor": 5
}
