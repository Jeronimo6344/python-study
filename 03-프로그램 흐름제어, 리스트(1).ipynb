{
 "cells": [
  {
   "cell_type": "markdown",
   "id": "e097fc82",
   "metadata": {},
   "source": [
    "# LAB03‒ 프로그램 흐름제어 / 리스트 (1)\n",
    "## 1. 프로그램 프름제어"
   ]
  },
  {
   "cell_type": "code",
   "execution_count": 2,
   "id": "99d1c327",
   "metadata": {},
   "outputs": [
    {
     "name": "stdout",
     "output_type": "stream",
     "text": [
      "패스입니다.\n",
      "B입니다.\n"
     ]
    }
   ],
   "source": [
    "point=int(input(\"점수를 입력하세요: \"))\n",
    "if point>70:\n",
    "    print(\"패스입니다.\")\n",
    "    if point>90:\n",
    "        print(\"A입니다.\")\n",
    "    elif point>80:\n",
    "        print(\"B입니다.\")\n",
    "    else:\n",
    "        print(\"C입니다.\")\n",
    "else:\n",
    "    print(\"패스하지 못했습니다.\")"
   ]
  },
  {
   "cell_type": "code",
   "execution_count": 5,
   "id": "f8f2b33c",
   "metadata": {},
   "outputs": [
    {
     "name": "stdout",
     "output_type": "stream",
     "text": [
      "1 --> 홀수\n",
      "2 --> 짝수\n",
      "3 --> 홀수\n",
      "4 --> 짝수\n",
      "5 --> 홀수\n",
      "6 --> 짝수\n",
      "7 --> 홀수\n",
      "8 --> 짝수\n",
      "9 --> 홀수\n",
      "10 --> 짝수\n",
      "11 --> 홀수\n",
      "12 --> 짝수\n",
      "13 --> 홀수\n",
      "짝수들의 합: 42\n",
      "홀수들의 합: 49\n"
     ]
    }
   ],
   "source": [
    "number=int(input(\"숫자를 입력하세요: \"))\n",
    "x=0     # 초기화 변수 지정\n",
    "y=0\n",
    "for i in range(1,number+1):\n",
    "    if i%2==0:\n",
    "        print(i,\"--> 짝수\")\n",
    "        x+=i\n",
    "    else:\n",
    "        print(i,\"--> 홀수\")\n",
    "        y+=i\n",
    "print(\"짝수들의 합:\", x)\n",
    "print(\"홀수들의 합:\", y)"
   ]
  },
  {
   "cell_type": "code",
   "execution_count": 7,
   "id": "763891b4",
   "metadata": {},
   "outputs": [
    {
     "name": "stdout",
     "output_type": "stream",
     "text": [
      "0\n",
      "-----\n",
      "1\n",
      "-----\n",
      "2\n",
      "-----\n",
      "3\n",
      "-----\n",
      "4\n"
     ]
    }
   ],
   "source": [
    "for i in range(0,5):\n",
    "    print(i)\n",
    "    if i+1<5:\n",
    "        print(\"-----\")"
   ]
  },
  {
   "cell_type": "code",
   "execution_count": 8,
   "id": "4a1879df",
   "metadata": {},
   "outputs": [
    {
     "name": "stdout",
     "output_type": "stream",
     "text": [
      "15\n",
      "30\n",
      "45\n",
      "60\n",
      "75\n",
      "90\n"
     ]
    }
   ],
   "source": [
    "x=3\n",
    "y=5\n",
    "for i in range(1,101):\n",
    "    if i%(x*y)==0:\n",
    "        print(i)"
   ]
  },
  {
   "cell_type": "code",
   "execution_count": 12,
   "id": "b7a431ac",
   "metadata": {},
   "outputs": [
    {
     "name": "stdout",
     "output_type": "stream",
     "text": [
      "i에 대한 반복 수행 시작 : i --> 0\n",
      "::: i = 0 , j = 0\n",
      "::: i = 0 , j = 1\n",
      "::: i = 0 , j = 2\n",
      "::: i = 0 , j = 3\n",
      "::: i = 0 , j = 4\n",
      "i에 대한 반복 수행 종료\n",
      "-------\n",
      "i에 대한 반복 수행 시작 : i --> 1\n",
      "::: i = 1 , j = 0\n",
      "::: i = 1 , j = 1\n",
      "::: i = 1 , j = 2\n",
      "::: i = 1 , j = 3\n",
      "::: i = 1 , j = 4\n",
      "i에 대한 반복 수행 종료\n",
      "-------\n",
      "i에 대한 반복 수행 시작 : i --> 2\n",
      "::: i = 2 , j = 0\n",
      "::: i = 2 , j = 1\n",
      "::: i = 2 , j = 2\n",
      "::: i = 2 , j = 3\n",
      "::: i = 2 , j = 4\n",
      "i에 대한 반복 수행 종료\n"
     ]
    }
   ],
   "source": [
    "for i in range(0,3):\n",
    "    print(\"i에 대한 반복 수행 시작 : i -->\",i)\n",
    "    for j in range(0,5):\n",
    "        print(\"::: i =\",i,\", j =\",j)\n",
    "    print(\"i에 대한 반복 수행 종료\")\n",
    "    if i+1<3:\n",
    "        print(\"-------\")"
   ]
  },
  {
   "cell_type": "code",
   "execution_count": 14,
   "id": "5d823e2b",
   "metadata": {},
   "outputs": [
    {
     "name": "stdout",
     "output_type": "stream",
     "text": [
      "2 x 1 = 2\n",
      "2 x 2 = 4\n",
      "2 x 3 = 6\n",
      "2 x 4 = 8\n",
      "2 x 5 = 10\n",
      "2 x 6 = 12\n",
      "2 x 7 = 14\n",
      "2 x 8 = 16\n",
      "2 x 9 = 18\n",
      "----------\n",
      "3 x 1 = 3\n",
      "3 x 2 = 6\n",
      "3 x 3 = 9\n",
      "3 x 4 = 12\n",
      "3 x 5 = 15\n",
      "3 x 6 = 18\n",
      "3 x 7 = 21\n",
      "3 x 8 = 24\n",
      "3 x 9 = 27\n",
      "----------\n",
      "4 x 1 = 4\n",
      "4 x 2 = 8\n",
      "4 x 3 = 12\n",
      "4 x 4 = 16\n",
      "4 x 5 = 20\n",
      "4 x 6 = 24\n",
      "4 x 7 = 28\n",
      "4 x 8 = 32\n",
      "4 x 9 = 36\n",
      "----------\n",
      "5 x 1 = 5\n",
      "5 x 2 = 10\n",
      "5 x 3 = 15\n",
      "5 x 4 = 20\n",
      "5 x 5 = 25\n",
      "5 x 6 = 30\n",
      "5 x 7 = 35\n",
      "5 x 8 = 40\n",
      "5 x 9 = 45\n",
      "----------\n",
      "6 x 1 = 6\n",
      "6 x 2 = 12\n",
      "6 x 3 = 18\n",
      "6 x 4 = 24\n",
      "6 x 5 = 30\n",
      "6 x 6 = 36\n",
      "6 x 7 = 42\n",
      "6 x 8 = 48\n",
      "6 x 9 = 54\n",
      "----------\n",
      "7 x 1 = 7\n",
      "7 x 2 = 14\n",
      "7 x 3 = 21\n",
      "7 x 4 = 28\n",
      "7 x 5 = 35\n",
      "7 x 6 = 42\n",
      "7 x 7 = 49\n",
      "7 x 8 = 56\n",
      "7 x 9 = 63\n",
      "----------\n",
      "8 x 1 = 8\n",
      "8 x 2 = 16\n",
      "8 x 3 = 24\n",
      "8 x 4 = 32\n",
      "8 x 5 = 40\n",
      "8 x 6 = 48\n",
      "8 x 7 = 56\n",
      "8 x 8 = 64\n",
      "8 x 9 = 72\n",
      "----------\n",
      "9 x 1 = 9\n",
      "9 x 2 = 18\n",
      "9 x 3 = 27\n",
      "9 x 4 = 36\n",
      "9 x 5 = 45\n",
      "9 x 6 = 54\n",
      "9 x 7 = 63\n",
      "9 x 8 = 72\n",
      "9 x 9 = 81\n"
     ]
    }
   ],
   "source": [
    "for i in range(2,10):\n",
    "    for j in range(1,10):\n",
    "        k=i*j\n",
    "        print(i,\"x\",j,\"=\",k)\n",
    "    if i+1<10:\n",
    "        print(\"----------\")"
   ]
  },
  {
   "cell_type": "code",
   "execution_count": 15,
   "id": "48760878",
   "metadata": {},
   "outputs": [
    {
     "name": "stdout",
     "output_type": "stream",
     "text": [
      "*\n",
      "**\n",
      "***\n",
      "****\n",
      "*****\n"
     ]
    }
   ],
   "source": [
    "for i in range(0,5):\n",
    "    star=\"\"\n",
    "    for j in range(0,i+1):\n",
    "        star+=\"*\"\n",
    "    print(star)"
   ]
  },
  {
   "cell_type": "code",
   "execution_count": 24,
   "id": "b2a9346e",
   "metadata": {},
   "outputs": [
    {
     "name": "stdout",
     "output_type": "stream",
     "text": [
      "*****\n",
      "****\n",
      "***\n",
      "**\n",
      "*\n"
     ]
    }
   ],
   "source": [
    "for i in range(0,5):\n",
    "    star=\"\"\n",
    "    for j in range(0,5-i):\n",
    "        star+=\"*\"\n",
    "    print(star)"
   ]
  },
  {
   "cell_type": "code",
   "execution_count": 16,
   "id": "f77b9a88",
   "metadata": {},
   "outputs": [
    {
     "name": "stdout",
     "output_type": "stream",
     "text": [
      "Hello Python :: 1\n",
      "Hello Python :: 3\n",
      "Hello Python :: 5\n",
      "Hello Python :: 7\n",
      "Hello Python :: 9\n"
     ]
    }
   ],
   "source": [
    "y=0\n",
    "while True:\n",
    "    y+=1\n",
    "    if y%2==0:\n",
    "        continue\n",
    "    if y>10:\n",
    "        break\n",
    "    print(\"Hello Python ::\",y)"
   ]
  },
  {
   "cell_type": "code",
   "execution_count": 17,
   "id": "7107a39d",
   "metadata": {},
   "outputs": [
    {
     "name": "stdout",
     "output_type": "stream",
     "text": [
      "1 5\n",
      "2 4\n",
      "3 3\n",
      "4 2\n",
      "5 1\n",
      "경우의 수 : 5\n"
     ]
    }
   ],
   "source": [
    "count=0\n",
    "for i in range(1,7):\n",
    "    for j in range(1,7):\n",
    "        if i+j==6:\n",
    "            count+=1\n",
    "            print(i,j)\n",
    "print(\"경우의 수 :\",count)"
   ]
  },
  {
   "cell_type": "code",
   "execution_count": 26,
   "id": "3c3b36db",
   "metadata": {},
   "outputs": [
    {
     "name": "stdout",
     "output_type": "stream",
     "text": [
      "입력된 숫자 = 10\n",
      "\n",
      "**********                    **********\n",
      " **********                  ********** \n",
      "  **********                **********  \n",
      "   **********              **********   \n",
      "    **********            **********    \n",
      "     **********          **********     \n",
      "      **********        **********      \n",
      "       **********      **********       \n",
      "        **********    **********        \n",
      "         **********  **********         \n"
     ]
    }
   ],
   "source": [
    "n=int(input(\"숫자를 입력하세요\"))\n",
    "print(\"입력된 숫자 =\",n)\n",
    "print(\"\")\n",
    "for i in range(0,n):\n",
    "    print(\" \"*i+\"*\"*n+\" \"*(n-i)*2+\"*\"*n+\" \"*i)"
   ]
  },
  {
   "cell_type": "code",
   "execution_count": 27,
   "id": "db4828fa",
   "metadata": {},
   "outputs": [
    {
     "name": "stdout",
     "output_type": "stream",
     "text": [
      "[98, 82, 73, 64, 100]\n"
     ]
    }
   ],
   "source": [
    "# 5명의 학생에 대한 성적 나열 --> 정수형의 원소만 갖는 리스트\n",
    "grade=[98,82,73,64,100]\n",
    "print(grade)"
   ]
  },
  {
   "cell_type": "code",
   "execution_count": 29,
   "id": "286a71f2",
   "metadata": {},
   "outputs": [
    {
     "name": "stdout",
     "output_type": "stream",
     "text": [
      "['철수', '영희', '나영', '민식', '호영']\n"
     ]
    }
   ],
   "source": [
    "# 각 학생의 이름에 대한 나열 --> 문자열 타입의 원소만 갖는 리스트\n",
    "names=[\"철수\",\"영희\",\"나영\",\"민식\",\"호영\"]\n",
    "print(names)"
   ]
  },
  {
   "cell_type": "code",
   "execution_count": 32,
   "id": "b61f5890",
   "metadata": {},
   "outputs": [
    {
     "name": "stdout",
     "output_type": "stream",
     "text": [
      "['철수', 17, 162.4, 68.5, '남자', True]\n"
     ]
    }
   ],
   "source": [
    "student=[\"철수\", 17, 162.4, 68.5, \"남자\", True]\n",
    "print(student)"
   ]
  },
  {
   "cell_type": "code",
   "execution_count": 33,
   "id": "b783802e",
   "metadata": {},
   "outputs": [
    {
     "name": "stdout",
     "output_type": "stream",
     "text": [
      "10\n",
      "20\n",
      "30\n"
     ]
    }
   ],
   "source": [
    "items=[10,20,30]\n",
    "print(items[0])\n",
    "print(items[1])\n",
    "print(items[2])"
   ]
  },
  {
   "cell_type": "code",
   "execution_count": 34,
   "id": "abd14afb",
   "metadata": {},
   "outputs": [
    {
     "name": "stdout",
     "output_type": "stream",
     "text": [
      "[100, 200, 300]\n",
      "[0, 50, 100]\n"
     ]
    }
   ],
   "source": [
    "mydata=[100,200,300]\n",
    "print(mydata)\n",
    "\n",
    "mydata[0]=0\n",
    "mydata[1]=mydata[1]-150\n",
    "mydata[2]//=3\n",
    "print(mydata)"
   ]
  },
  {
   "cell_type": "code",
   "execution_count": 35,
   "id": "5b70f708",
   "metadata": {},
   "outputs": [
    {
     "name": "stdout",
     "output_type": "stream",
     "text": [
      "[10, 20, 30]\n",
      "[40, 50, 60]\n"
     ]
    }
   ],
   "source": [
    "list1=[10,20,30]\n",
    "list2=[40,50,60]\n",
    "print(list1)\n",
    "print(list2)"
   ]
  },
  {
   "cell_type": "code",
   "execution_count": 36,
   "id": "f66fb684",
   "metadata": {},
   "outputs": [
    {
     "name": "stdout",
     "output_type": "stream",
     "text": [
      "[10, 20, 30, 40, 50, 60]\n",
      "[10, 20, 30, 10, 20, 30, 10, 20, 30, 10, 20, 30, 10, 20, 30]\n"
     ]
    }
   ],
   "source": [
    "list3=list1+list2\n",
    "print(list3)\n",
    "list4=list1*5\n",
    "print(list4)"
   ]
  },
  {
   "cell_type": "code",
   "execution_count": 37,
   "id": "2e2726f6",
   "metadata": {},
   "outputs": [
    {
     "name": "stdout",
     "output_type": "stream",
     "text": [
      "[['철수', 98], ['영희', 82], ['나영', 73]]\n"
     ]
    }
   ],
   "source": [
    "stud1=[\"철수\",98]\n",
    "stud2=[\"영희\",82]\n",
    "stud3=[\"나영\",73]\n",
    "studentGroup=[stud1,stud2,stud3]\n",
    "print(studentGroup)"
   ]
  },
  {
   "cell_type": "code",
   "execution_count": 38,
   "id": "6ad21994",
   "metadata": {},
   "outputs": [
    {
     "name": "stdout",
     "output_type": "stream",
     "text": [
      "[['민식', 64, 172.3], ['호영', 100, 175.8], ['철민', 89, 168.7]]\n"
     ]
    }
   ],
   "source": [
    "studentGroup2=[\n",
    "    [\"민식\",64,172.3],\n",
    "    [\"호영\",100,175.8],\n",
    "    [\"철민\",89,168.7]\n",
    "]\n",
    "\n",
    "print(studentGroup2)"
   ]
  },
  {
   "cell_type": "code",
   "execution_count": 39,
   "id": "8b7d96ae",
   "metadata": {},
   "outputs": [
    {
     "name": "stdout",
     "output_type": "stream",
     "text": [
      "['민식', 64, 172.3]\n"
     ]
    }
   ],
   "source": [
    "print(studentGroup2[0])"
   ]
  },
  {
   "cell_type": "code",
   "execution_count": 41,
   "id": "ebb896be",
   "metadata": {},
   "outputs": [
    {
     "name": "stdout",
     "output_type": "stream",
     "text": [
      "이름 : 민식 몸무게 : 64 키 : 172.3\n",
      "이름 : 호영 몸무게 : 100 키 : 175.8\n",
      "이름 : 철민 몸무게 : 89 키 : 168.7\n"
     ]
    }
   ],
   "source": [
    "학생=[\n",
    "    [\"민식\",64,172.3],\n",
    "    [\"호영\",100,175.8],\n",
    "    [\"철민\",89,168.7]\n",
    "]\n",
    "print(\"이름 :\", 학생[0][0],\"몸무게 :\", 학생[0][1], \"키 :\", 학생[0][2])\n",
    "print(\"이름 :\", 학생[1][0],\"몸무게 :\", 학생[1][1], \"키 :\", 학생[1][2])\n",
    "print(\"이름 :\", 학생[2][0],\"몸무게 :\", 학생[2][1], \"키 :\", 학생[2][2])"
   ]
  },
  {
   "cell_type": "code",
   "execution_count": 42,
   "id": "c4282cb0",
   "metadata": {},
   "outputs": [
    {
     "name": "stdout",
     "output_type": "stream",
     "text": [
      "20\n",
      "30\n"
     ]
    }
   ],
   "source": [
    "mylist=[10,20,30]\n",
    "print(mylist[1])\n",
    "print(mylist[-1])"
   ]
  },
  {
   "cell_type": "code",
   "execution_count": 43,
   "id": "3ff39573",
   "metadata": {},
   "outputs": [
    {
     "name": "stdout",
     "output_type": "stream",
     "text": [
      "10\n",
      "[10, 200, 30]\n"
     ]
    }
   ],
   "source": [
    "first=mylist[0]\n",
    "print(first)\n",
    "mylist[1]=200\n",
    "print(mylist)"
   ]
  },
  {
   "cell_type": "code",
   "execution_count": 45,
   "id": "f808dce9",
   "metadata": {},
   "outputs": [
    {
     "name": "stdout",
     "output_type": "stream",
     "text": [
      "[70, 80]\n",
      "[70, 80]\n"
     ]
    }
   ],
   "source": [
    "mylist=[60,70,80,90,100]\n",
    "print(mylist[1:3])\n",
    "print(mylist[1:-2])"
   ]
  },
  {
   "cell_type": "code",
   "execution_count": 46,
   "id": "0a216b65",
   "metadata": {},
   "outputs": [
    {
     "name": "stdout",
     "output_type": "stream",
     "text": [
      "[90, 100]\n",
      "[60, 70, 80]\n",
      "[60, 70, 80, 90, 100]\n"
     ]
    }
   ],
   "source": [
    "print(mylist[3:])\n",
    "print(mylist[:3])\n",
    "print(mylist[:])"
   ]
  },
  {
   "cell_type": "code",
   "execution_count": 47,
   "id": "9c992de3",
   "metadata": {},
   "outputs": [
    {
     "name": "stdout",
     "output_type": "stream",
     "text": [
      "[1, 20, 30, 40, 5]\n"
     ]
    }
   ],
   "source": [
    "foo=[1,2,3,4,5]\n",
    "foo[1:4]=[20,30,40]\n",
    "print(foo)"
   ]
  },
  {
   "cell_type": "code",
   "execution_count": 48,
   "id": "99752b8e",
   "metadata": {},
   "outputs": [
    {
     "name": "stdout",
     "output_type": "stream",
     "text": [
      "[11, 55]\n"
     ]
    }
   ],
   "source": [
    "bar=[11,22,33,44,55]\n",
    "bar[1:4]=[]\n",
    "print(bar)"
   ]
  },
  {
   "cell_type": "code",
   "execution_count": 49,
   "id": "057663d2",
   "metadata": {},
   "outputs": [
    {
     "name": "stdout",
     "output_type": "stream",
     "text": [
      "[6, 100, 200, 300, 400, 500, 600, 700, 9, 10]\n"
     ]
    }
   ],
   "source": [
    "hello=[6,7,8,9,10]\n",
    "hello[1:3]=[100,200,300,400,500,600,700]\n",
    "print(hello)"
   ]
  },
  {
   "cell_type": "code",
   "execution_count": 50,
   "id": "978f96f6",
   "metadata": {},
   "outputs": [
    {
     "name": "stdout",
     "output_type": "stream",
     "text": [
      "[11, 1000, 2000, 15]\n"
     ]
    }
   ],
   "source": [
    "world=[11,12,13,14,15]\n",
    "world[1:4]=[1000,2000]\n",
    "print(world)"
   ]
  },
  {
   "cell_type": "code",
   "execution_count": 51,
   "id": "5bd32fa0",
   "metadata": {},
   "outputs": [
    {
     "name": "stdout",
     "output_type": "stream",
     "text": [
      "[100, 200, 300]\n",
      "[100, 12345, 300]\n"
     ]
    }
   ],
   "source": [
    "hello=[100,200,300]\n",
    "cp2=hello[:]\n",
    "cp2[1]=12345\n",
    "print(hello)\n",
    "print(cp2)"
   ]
  },
  {
   "cell_type": "code",
   "execution_count": 52,
   "id": "dd3abae8",
   "metadata": {},
   "outputs": [
    {
     "name": "stdout",
     "output_type": "stream",
     "text": [
      "[100, 200, 300]\n"
     ]
    }
   ],
   "source": [
    "cp3=hello.copy()\n",
    "print(cp3)"
   ]
  },
  {
   "cell_type": "code",
   "execution_count": 53,
   "id": "4d24534d",
   "metadata": {},
   "outputs": [
    {
     "name": "stdout",
     "output_type": "stream",
     "text": [
      "[2, 1]\n",
      "몫 : 2 , 나머지 : 1\n"
     ]
    }
   ],
   "source": [
    "def divmod(a,b):\n",
    "    return[a//b,a%b]\n",
    "result=divmod(7,3)\n",
    "print(result)\n",
    "x,y=divmod(7,3)\n",
    "print(\"몫 :\",x,\", 나머지 :\",y)"
   ]
  },
  {
   "cell_type": "code",
   "execution_count": 54,
   "id": "d7a56a45",
   "metadata": {},
   "outputs": [
    {
     "name": "stdout",
     "output_type": "stream",
     "text": [
      "True\n"
     ]
    }
   ],
   "source": [
    "mylist=[5,3,7,1,9]\n",
    "target=7\n",
    "find = target in mylist\n",
    "print(find)"
   ]
  },
  {
   "cell_type": "code",
   "execution_count": 55,
   "id": "d5869d35",
   "metadata": {},
   "outputs": [
    {
     "name": "stdout",
     "output_type": "stream",
     "text": [
      "False\n"
     ]
    }
   ],
   "source": [
    "not_find = target not in mylist\n",
    "print(not_find)"
   ]
  },
  {
   "cell_type": "code",
   "execution_count": 57,
   "id": "3d2db971",
   "metadata": {},
   "outputs": [
    {
     "name": "stdout",
     "output_type": "stream",
     "text": [
      "죄송합니다. 해당 아이디는 사용 중입니다.\n"
     ]
    }
   ],
   "source": [
    "user_id_list = [\"mike\", \"tom\", \"jane\"]\n",
    "user_id = input(\"아이디를 입력하세요 : \")\n",
    "if user_id in user_id_list:\n",
    "    print(\"죄송합니다. 해당 아이디는 사용 중입니다.\")\n",
    "else:\n",
    "    print(\"사용 가능한 아이디입니다.\")"
   ]
  },
  {
   "cell_type": "code",
   "execution_count": 58,
   "id": "43ab5add",
   "metadata": {},
   "outputs": [
    {
     "name": "stdout",
     "output_type": "stream",
     "text": [
      "10\n",
      "20\n",
      "30\n",
      "40\n",
      "50\n"
     ]
    }
   ],
   "source": [
    "mylist=[10,20,30,40,50]\n",
    "size=len(mylist)\n",
    "i=0\n",
    "while i<size:\n",
    "    print(mylist[i])\n",
    "    i+=1"
   ]
  },
  {
   "cell_type": "code",
   "execution_count": 59,
   "id": "b38ffb70",
   "metadata": {},
   "outputs": [
    {
     "name": "stdout",
     "output_type": "stream",
     "text": [
      "총점 : 428 / 평균 : 85.6\n"
     ]
    }
   ],
   "source": [
    "성적표 = [92,88,76,90,82]\n",
    "과목수 = len(성적표)\n",
    "i=0\n",
    "합계점수=0\n",
    "while i<과목수:\n",
    "    합계점수+=성적표[i]\n",
    "    i+=1\n",
    "평균점수=합계점수/과목수\n",
    "print(\"총점 :\",합계점수,\"/ 평균 :\",평균점수)"
   ]
  },
  {
   "cell_type": "code",
   "execution_count": 60,
   "id": "f26505ca",
   "metadata": {},
   "outputs": [
    {
     "name": "stdout",
     "output_type": "stream",
     "text": [
      "0 번째 원소 : 봄\n",
      "1 번째 원소 : 여름\n",
      "2 번째 원소 : 가을\n",
      "3 번째 원소 : 겨울\n"
     ]
    }
   ],
   "source": [
    "seasons = ['봄','여름','가을','겨울']\n",
    "size=len(seasons)\n",
    "for i in range(0,size):\n",
    "    print(i,\"번째 원소 :\",seasons[i])"
   ]
  },
  {
   "cell_type": "code",
   "execution_count": 61,
   "id": "4e899d3c",
   "metadata": {},
   "outputs": [
    {
     "name": "stdout",
     "output_type": "stream",
     "text": [
      "python\n",
      "is\n",
      "good\n"
     ]
    }
   ],
   "source": [
    "msg=['python','is','good']\n",
    "for i in msg:\n",
    "    print(i)"
   ]
  },
  {
   "cell_type": "code",
   "execution_count": 62,
   "id": "bd96a7db",
   "metadata": {},
   "outputs": [
    {
     "name": "stdout",
     "output_type": "stream",
     "text": [
      "총점 : 407 , 평균 : 81\n"
     ]
    }
   ],
   "source": [
    "score=[100,82,98,76,51]\n",
    "total=0\n",
    "for v in score:\n",
    "    total+=v\n",
    "avg=total//len(score)\n",
    "print(\"총점 :\",total,\", 평균 :\",avg)"
   ]
  },
  {
   "cell_type": "code",
   "execution_count": 65,
   "id": "cd4ec3ff",
   "metadata": {},
   "outputs": [
    {
     "name": "stdout",
     "output_type": "stream",
     "text": [
      "0 번째 값 : 서울\n",
      "1 번째 값 : 인천\n",
      "2 번째 값 : 대구\n",
      "3 번째 값 : 대전\n",
      "4 번째 값 : 광주\n",
      "5 번째 값 : 부산\n"
     ]
    }
   ],
   "source": [
    "city=['서울','인천','대구','대전','광주','부산']\n",
    "for i, v in enumerate(city):\n",
    "    print(i,\"번째 값 :\",v)"
   ]
  },
  {
   "cell_type": "code",
   "execution_count": 66,
   "id": "ec1d809c",
   "metadata": {},
   "outputs": [
    {
     "name": "stdout",
     "output_type": "stream",
     "text": [
      "size = 2\n",
      "0 번째 데이터 -> [88, 72, 83, 90]\n",
      "1 번째 데이터 -> [63, 77, 72, 80]\n"
     ]
    }
   ],
   "source": [
    "mydata=[[88,72,83,90],[63,77,72,80]]\n",
    "size=len(mydata)\n",
    "print(\"size =\",size)\n",
    "for i in range(0,size):\n",
    "    print(i,\"번째 데이터 ->\", mydata[i])"
   ]
  },
  {
   "cell_type": "code",
   "execution_count": 67,
   "id": "418bd895",
   "metadata": {},
   "outputs": [
    {
     "name": "stdout",
     "output_type": "stream",
     "text": [
      "size = 2\n",
      "0 번째 데이터 -> [88, 72, 83, 90]\n",
      "0 번째 데이터 ==> 총합 = 333 평균 = 83.25\n",
      "1 번째 데이터 -> [63, 77, 72, 80]\n",
      "1 번째 데이터 ==> 총합 = 292 평균 = 73.0\n"
     ]
    }
   ],
   "source": [
    "mydata=[[88,72,83,90],[63,77,72,80]]\n",
    "size=len(mydata)\n",
    "print(\"size =\",size)\n",
    "for i in range(0,size):\n",
    "    print(i,\"번째 데이터 ->\", mydata[i])\n",
    "    total=0\n",
    "    size1=len(mydata[i])\n",
    "    for j in range(0,size1):\n",
    "        total+=mydata[i][j]\n",
    "    average=total/size1\n",
    "    print(i,\"번째 데이터 ==> 총합 =\",total,\"평균 =\",average)"
   ]
  },
  {
   "cell_type": "code",
   "execution_count": 68,
   "id": "f4ad110e",
   "metadata": {},
   "outputs": [
    {
     "name": "stdout",
     "output_type": "stream",
     "text": [
      "size = 2\n",
      "0 번째 데이터 -> [88, 72, 83, 90]\n",
      "0 번째 데이터 ==> 총합 = 333 평균 = 83.25\n",
      "1 번째 데이터 -> [63, 77, 72, 80]\n",
      "1 번째 데이터 ==> 총합 = 292 평균 = 73.0\n"
     ]
    }
   ],
   "source": [
    "mydata=[[88,72,83,90],[63,77,72,80]]\n",
    "size=len(mydata)\n",
    "print(\"size =\",size)\n",
    "for i in range(0,size):\n",
    "    print(i,\"번째 데이터 ->\", mydata[i])\n",
    "    total=0\n",
    "    size1=len(mydata[i])\n",
    "    for j in mydata[i]:\n",
    "        total+=j\n",
    "    average=total/size1\n",
    "    print(i,\"번째 데이터 ==> 총합 =\",total,\"평균 =\",average)"
   ]
  },
  {
   "cell_type": "code",
   "execution_count": 69,
   "id": "0ff9837f",
   "metadata": {},
   "outputs": [
    {
     "name": "stdout",
     "output_type": "stream",
     "text": [
      "이번에 출력되는 데이터 -> [88, 72, 83, 90]\n",
      "[88, 72, 83, 90] 에 대한 총합 = 333 , 평균 = 83.25\n",
      "이번에 출력되는 데이터 -> [63, 77, 72, 80]\n",
      "[63, 77, 72, 80] 에 대한 총합 = 292 , 평균 = 73.0\n"
     ]
    }
   ],
   "source": [
    "for row in mydata:\n",
    "    print(\"이번에 출력되는 데이터 ->\",row)\n",
    "    total=0\n",
    "    for col in row:\n",
    "        total+=col\n",
    "    average=total/len(row)\n",
    "    print(row,\"에 대한 총합 =\",total,\", 평균 =\",average)"
   ]
  },
  {
   "cell_type": "code",
   "execution_count": null,
   "id": "1a240953",
   "metadata": {},
   "outputs": [],
   "source": []
  }
 ],
 "metadata": {
  "kernelspec": {
   "display_name": "Python 3",
   "language": "python",
   "name": "python3"
  },
  "language_info": {
   "codemirror_mode": {
    "name": "ipython",
    "version": 3
   },
   "file_extension": ".py",
   "mimetype": "text/x-python",
   "name": "python",
   "nbconvert_exporter": "python",
   "pygments_lexer": "ipython3",
   "version": "3.13.9"
  }
 },
 "nbformat": 4,
 "nbformat_minor": 5
}
