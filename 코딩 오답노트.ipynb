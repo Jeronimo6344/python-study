{
 "cells": [
  {
   "cell_type": "markdown",
   "id": "4e92d272",
   "metadata": {},
   "source": [
    "### 팩토리얼 함수 생성하기\n",
    "[답안]"
   ]
  },
  {
   "cell_type": "code",
   "execution_count": 3,
   "id": "15944a47",
   "metadata": {},
   "outputs": [],
   "source": [
    "def fecto(n):\n",
    "    f = 1 # 팩토리얼 값을 저장할 변수, 초기값은 1\n",
    "    for i in range(1, n+1): # 1부터 n까지 반복하여 곱함\n",
    "        f *= i # 현재 숫자를 누적 곱셈\n",
    "    return f # 계산된 팩토리얼 값 반환\n",
    "def solution1(balls, share):\n",
    "    answer1 = fecto(balls) / (fecto(balls - share) * fecto(share))\n",
    "    return answer1"
   ]
  },
  {
   "cell_type": "markdown",
   "id": "8143d1ea",
   "metadata": {},
   "source": [
    "[오류]"
   ]
  },
  {
   "cell_type": "code",
   "execution_count": null,
   "id": "54680f1b",
   "metadata": {},
   "outputs": [],
   "source": [
    "def solution2(balls, share):\n",
    "    answer2=1\n",
    "    for share in range(share,0,-1):\n",
    "        answer2=answer2*balls/share     # 이 부분에서 약분이 안되는 경우가 발생하기 때문에 소수점이 튀어나온다\n",
    "        print(answer2)                  # 뭔가 이상하다 싶으면 중간에 print 함수를 넣어서 어떻게 진행되는 지 체크해보기\n",
    "        balls-=1\n",
    "    return answer2"
   ]
  },
  {
   "cell_type": "code",
   "execution_count": 6,
   "id": "1d287105",
   "metadata": {},
   "outputs": [
    {
     "name": "stdout",
     "output_type": "stream",
     "text": [
      "779255311989700.0\n"
     ]
    }
   ],
   "source": [
    "print(solution1(53,24))"
   ]
  },
  {
   "cell_type": "code",
   "execution_count": 7,
   "id": "fa60bd18",
   "metadata": {},
   "outputs": [
    {
     "name": "stdout",
     "output_type": "stream",
     "text": [
      "2.2083333333333335\n",
      "4.992753623188406\n",
      "11.57411067193676\n",
      "27.55740636175419\n",
      "67.51564558629777\n",
      "170.56584148117332\n",
      "445.36636386750814\n",
      "1205.108984582669\n",
      "3389.369019138757\n",
      "9942.14912280702\n",
      "30536.600877192996\n",
      "98656.71052631583\n",
      "337077.09429824573\n",
      "1225734.8883572572\n",
      "4780366.064593303\n",
      "20183767.828282837\n",
      "93349926.20580812\n",
      "480085334.7727275\n",
      "2800497786.1742435\n",
      "19043384945.984856\n",
      "157107925804.37506\n",
      "1675817875246.6672\n",
      "25975177066323.344\n",
      "779255311989700.2\n",
      "779255311989700.2\n"
     ]
    }
   ],
   "source": [
    "print(solution2(53,24))"
   ]
  },
  {
   "cell_type": "markdown",
   "id": "6ea71e13",
   "metadata": {},
   "source": [
    "## 제곱수 찾기"
   ]
  },
  {
   "cell_type": "markdown",
   "id": "c39d8cf2",
   "metadata": {},
   "source": [
    "[답안]"
   ]
  },
  {
   "cell_type": "code",
   "execution_count": 2,
   "id": "6b10bcac",
   "metadata": {},
   "outputs": [],
   "source": [
    "def solution(n):\n",
    "    answer = 2                              # 기본적으로 n이 제곱수가 아니라고 가정\n",
    "                                            # i를 제곱해서 n이 되기 위해서는 n의 절반보다 클 필요가 없음.\n",
    "    for i in range(2, n//2):                # 2부터 n//2까지 반복 (1은 항상 제곱수의 기준이 될 수 있음)\n",
    "        if i ** 2 == n:                     # i를 제곱했을 때 n과 같다면?\n",
    "            answer = 1                      # n이 제곱수이므로 answer 값을 1로 변경\n",
    "            break                           # 정답을 찾았으므로 더 이상 반복할 필요 없음\n",
    "    return answer                           # 결과 반환\n"
   ]
  },
  {
   "cell_type": "markdown",
   "id": "b23b64e2",
   "metadata": {},
   "source": [
    "[오류]"
   ]
  },
  {
   "cell_type": "code",
   "execution_count": 3,
   "id": "902cfeef",
   "metadata": {},
   "outputs": [],
   "source": [
    "def solution2(n):\n",
    "    for i in range(1,n+1):\n",
    "        if pow(i,2)==n:\n",
    "            answer=1\n",
    "        else:\n",
    "            answer=2            # 제곱수를 지나서도... 계속 반복되기 때문에 answer은 2로 고정되어버림.\n",
    "    return answer"
   ]
  },
  {
   "cell_type": "markdown",
   "id": "22bd1223",
   "metadata": {},
   "source": [
    "[수정 코드]"
   ]
  },
  {
   "cell_type": "code",
   "execution_count": 4,
   "id": "df4510dc",
   "metadata": {},
   "outputs": [],
   "source": [
    "def solution3(n):\n",
    "    k=2\n",
    "    for i in range(1,n+1):          # 끝 자리가 너무 크다. n//2가 적합\n",
    "        if pow(i,2)==n:\n",
    "            k-=1\n",
    "        else:\n",
    "            k+=0\n",
    "    answer=k\n",
    "    return answer"
   ]
  },
  {
   "cell_type": "markdown",
   "id": "d1376845",
   "metadata": {},
   "source": [
    "### 피자 나눠먹기"
   ]
  },
  {
   "cell_type": "markdown",
   "id": "82c5998f",
   "metadata": {},
   "source": [
    "[답안]"
   ]
  },
  {
   "cell_type": "code",
   "execution_count": null,
   "id": "3199e629",
   "metadata": {},
   "outputs": [],
   "source": [
    "def solution(n):\n",
    "    answer=1\n",
    "    while True:\n",
    "        if answer*6%n==0:\n",
    "            break\n",
    "        answer+=1\n",
    "    return answer"
   ]
  },
  {
   "cell_type": "markdown",
   "id": "b74245ad",
   "metadata": {},
   "source": [
    "[오류]"
   ]
  },
  {
   "cell_type": "code",
   "execution_count": null,
   "id": "12ecb73e",
   "metadata": {},
   "outputs": [],
   "source": [
    "def solution(n):                # <-- n이 6보다 작으면 오류가 발생!!!!\n",
    "    answer = 0\n",
    "    for i in range(1,n+1):\n",
    "        if (n*i)%6==0:\n",
    "            answer=(n*i)/6\n",
    "            break\n",
    "    return answer               "
   ]
  },
  {
   "cell_type": "markdown",
   "id": "7dda6e30",
   "metadata": {},
   "source": [
    "[수정 코드]"
   ]
  },
  {
   "cell_type": "code",
   "execution_count": null,
   "id": "76f67bac",
   "metadata": {},
   "outputs": [],
   "source": [
    "def solution(n):                \n",
    "    answer = 5\n",
    "    if n==1 or n==2 or n==3:\n",
    "        answer=1\n",
    "    else:\n",
    "        for i in range(1,n+1):      # n=5일 때에 range(1,6)이 되면서 i = 1~5 로 설정됨...! 따라서 i가 6이 될 수 없기에 기본 설정된 answer 값을 따라감....\n",
    "            if (n*i)%6==0:\n",
    "                answer=(n*i)/6\n",
    "                break\n",
    "    return answer"
   ]
  },
  {
   "cell_type": "markdown",
   "id": "5bec6e4d",
   "metadata": {},
   "source": [
    "### 분수의 덧셈 구하기\n",
    "[너 왜 이렇게 짰니?]"
   ]
  },
  {
   "cell_type": "code",
   "execution_count": 16,
   "id": "5ab56755",
   "metadata": {},
   "outputs": [],
   "source": [
    "def solution(numer1, denom1, numer2, denom2):\n",
    "    m1=1\n",
    "    n1=1\n",
    "    for j in range(1,denom1*denom2+1):\n",
    "        n=1\n",
    "        for i in range(1,denom1*denom2+1):\n",
    "            if i%denom1==0 and i%denom2==0:\n",
    "                n=i\n",
    "                break\n",
    "        m=numer1*(n//denom1)+numer2*(n//denom2)\n",
    "        if m%j==0 and n%j==0:\n",
    "            m1=m//j\n",
    "            n1=n//j\n",
    "    answer = [m1,n1]\n",
    "    return answer"
   ]
  },
  {
   "cell_type": "markdown",
   "id": "08af6c5f",
   "metadata": {},
   "source": [
    "[그나마 좀 고친 버전]"
   ]
  },
  {
   "cell_type": "code",
   "execution_count": null,
   "id": "c26b5aef",
   "metadata": {},
   "outputs": [],
   "source": [
    "def solution(numer1, denom1, numer2, denom2):\n",
    "    y=1\n",
    "    n=0\n",
    "    m=0\n",
    "    while True:\n",
    "        if denom1==denom2:\n",
    "            m=denom1\n",
    "            n=numer1+numer2\n",
    "            break\n",
    "        y+=1\n",
    "        if y%denom1==0 and y%denom2==0:\n",
    "            m=y\n",
    "            n=numer1*(y//denom1)+numer2*(y//denom2)\n",
    "            break\n",
    "    for i in range(m,0,-1):\n",
    "        if n%i==0 and m%i==0:\n",
    "            n/=i\n",
    "            m/=i\n",
    "    answer=[n,m]\n",
    "    return answer                       # 진짜 개뻘짓을 했구나................. 실제 수학문제처럼 풀려고 하다보니 식이 너무 길어짐"
   ]
  },
  {
   "cell_type": "markdown",
   "id": "051bbfa0",
   "metadata": {},
   "source": [
    "[답안]"
   ]
  },
  {
   "cell_type": "code",
   "execution_count": 22,
   "id": "6706c918",
   "metadata": {},
   "outputs": [],
   "source": [
    "def solution(numer1, denom1, numer2, denom2):\n",
    "    answer = [0, 0]\n",
    "    numer3 = denom2 * numer1 + numer2 * denom1\n",
    "    denom3 = denom1 * denom2\n",
    "    i = numer3\n",
    "    for i in range(numer3, 0, -1):\n",
    "        if numer3 % i == 0 and denom3 % i == 0:\n",
    "            break\n",
    "    answer[0] = numer3 // i\n",
    "    answer[1] = denom3 // i\n",
    "    return answer"
   ]
  },
  {
   "cell_type": "code",
   "execution_count": null,
   "id": "aec5d3d5",
   "metadata": {},
   "outputs": [],
   "source": []
  }
 ],
 "metadata": {
  "kernelspec": {
   "display_name": "Python 3",
   "language": "python",
   "name": "python3"
  },
  "language_info": {
   "codemirror_mode": {
    "name": "ipython",
    "version": 3
   },
   "file_extension": ".py",
   "mimetype": "text/x-python",
   "name": "python",
   "nbconvert_exporter": "python",
   "pygments_lexer": "ipython3",
   "version": "3.13.9"
  }
 },
 "nbformat": 4,
 "nbformat_minor": 5
}
