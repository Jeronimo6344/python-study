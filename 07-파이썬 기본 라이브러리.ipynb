{
 "cells": [
  {
   "cell_type": "markdown",
   "id": "e93b8ebb",
   "metadata": {},
   "source": [
    "# LAB07 - 파이썬 기본 라이브러리\n",
    "## 모듈과 라이브러리"
   ]
  },
  {
   "cell_type": "code",
   "execution_count": 1,
   "id": "51cc05a2",
   "metadata": {},
   "outputs": [],
   "source": [
    "# 파일 생성 및 모듈 생성 완료"
   ]
  },
  {
   "cell_type": "markdown",
   "id": "6a2ba329",
   "metadata": {},
   "source": [
    "## 라이브러리 활용"
   ]
  },
  {
   "cell_type": "code",
   "execution_count": 2,
   "id": "a556ce8e",
   "metadata": {},
   "outputs": [
    {
     "name": "stdout",
     "output_type": "stream",
     "text": [
      "7\n",
      "-1\n"
     ]
    }
   ],
   "source": [
    "from mylibrary import MyMod1\n",
    "\n",
    "print(MyMod1.plus(3,4))\n",
    "print(MyMod1.minus(3,4))"
   ]
  },
  {
   "cell_type": "code",
   "execution_count": 3,
   "id": "f4503e45",
   "metadata": {},
   "outputs": [
    {
     "name": "stdout",
     "output_type": "stream",
     "text": [
      "------ 생성자가 실행되었습니다. ------\n",
      "이름: 파이썬학생 / 이메일: cody634455@gamil.com\n"
     ]
    }
   ],
   "source": [
    "from mylibrary import MyMod2\n",
    "\n",
    "mem=MyMod2.Member('파이썬학생', 'cody634455@gamil.com')\n",
    "mem.view_info()"
   ]
  },
  {
   "cell_type": "code",
   "execution_count": 4,
   "id": "e9663a00",
   "metadata": {},
   "outputs": [
    {
     "name": "stdout",
     "output_type": "stream",
     "text": [
      "45\n",
      "15\n"
     ]
    }
   ],
   "source": [
    "from mylibrary import MyMod3\n",
    "\n",
    "print(MyMod3.my_calc.plus(30,15))\n",
    "print(MyMod3.my_calc.minus(30,15))"
   ]
  },
  {
   "cell_type": "code",
   "execution_count": 5,
   "id": "97fc9b37",
   "metadata": {},
   "outputs": [
    {
     "name": "stdout",
     "output_type": "stream",
     "text": [
      "7\n",
      "-1\n"
     ]
    }
   ],
   "source": [
    "from mylibrary import MyMod1 as hello\n",
    "\n",
    "print(hello.plus(3,4))\n",
    "print(hello.minus(3,4))"
   ]
  },
  {
   "cell_type": "code",
   "execution_count": 7,
   "id": "8da4d5f0",
   "metadata": {},
   "outputs": [
    {
     "name": "stdout",
     "output_type": "stream",
     "text": [
      "------ 생성자가 실행되었습니다. ------\n",
      "이름: 파이썬학생 / 이메일: asdf@naver.com\n"
     ]
    }
   ],
   "source": [
    "from mylibrary import MyMod2 as User\n",
    "mem=User.Member('파이썬학생', 'asdf@naver.com')\n",
    "mem.view_info()"
   ]
  },
  {
   "cell_type": "code",
   "execution_count": 8,
   "id": "34dbaa32",
   "metadata": {},
   "outputs": [
    {
     "name": "stdout",
     "output_type": "stream",
     "text": [
      "45\n",
      "15\n"
     ]
    }
   ],
   "source": [
    "from mylibrary import MyMod3 as MyObject\n",
    "\n",
    "print(MyObject.my_calc.plus(30,15))\n",
    "print(MyObject.my_calc.minus(30,15))"
   ]
  },
  {
   "cell_type": "code",
   "execution_count": null,
   "id": "3ede3433",
   "metadata": {},
   "outputs": [
    {
     "name": "stdout",
     "output_type": "stream",
     "text": [
      "7\n"
     ]
    }
   ],
   "source": [
    "from mylibrary.MyMod1 import plus\n",
    "\n",
    "print(plus(3,4))\n",
    "\n",
    "# print(minus(3,4))  <- minus는 가져오지 않았기 때문에 사용 불가"
   ]
  },
  {
   "cell_type": "code",
   "execution_count": 11,
   "id": "532e502a",
   "metadata": {},
   "outputs": [
    {
     "name": "stdout",
     "output_type": "stream",
     "text": [
      "------ 생성자가 실행되었습니다. ------\n",
      "이름: 학생이름 / 이메일: 3asdf@sdalf.com\n"
     ]
    }
   ],
   "source": [
    "from mylibrary.MyMod2 import Member\n",
    "mem=Member('학생이름', '3asdf@sdalf.com')\n",
    "mem.view_info()"
   ]
  },
  {
   "cell_type": "code",
   "execution_count": 12,
   "id": "add72734",
   "metadata": {},
   "outputs": [
    {
     "name": "stdout",
     "output_type": "stream",
     "text": [
      "45\n",
      "15\n"
     ]
    }
   ],
   "source": [
    "from mylibrary.MyMod3 import my_calc\n",
    "print(my_calc.plus(30,15))\n",
    "print(my_calc.minus(30,15))"
   ]
  },
  {
   "cell_type": "code",
   "execution_count": 14,
   "id": "7f493608",
   "metadata": {},
   "outputs": [
    {
     "name": "stdout",
     "output_type": "stream",
     "text": [
      "45\n",
      "------ 생성자가 실행되었습니다. ------\n",
      "이름: 김선규 / 이메일: cody6344@naver.com\n",
      "300\n",
      "200\n"
     ]
    }
   ],
   "source": [
    "from mylibrary.MyMod1 import plus as 더하기\n",
    "from mylibrary.MyMod2 import Member as 회원클래스\n",
    "from mylibrary.MyMod3 import my_calc as 계산기\n",
    "\n",
    "print(더하기(30,15))\n",
    "\n",
    "회원=회원클래스('김선규', 'cody6344@naver.com')\n",
    "회원.view_info()\n",
    "\n",
    "print(계산기.plus(100,200))\n",
    "print(계산기.minus(500,300))"
   ]
  },
  {
   "cell_type": "markdown",
   "id": "1d31553e",
   "metadata": {},
   "source": [
    "## 파일 / 폴더 관련 기능"
   ]
  },
  {
   "cell_type": "code",
   "execution_count": 15,
   "id": "36182ce1",
   "metadata": {},
   "outputs": [],
   "source": [
    "import sys\n",
    "import os"
   ]
  },
  {
   "cell_type": "code",
   "execution_count": 16,
   "id": "9f560048",
   "metadata": {},
   "outputs": [
    {
     "name": "stdout",
     "output_type": "stream",
     "text": [
      "win32\n"
     ]
    }
   ],
   "source": [
    "print(sys.platform)"
   ]
  },
  {
   "cell_type": "code",
   "execution_count": 18,
   "id": "c933b43e",
   "metadata": {},
   "outputs": [
    {
     "name": "stdout",
     "output_type": "stream",
     "text": [
      "['.git', '.gitignore', '01-파이썬 시작하기, 변수와 연산자.ipynb', '02-함수의 이해, 코딩테스트 준비, 조건문과 반복문.ipynb', '03-프로그램 흐름제어, 리스트(1).ipynb', '04-리스트(2), 문자열.ipynb', '05-딕셔너리, 예외처리, 파일 입출력.ipynb', '06-객체지향 프로그래밍의 이해.ipynb', '07-파이썬 기본 라이브러리.ipynb', 'covid19.csv', 'grade.csv', 'grade2.csv', 'hellopython.txt', 'helloworld.txt', 'mylibrary', 'README.md', '연습장.ipynb', '코딩 오답노트.ipynb']\n"
     ]
    }
   ],
   "source": [
    "ls=os.listdir('./')\n",
    "print(ls)"
   ]
  },
  {
   "cell_type": "code",
   "execution_count": 19,
   "id": "ef4137e1",
   "metadata": {},
   "outputs": [
    {
     "name": "stdout",
     "output_type": "stream",
     "text": [
      "False\n"
     ]
    }
   ],
   "source": [
    "k=os.path.exists('./hello')\n",
    "print(k)"
   ]
  },
  {
   "cell_type": "code",
   "execution_count": 20,
   "id": "51868b8c",
   "metadata": {},
   "outputs": [
    {
     "name": "stdout",
     "output_type": "stream",
     "text": [
      "c:\\Users\\itwill\\python-study\\hello\n"
     ]
    }
   ],
   "source": [
    "print(os.path.abspath('./hello'))"
   ]
  },
  {
   "cell_type": "code",
   "execution_count": 22,
   "id": "3416b6f5",
   "metadata": {},
   "outputs": [
    {
     "name": "stdout",
     "output_type": "stream",
     "text": [
      "hello 폴더를 삭제했습니다.\n"
     ]
    }
   ],
   "source": [
    "if os.path.exists('./hello')==False:\n",
    "    os.mkdir('./hello')\n",
    "    print('hello 폴더를 생성했습니다.')\n",
    "else:\n",
    "    os.rmdir('./hello')\n",
    "    print('hello 폴더를 삭제했습니다.')"
   ]
  },
  {
   "cell_type": "code",
   "execution_count": 23,
   "id": "892e2f6f",
   "metadata": {},
   "outputs": [],
   "source": [
    "import glob as gl"
   ]
  },
  {
   "cell_type": "code",
   "execution_count": 25,
   "id": "abb60e1b",
   "metadata": {},
   "outputs": [
    {
     "name": "stdout",
     "output_type": "stream",
     "text": [
      "['01-파이썬 시작하기, 변수와 연산자.ipynb', '02-함수의 이해, 코딩테스트 준비, 조건문과 반복문.ipynb', '03-프로그램 흐름제어, 리스트(1).ipynb', '04-리스트(2), 문자열.ipynb', '05-딕셔너리, 예외처리, 파일 입출력.ipynb', '06-객체지향 프로그래밍의 이해.ipynb', '07-파이썬 기본 라이브러리.ipynb', 'covid19.csv', 'grade.csv', 'grade2.csv', 'hellopython.txt', 'helloworld.txt', 'mylibrary', 'README.md', '연습장.ipynb', '코딩 오답노트.ipynb']\n",
      "['01-파이썬 시작하기, 변수와 연산자.ipynb', '02-함수의 이해, 코딩테스트 준비, 조건문과 반복문.ipynb', '03-프로그램 흐름제어, 리스트(1).ipynb', '04-리스트(2), 문자열.ipynb', '05-딕셔너리, 예외처리, 파일 입출력.ipynb', '06-객체지향 프로그래밍의 이해.ipynb', '07-파이썬 기본 라이브러리.ipynb', '연습장.ipynb', '코딩 오답노트.ipynb']\n",
      "['02-함수의 이해, 코딩테스트 준비, 조건문과 반복문.ipynb', '04-리스트(2), 문자열.ipynb', 'grade2.csv']\n"
     ]
    }
   ],
   "source": [
    "ls=gl.glob('*')\n",
    "print(ls)\n",
    "ls=gl.glob('*.ipynb')\n",
    "print(ls)\n",
    "ls=gl.glob('*2*')\n",
    "print(ls)"
   ]
  },
  {
   "cell_type": "code",
   "execution_count": 26,
   "id": "f56e9429",
   "metadata": {},
   "outputs": [],
   "source": [
    "import shutil"
   ]
  },
  {
   "cell_type": "code",
   "execution_count": 32,
   "id": "11d97f5f",
   "metadata": {},
   "outputs": [
    {
     "name": "stdout",
     "output_type": "stream",
     "text": [
      "python 폴더와 하위 폴더들을 생성했습니다.\n"
     ]
    }
   ],
   "source": [
    "if os.path.exists('python')==False:\n",
    "    os.makedirs('python/test/hello/world', exist_ok=True)\n",
    "    print('python 폴더와 하위 폴더들을 생성했습니다.')\n",
    "else:\n",
    "    shutil.rmtree('python')\n",
    "    print('python 폴더가 삭제되었습니다.')"
   ]
  },
  {
   "cell_type": "code",
   "execution_count": 33,
   "id": "0f822cc5",
   "metadata": {},
   "outputs": [
    {
     "name": "stdout",
     "output_type": "stream",
     "text": [
      "python 폴더가 ../created 폴더로 이동되었습니다.\n"
     ]
    }
   ],
   "source": [
    "if os.path.exists('python'):\n",
    "    shutil.move('python', '../created')\n",
    "    print('python 폴더가 ../created 폴더로 이동되었습니다.')"
   ]
  },
  {
   "cell_type": "code",
   "execution_count": 34,
   "id": "f691e070",
   "metadata": {},
   "outputs": [
    {
     "name": "stdout",
     "output_type": "stream",
     "text": [
      "python 폴더가 copy로 복사되었습니다.\n"
     ]
    }
   ],
   "source": [
    "if os.path.exists('../created'):\n",
    "    shutil.copytree('../created', './copy')\n",
    "    print('python 폴더가 copy로 복사되었습니다.')"
   ]
  },
  {
   "cell_type": "code",
   "execution_count": 52,
   "id": "b163a671",
   "metadata": {},
   "outputs": [
    {
     "name": "stdout",
     "output_type": "stream",
     "text": [
      "hello.txt 파일을 생성했습니다.\n",
      "hello.txt가 world.txt로 복사되었습니다.\n"
     ]
    }
   ],
   "source": [
    "if os.path.exists('hello.txt')==False:\n",
    "    with open('hello.txt','w',encoding='utf-8') as f:\n",
    "        f.write('Life is too short, you need python')\n",
    "        print('hello.txt 파일을 생성했습니다.')\n",
    "    \n",
    "    shutil.copy('hello.txt','world.txt')\n",
    "    print('hello.txt가 world.txt로 복사되었습니다.')\n",
    "\n",
    "else:\n",
    "    os.remove('hello.txt')\n",
    "    print('hello.txt가 삭제되었습니다.')\n",
    "    os.remove('world.txt')\n",
    "    print('world.txt가 삭제되었습니다.')"
   ]
  },
  {
   "cell_type": "markdown",
   "id": "0b8bf28c",
   "metadata": {},
   "source": [
    "## 날짜 / 시간 관련 기능"
   ]
  },
  {
   "cell_type": "code",
   "execution_count": 37,
   "id": "80e233dd",
   "metadata": {},
   "outputs": [
    {
     "name": "stdout",
     "output_type": "stream",
     "text": [
      "2025-10-24 15:00:58.421323\n"
     ]
    }
   ],
   "source": [
    "import datetime as dt\n",
    "now_time=dt.datetime.now()\n",
    "print(now_time)"
   ]
  },
  {
   "cell_type": "code",
   "execution_count": 38,
   "id": "e4a85915",
   "metadata": {},
   "outputs": [
    {
     "name": "stdout",
     "output_type": "stream",
     "text": [
      "오늘은 2025년 10월 24일 입니다.\n"
     ]
    }
   ],
   "source": [
    "msg='오늘은 %d년 %d월 %d일 입니다.'\n",
    "print(msg%(now_time.year, now_time.month, now_time.day))"
   ]
  },
  {
   "cell_type": "code",
   "execution_count": 39,
   "id": "671e4108",
   "metadata": {},
   "outputs": [
    {
     "name": "stdout",
     "output_type": "stream",
     "text": [
      "지금은 15시 0분 58초 입니다.\n"
     ]
    }
   ],
   "source": [
    "msg='지금은 %d시 %d분 %d초 입니다.'\n",
    "print(msg%(now_time.hour, now_time.minute, now_time.second))"
   ]
  },
  {
   "cell_type": "code",
   "execution_count": 40,
   "id": "fe2bdfa8",
   "metadata": {},
   "outputs": [
    {
     "name": "stdout",
     "output_type": "stream",
     "text": [
      "4\n",
      "금\n"
     ]
    }
   ],
   "source": [
    "d=now_time.weekday()\n",
    "print(d)\n",
    "\n",
    "days=('월','화','수','목','금','토','일')\n",
    "print(days[d])"
   ]
  },
  {
   "cell_type": "code",
   "execution_count": 41,
   "id": "b22b8de0",
   "metadata": {},
   "outputs": [
    {
     "name": "stdout",
     "output_type": "stream",
     "text": [
      "25-10-24 15:00:58\n"
     ]
    }
   ],
   "source": [
    "print(now_time.strftime('%y-%m-%d %H:%M:%S'))"
   ]
  },
  {
   "cell_type": "code",
   "execution_count": 42,
   "id": "1e1040e8",
   "metadata": {},
   "outputs": [
    {
     "name": "stdout",
     "output_type": "stream",
     "text": [
      "2025년 10월 24일 15시 00분 58초\n"
     ]
    }
   ],
   "source": [
    "print(now_time.strftime('%Y년 %m월 %d일 %H시 %M분 %S초'))"
   ]
  },
  {
   "cell_type": "code",
   "execution_count": 43,
   "id": "08855359",
   "metadata": {},
   "outputs": [
    {
     "name": "stdout",
     "output_type": "stream",
     "text": [
      "18-08-30 13:26:55\n"
     ]
    }
   ],
   "source": [
    "someday=dt.datetime(2018,8,30,13,26,55)\n",
    "day_str=someday.strftime('%y-%m-%d %H:%M:%S')\n",
    "print(day_str)"
   ]
  },
  {
   "cell_type": "code",
   "execution_count": 44,
   "id": "ab51c0ba",
   "metadata": {},
   "outputs": [
    {
     "name": "stdout",
     "output_type": "stream",
     "text": [
      "17-01-02 14:44:00\n"
     ]
    }
   ],
   "source": [
    "date_str='2017년 01월 02일 14시 44분'\n",
    "oldday=dt.datetime.strptime(date_str,'%Y년 %m월 %d일 %H시 %M분')\n",
    "print(oldday.strftime('%y-%m-%d %H:%M:%S'))"
   ]
  },
  {
   "cell_type": "code",
   "execution_count": 45,
   "id": "1b0f3b49",
   "metadata": {},
   "outputs": [
    {
     "name": "stdout",
     "output_type": "stream",
     "text": [
      "25-10-24 15:07:13\n",
      "18-10-16 15:07:13\n"
     ]
    }
   ],
   "source": [
    "foo=dt.datetime.now()\n",
    "print(foo.strftime('%y-%m-%d %H:%M:%S'))\n",
    "\n",
    "change_date=foo.replace(year=2018,day=16,hour=15)\n",
    "print(change_date.strftime('%y-%m-%d %H:%M:%S'))"
   ]
  },
  {
   "cell_type": "code",
   "execution_count": 46,
   "id": "6b6c65e9",
   "metadata": {},
   "outputs": [
    {
     "name": "stdout",
     "output_type": "stream",
     "text": [
      "68 days, 8:52:08.459004\n"
     ]
    }
   ],
   "source": [
    "dt1=dt.datetime.now()\n",
    "dt2=dt.datetime(dt1.year+1,1,1,0,0,0)\n",
    "td=dt2-dt1\n",
    "print(td)"
   ]
  },
  {
   "cell_type": "code",
   "execution_count": 47,
   "id": "e382684c",
   "metadata": {},
   "outputs": [
    {
     "name": "stdout",
     "output_type": "stream",
     "text": [
      "68\n",
      "31928\n",
      "올해는 68일 남았습니다.\n"
     ]
    }
   ],
   "source": [
    "print(td.days)\n",
    "print(td.seconds)\n",
    "print('올해는 %d일 남았습니다.'%td.days)"
   ]
  },
  {
   "cell_type": "code",
   "execution_count": 48,
   "id": "3ee296a1",
   "metadata": {},
   "outputs": [
    {
     "name": "stdout",
     "output_type": "stream",
     "text": [
      "2026-02-01 16:10:04\n"
     ]
    }
   ],
   "source": [
    "d=dt.timedelta(days=100, seconds=3600)\n",
    "now_time=dt.datetime.now()\n",
    "after_time=now_time+d\n",
    "print(after_time.strftime('%Y-%m-%d %H:%M:%S'))"
   ]
  },
  {
   "cell_type": "code",
   "execution_count": 49,
   "id": "f2764d2b",
   "metadata": {},
   "outputs": [],
   "source": [
    "import os\n",
    "from smtplib import SMTP\n",
    "from email.mime.text import MIMEText\n",
    "from email.mime.application import MIMEApplication\n",
    "from email.mime.multipart import MIMEMultipart"
   ]
  },
  {
   "cell_type": "code",
   "execution_count": 53,
   "id": "2fb4ccd7",
   "metadata": {},
   "outputs": [],
   "source": [
    "from_addr='cody634455@gmail.com'\n",
    "to_addr='leekh4232@yonsei.ac.kr'\n",
    "subject='행운의 편지'\n",
    "content=\"\"\"이 편지는 영국에서 최초로 시작되어 일년에 한바퀴를 돌면서 받는 사람에게 행운을 주었고 지금은 당신에게로 옮겨진 이 편지는 4일 안에 당신 곁을 떠나야 합니다.\n",
    "이 편지를 포함해서 7통을 행운이 필요한 사람에게 보내 주셔야 합니다.\n",
    "복사를 해도 좋습니다. 혹 미신이라 하실지 모르지만 사실입니다.\n",
    "영국에서 HGXWCH이라는 사람은 1930년에 이 편지를 받았습니다. 그는 비서에게 복사해서 보내라고 했습니다. 며칠 뒤에 복권이 당첨되어 20억을 받았습니다.\n",
    "어떤 이는 이 편지를 받았으나 96시간 이내 자신의 손에서 떠나야 한다는 사실을 잊었습니다. 그는 곧 사직되었습니다. 나중에야 이 사실을 알고 7통의 편지를 보냈는데 다시 좋은 직장을 얻었습니다.\n",
    "미국의 케네디 대통령은 이 편지를 받았지만 그냥 버렸습니다. 결국 9일 후 그는 암살당했습니다.\n",
    "기억해 주세요. 이 편지를 보내면 7년의 행운이 있을 것이고 그렇지 않으면 3년의 불행이 있을 것입니다. 그리고 이 편지를 버리거나 낙서를 해서는 절대로 안됩니다.\n",
    "7통입니다. 이 편지를 받은 사람은 행운이 깃들 것입니다. 힘들겠지만 좋은 게 좋다고 생각하세요. 7년의 행운을 빌면서...\"\"\"\n",
    "files=['hello.txt','world.txt']"
   ]
  },
  {
   "cell_type": "code",
   "execution_count": 54,
   "id": "2c955333",
   "metadata": {},
   "outputs": [],
   "source": [
    "content_type='plain'\n",
    "username='cody634455@gmail.com'\n",
    "password='dwse mkxb bhvh jtcj'\n",
    "smtp='smtp.gmail.com'\n",
    "port=587"
   ]
  },
  {
   "cell_type": "code",
   "execution_count": 55,
   "id": "868ba7fd",
   "metadata": {},
   "outputs": [],
   "source": [
    "msg=MIMEMultipart()\n",
    "msg['Subject']=subject\n",
    "msg['From']=from_addr\n",
    "msg['To']=to_addr\n",
    "msg.attach(MIMEText(content, content_type))"
   ]
  },
  {
   "cell_type": "code",
   "execution_count": 56,
   "id": "7b6249a4",
   "metadata": {},
   "outputs": [
    {
     "name": "stdout",
     "output_type": "stream",
     "text": [
      "hello.txt (이)가 첨부되었습니다.\n",
      "world.txt (이)가 첨부되었습니다.\n"
     ]
    }
   ],
   "source": [
    "if files:\n",
    "    for file_item in files:\n",
    "        if os.path.exists(file_item):\n",
    "            with open(file_item, 'rb') as f:\n",
    "                basename=os.path.basename(file_item)\n",
    "                part=MIMEApplication(f.read(),Name=basename)\n",
    "                part['Content-Disposition']='attachment; filename=\"%s\"' %basename\n",
    "                msg.attach(part)\n",
    "                print(basename,'(이)가 첨부되었습니다.')"
   ]
  },
  {
   "cell_type": "code",
   "execution_count": 57,
   "id": "51f26a1f",
   "metadata": {},
   "outputs": [
    {
     "data": {
      "text/plain": [
       "(221,\n",
       " b'2.0.0 closing connection 41be03b00d2f7-b6cf4e0a42fsm4237679a12.25 - gsmtp')"
      ]
     },
     "execution_count": 57,
     "metadata": {},
     "output_type": "execute_result"
    }
   ],
   "source": [
    "mail=SMTP(smtp)\n",
    "mail.ehlo()\n",
    "mail.starttls()\n",
    "mail.login(username,password)\n",
    "mail.sendmail(from_addr,to_addr,msg.as_string())\n",
    "mail.quit()"
   ]
  },
  {
   "cell_type": "code",
   "execution_count": null,
   "id": "bb3398e4",
   "metadata": {},
   "outputs": [],
   "source": []
  }
 ],
 "metadata": {
  "kernelspec": {
   "display_name": "Python 3",
   "language": "python",
   "name": "python3"
  },
  "language_info": {
   "codemirror_mode": {
    "name": "ipython",
    "version": 3
   },
   "file_extension": ".py",
   "mimetype": "text/x-python",
   "name": "python",
   "nbconvert_exporter": "python",
   "pygments_lexer": "ipython3",
   "version": "3.13.9"
  }
 },
 "nbformat": 4,
 "nbformat_minor": 5
}
