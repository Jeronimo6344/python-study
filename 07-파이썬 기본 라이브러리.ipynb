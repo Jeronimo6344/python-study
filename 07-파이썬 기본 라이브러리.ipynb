{
 "cells": [
  {
   "cell_type": "markdown",
   "id": "e93b8ebb",
   "metadata": {},
   "source": [
    "# LAB07 - 파이썬 기본 라이브러리\n",
    "## 모듈과 라이브러리"
   ]
  },
  {
   "cell_type": "code",
   "execution_count": null,
   "id": "51cc05a2",
   "metadata": {},
   "outputs": [],
   "source": []
  }
 ],
 "metadata": {
  "language_info": {
   "name": "python"
  }
 },
 "nbformat": 4,
 "nbformat_minor": 5
}
