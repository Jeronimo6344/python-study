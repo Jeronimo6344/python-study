{
 "cells": [
  {
   "cell_type": "markdown",
   "id": "e93b8ebb",
   "metadata": {},
   "source": [
    "# LAB07 - 파이썬 기본 라이브러리\n",
    "## 모듈과 라이브러리"
   ]
  },
  {
   "cell_type": "code",
   "execution_count": 1,
   "id": "51cc05a2",
   "metadata": {},
   "outputs": [],
   "source": [
    "# 파일 생성 및 모듈 생성 완료"
   ]
  },
  {
   "cell_type": "markdown",
   "id": "6a2ba329",
   "metadata": {},
   "source": [
    "## 라이브러리 활용"
   ]
  },
  {
   "cell_type": "code",
   "execution_count": 2,
   "id": "a556ce8e",
   "metadata": {},
   "outputs": [
    {
     "name": "stdout",
     "output_type": "stream",
     "text": [
      "7\n",
      "-1\n"
     ]
    }
   ],
   "source": [
    "from mylibrary import MyMod1\n",
    "\n",
    "print(MyMod1.plus(3,4))\n",
    "print(MyMod1.minus(3,4))"
   ]
  },
  {
   "cell_type": "code",
   "execution_count": 3,
   "id": "f4503e45",
   "metadata": {},
   "outputs": [
    {
     "name": "stdout",
     "output_type": "stream",
     "text": [
      "------ 생성자가 실행되었습니다. ------\n",
      "이름: 파이썬학생 / 이메일: cody634455@gamil.com\n"
     ]
    }
   ],
   "source": [
    "from mylibrary import MyMod2\n",
    "\n",
    "mem=MyMod2.Member('파이썬학생', 'cody634455@gamil.com')\n",
    "mem.view_info()"
   ]
  },
  {
   "cell_type": "code",
   "execution_count": 4,
   "id": "e9663a00",
   "metadata": {},
   "outputs": [
    {
     "name": "stdout",
     "output_type": "stream",
     "text": [
      "45\n",
      "15\n"
     ]
    }
   ],
   "source": [
    "from mylibrary import MyMod3\n",
    "\n",
    "print(MyMod3.my_calc.plus(30,15))\n",
    "print(MyMod3.my_calc.minus(30,15))"
   ]
  },
  {
   "cell_type": "code",
   "execution_count": 5,
   "id": "97fc9b37",
   "metadata": {},
   "outputs": [
    {
     "name": "stdout",
     "output_type": "stream",
     "text": [
      "7\n",
      "-1\n"
     ]
    }
   ],
   "source": [
    "from mylibrary import MyMod1 as hello\n",
    "\n",
    "print(hello.plus(3,4))\n",
    "print(hello.minus(3,4))"
   ]
  },
  {
   "cell_type": "code",
   "execution_count": 7,
   "id": "8da4d5f0",
   "metadata": {},
   "outputs": [
    {
     "name": "stdout",
     "output_type": "stream",
     "text": [
      "------ 생성자가 실행되었습니다. ------\n",
      "이름: 파이썬학생 / 이메일: asdf@naver.com\n"
     ]
    }
   ],
   "source": [
    "from mylibrary import MyMod2 as User\n",
    "mem=User.Member('파이썬학생', 'asdf@naver.com')\n",
    "mem.view_info()"
   ]
  },
  {
   "cell_type": "code",
   "execution_count": 8,
   "id": "34dbaa32",
   "metadata": {},
   "outputs": [
    {
     "name": "stdout",
     "output_type": "stream",
     "text": [
      "45\n",
      "15\n"
     ]
    }
   ],
   "source": [
    "from mylibrary import MyMod3 as MyObject\n",
    "\n",
    "print(MyObject.my_calc.plus(30,15))\n",
    "print(MyObject.my_calc.minus(30,15))"
   ]
  },
  {
   "cell_type": "code",
   "execution_count": null,
   "id": "3ede3433",
   "metadata": {},
   "outputs": [
    {
     "name": "stdout",
     "output_type": "stream",
     "text": [
      "7\n"
     ]
    }
   ],
   "source": [
    "from mylibrary.MyMod1 import plus\n",
    "\n",
    "print(plus(3,4))\n",
    "\n",
    "# print(minus(3,4))  <- minus는 가져오지 않았기 때문에 사용 불가"
   ]
  },
  {
   "cell_type": "code",
   "execution_count": 11,
   "id": "532e502a",
   "metadata": {},
   "outputs": [
    {
     "name": "stdout",
     "output_type": "stream",
     "text": [
      "------ 생성자가 실행되었습니다. ------\n",
      "이름: 학생이름 / 이메일: 3asdf@sdalf.com\n"
     ]
    }
   ],
   "source": [
    "from mylibrary.MyMod2 import Member\n",
    "mem=Member('학생이름', '3asdf@sdalf.com')\n",
    "mem.view_info()"
   ]
  },
  {
   "cell_type": "code",
   "execution_count": 12,
   "id": "add72734",
   "metadata": {},
   "outputs": [
    {
     "name": "stdout",
     "output_type": "stream",
     "text": [
      "45\n",
      "15\n"
     ]
    }
   ],
   "source": [
    "from mylibrary.MyMod3 import my_calc\n",
    "print(my_calc.plus(30,15))\n",
    "print(my_calc.minus(30,15))"
   ]
  },
  {
   "cell_type": "code",
   "execution_count": 14,
   "id": "7f493608",
   "metadata": {},
   "outputs": [
    {
     "name": "stdout",
     "output_type": "stream",
     "text": [
      "45\n",
      "------ 생성자가 실행되었습니다. ------\n",
      "이름: 김선규 / 이메일: cody6344@naver.com\n",
      "300\n",
      "200\n"
     ]
    }
   ],
   "source": [
    "from mylibrary.MyMod1 import plus as 더하기\n",
    "from mylibrary.MyMod2 import Member as 회원클래스\n",
    "from mylibrary.MyMod3 import my_calc as 계산기\n",
    "\n",
    "print(더하기(30,15))\n",
    "\n",
    "회원=회원클래스('김선규', 'cody6344@naver.com')\n",
    "회원.view_info()\n",
    "\n",
    "print(계산기.plus(100,200))\n",
    "print(계산기.minus(500,300))"
   ]
  },
  {
   "cell_type": "markdown",
   "id": "1d31553e",
   "metadata": {},
   "source": [
    "## 파일 / 폴더 관련 기능"
   ]
  },
  {
   "cell_type": "code",
   "execution_count": 15,
   "id": "36182ce1",
   "metadata": {},
   "outputs": [],
   "source": [
    "import sys\n",
    "import os"
   ]
  },
  {
   "cell_type": "code",
   "execution_count": 16,
   "id": "9f560048",
   "metadata": {},
   "outputs": [
    {
     "name": "stdout",
     "output_type": "stream",
     "text": [
      "win32\n"
     ]
    }
   ],
   "source": [
    "print(sys.platform)"
   ]
  },
  {
   "cell_type": "code",
   "execution_count": 18,
   "id": "c933b43e",
   "metadata": {},
   "outputs": [
    {
     "name": "stdout",
     "output_type": "stream",
     "text": [
      "['.git', '.gitignore', '01-파이썬 시작하기, 변수와 연산자.ipynb', '02-함수의 이해, 코딩테스트 준비, 조건문과 반복문.ipynb', '03-프로그램 흐름제어, 리스트(1).ipynb', '04-리스트(2), 문자열.ipynb', '05-딕셔너리, 예외처리, 파일 입출력.ipynb', '06-객체지향 프로그래밍의 이해.ipynb', '07-파이썬 기본 라이브러리.ipynb', 'covid19.csv', 'grade.csv', 'grade2.csv', 'hellopython.txt', 'helloworld.txt', 'mylibrary', 'README.md', '연습장.ipynb', '코딩 오답노트.ipynb']\n"
     ]
    }
   ],
   "source": [
    "ls=os.listdir('./')\n",
    "print(ls)"
   ]
  },
  {
   "cell_type": "code",
   "execution_count": 19,
   "id": "ef4137e1",
   "metadata": {},
   "outputs": [
    {
     "name": "stdout",
     "output_type": "stream",
     "text": [
      "False\n"
     ]
    }
   ],
   "source": [
    "k=os.path.exists('./hello')\n",
    "print(k)"
   ]
  },
  {
   "cell_type": "code",
   "execution_count": 20,
   "id": "51868b8c",
   "metadata": {},
   "outputs": [
    {
     "name": "stdout",
     "output_type": "stream",
     "text": [
      "c:\\Users\\itwill\\python-study\\hello\n"
     ]
    }
   ],
   "source": [
    "print(os.path.abspath('./hello'))"
   ]
  },
  {
   "cell_type": "code",
   "execution_count": 22,
   "id": "3416b6f5",
   "metadata": {},
   "outputs": [
    {
     "name": "stdout",
     "output_type": "stream",
     "text": [
      "hello 폴더를 삭제했습니다.\n"
     ]
    }
   ],
   "source": [
    "if os.path.exists('./hello')==False:\n",
    "    os.mkdir('./hello')\n",
    "    print('hello 폴더를 생성했습니다.')\n",
    "else:\n",
    "    os.rmdir('./hello')\n",
    "    print('hello 폴더를 삭제했습니다.')"
   ]
  },
  {
   "cell_type": "code",
   "execution_count": 23,
   "id": "892e2f6f",
   "metadata": {},
   "outputs": [],
   "source": [
    "import glob as gl"
   ]
  },
  {
   "cell_type": "code",
   "execution_count": 25,
   "id": "abb60e1b",
   "metadata": {},
   "outputs": [
    {
     "name": "stdout",
     "output_type": "stream",
     "text": [
      "['01-파이썬 시작하기, 변수와 연산자.ipynb', '02-함수의 이해, 코딩테스트 준비, 조건문과 반복문.ipynb', '03-프로그램 흐름제어, 리스트(1).ipynb', '04-리스트(2), 문자열.ipynb', '05-딕셔너리, 예외처리, 파일 입출력.ipynb', '06-객체지향 프로그래밍의 이해.ipynb', '07-파이썬 기본 라이브러리.ipynb', 'covid19.csv', 'grade.csv', 'grade2.csv', 'hellopython.txt', 'helloworld.txt', 'mylibrary', 'README.md', '연습장.ipynb', '코딩 오답노트.ipynb']\n",
      "['01-파이썬 시작하기, 변수와 연산자.ipynb', '02-함수의 이해, 코딩테스트 준비, 조건문과 반복문.ipynb', '03-프로그램 흐름제어, 리스트(1).ipynb', '04-리스트(2), 문자열.ipynb', '05-딕셔너리, 예외처리, 파일 입출력.ipynb', '06-객체지향 프로그래밍의 이해.ipynb', '07-파이썬 기본 라이브러리.ipynb', '연습장.ipynb', '코딩 오답노트.ipynb']\n",
      "['02-함수의 이해, 코딩테스트 준비, 조건문과 반복문.ipynb', '04-리스트(2), 문자열.ipynb', 'grade2.csv']\n"
     ]
    }
   ],
   "source": [
    "ls=gl.glob('*')\n",
    "print(ls)\n",
    "ls=gl.glob('*.ipynb')\n",
    "print(ls)\n",
    "ls=gl.glob('*2*')\n",
    "print(ls)"
   ]
  },
  {
   "cell_type": "code",
   "execution_count": 26,
   "id": "f56e9429",
   "metadata": {},
   "outputs": [],
   "source": [
    "import shutil"
   ]
  },
  {
   "cell_type": "code",
   "execution_count": 32,
   "id": "11d97f5f",
   "metadata": {},
   "outputs": [
    {
     "name": "stdout",
     "output_type": "stream",
     "text": [
      "python 폴더와 하위 폴더들을 생성했습니다.\n"
     ]
    }
   ],
   "source": [
    "if os.path.exists('python')==False:\n",
    "    os.makedirs('python/test/hello/world', exist_ok=True)\n",
    "    print('python 폴더와 하위 폴더들을 생성했습니다.')\n",
    "else:\n",
    "    shutil.rmtree('python')\n",
    "    print('python 폴더가 삭제되었습니다.')"
   ]
  },
  {
   "cell_type": "code",
   "execution_count": 33,
   "id": "0f822cc5",
   "metadata": {},
   "outputs": [
    {
     "name": "stdout",
     "output_type": "stream",
     "text": [
      "python 폴더가 ../created 폴더로 이동되었습니다.\n"
     ]
    }
   ],
   "source": [
    "if os.path.exists('python'):\n",
    "    shutil.move('python', '../created')\n",
    "    print('python 폴더가 ../created 폴더로 이동되었습니다.')"
   ]
  },
  {
   "cell_type": "code",
   "execution_count": 34,
   "id": "f691e070",
   "metadata": {},
   "outputs": [
    {
     "name": "stdout",
     "output_type": "stream",
     "text": [
      "python 폴더가 copy로 복사되었습니다.\n"
     ]
    }
   ],
   "source": [
    "if os.path.exists('../created'):\n",
    "    shutil.copytree('../created', './copy')\n",
    "    print('python 폴더가 copy로 복사되었습니다.')"
   ]
  },
  {
   "cell_type": "code",
   "execution_count": 36,
   "id": "b163a671",
   "metadata": {},
   "outputs": [
    {
     "name": "stdout",
     "output_type": "stream",
     "text": [
      "hello.txt가 삭제되었습니다.\n",
      "world.txt가 삭제되었습니다.\n"
     ]
    }
   ],
   "source": [
    "if os.path.exists('hello.txt')==False:\n",
    "    with open('hello.txt','w',encoding='utf-8') as f:\n",
    "        f.write('Life is too short, you need python')\n",
    "        print('hello.txt 파일을 생성했습니다.')\n",
    "    \n",
    "    shutil.copy('hello.txt','world.txt')\n",
    "    print('hello.txt가 world.txt로 복사되었습니다.')\n",
    "\n",
    "else:\n",
    "    os.remove('hello.txt')\n",
    "    print('hello.txt가 삭제되었습니다.')\n",
    "    os.remove('world.txt')\n",
    "    print('world.txt가 삭제되었습니다.')"
   ]
  },
  {
   "cell_type": "code",
   "execution_count": null,
   "id": "0b8bf28c",
   "metadata": {},
   "outputs": [],
   "source": []
  }
 ],
 "metadata": {
  "kernelspec": {
   "display_name": "Python 3",
   "language": "python",
   "name": "python3"
  },
  "language_info": {
   "codemirror_mode": {
    "name": "ipython",
    "version": 3
   },
   "file_extension": ".py",
   "mimetype": "text/x-python",
   "name": "python",
   "nbconvert_exporter": "python",
   "pygments_lexer": "ipython3",
   "version": "3.13.9"
  }
 },
 "nbformat": 4,
 "nbformat_minor": 5
}
