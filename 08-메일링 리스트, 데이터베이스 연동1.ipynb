{
 "cells": [
  {
   "cell_type": "markdown",
   "id": "a6633a42",
   "metadata": {},
   "source": [
    "# LAB 08 - 메일링 리스트 / 데이터베이스 연동\n",
    "## 1. 메일 발송 모듈 제작"
   ]
  },
  {
   "cell_type": "code",
   "execution_count": 1,
   "id": "f7e86edf",
   "metadata": {},
   "outputs": [],
   "source": [
    "import os\n",
    "from smtplib import SMTP\n",
    "from email.mime.text import MIMEText\n",
    "from email.mime.application import MIMEApplication\n",
    "from email.mime.multipart import MIMEMultipart\n",
    "\n",
    "def sendMail(from_addr, to_addr, subject, content, files=[]):\n",
    "    content_type='plain'\n",
    "    username='cody634455@gmail.com'\n",
    "    password='dwse mkxb bhvh jtcj'\n",
    "    smtp='smtp.gmail.com'\n",
    "    port=587\n",
    "    msg=MIMEMultipart()\n",
    "    msg['Subject']=subject\n",
    "    msg['From']=from_addr\n",
    "    msg['To']=to_addr\n",
    "    msg.attach(MIMEText(content, content_type))\n",
    "    if files:\n",
    "        for file_item in files:\n",
    "            if os.path.exists(file_item):\n",
    "                with open(file_item, 'rb') as f:\n",
    "                    basename=os.path.basename(file_item)\n",
    "                    part=MIMEApplication(f.read(),Name=basename)\n",
    "                    part['Content-Disposition']='attachment; filename=\"%s\"' %basename\n",
    "                    msg.attach(part)\n",
    "                    print(basename,'(이)가 첨부되었습니다.')\n",
    "    mail=SMTP(smtp)\n",
    "    mail.ehlo()\n",
    "    mail.starttls()\n",
    "    mail.login(username,password)\n",
    "    mail.sendmail(from_addr,to_addr,msg.as_string())\n",
    "    mail.quit()\n",
    "\n",
    "if __name__==\"__main__\":\n",
    "    sendMail('cody634455@gmail.com','cody6344@naver.com','메일 발송 모듈 테스트','이것은 테스트 입니다.')"
   ]
  },
  {
   "cell_type": "code",
   "execution_count": 6,
   "id": "e58f1c1b",
   "metadata": {},
   "outputs": [
    {
     "name": "stdout",
     "output_type": "stream",
     "text": [
      "2025 10 27\n"
     ]
    }
   ],
   "source": [
    "from mylibrary import MyMailer\n",
    "import datetime as dt\n",
    "\n",
    "today=dt.datetime.now()\n",
    "year=today.year\n",
    "month=today.month\n",
    "day=today.day\n",
    "print(year, month, day)"
   ]
  },
  {
   "cell_type": "code",
   "execution_count": 13,
   "id": "330a681a",
   "metadata": {},
   "outputs": [
    {
     "name": "stdout",
     "output_type": "stream",
     "text": [
      "안녕하세요 {name}님\n",
      "\n",
      "{yy}년도 {mm}월 급여명세서와 결산보고서 보내드립니다.\n",
      "\n",
      "귀하의 노고에 감사드립니다.\n",
      "\n",
      "- {yy}년 {mm}월 {dd}일 / 운영지원팀 드림\n"
     ]
    }
   ],
   "source": [
    "fromAddr='운영지원팀 <cody634455@gmail.com>'\n",
    "subjectTmpl='{name}님의 {yy}년 {mm}월 급여명세서 입니다.'\n",
    "with open('mail/content.txt','r',encoding='utf-8') as f:\n",
    "    contentTmpl=f.read()\n",
    "    print(contentTmpl)"
   ]
  },
  {
   "cell_type": "code",
   "execution_count": 15,
   "id": "3719dbd1",
   "metadata": {},
   "outputs": [
    {
     "name": "stdout",
     "output_type": "stream",
     "text": [
      "document.pptx (이)가 첨부되었습니다.\n",
      "pay1.xlsx (이)가 첨부되었습니다.\n",
      "document.pptx (이)가 첨부되었습니다.\n",
      "pay2.xlsx (이)가 첨부되었습니다.\n",
      "document.pptx (이)가 첨부되었습니다.\n",
      "pay3.xlsx (이)가 첨부되었습니다.\n",
      "document.pptx (이)가 첨부되었습니다.\n",
      "pay4.xlsx (이)가 첨부되었습니다.\n",
      "document.pptx (이)가 첨부되었습니다.\n",
      "pay5.xlsx (이)가 첨부되었습니다.\n"
     ]
    }
   ],
   "source": [
    "with open('mail/mail_list.csv','r',encoding='utf-8') as f:\n",
    "    csv=f.readlines()\n",
    "    for line in csv:\n",
    "        name,email,file1,file2=line.strip().split(',')\n",
    "        #print(name,email,file1,file2)\n",
    "        toAddr='{name} <{email}>'.format(name=name, email=email)\n",
    "        #print(toAddr)\n",
    "        subject=subjectTmpl.format(name=name,yy=year,mm=month)\n",
    "        #print(subject)\n",
    "        content=contentTmpl.format(name=name,yy=year,mm=month,dd=day)\n",
    "        #print(content)\n",
    "        MyMailer.sendMail(fromAddr,toAddr,subject,content,[file1,file2])"
   ]
  },
  {
   "cell_type": "code",
   "execution_count": null,
   "id": "0a251f42",
   "metadata": {},
   "outputs": [],
   "source": []
  }
 ],
 "metadata": {
  "kernelspec": {
   "display_name": "Python 3",
   "language": "python",
   "name": "python3"
  },
  "language_info": {
   "codemirror_mode": {
    "name": "ipython",
    "version": 3
   },
   "file_extension": ".py",
   "mimetype": "text/x-python",
   "name": "python",
   "nbconvert_exporter": "python",
   "pygments_lexer": "ipython3",
   "version": "3.13.9"
  }
 },
 "nbformat": 4,
 "nbformat_minor": 5
}
