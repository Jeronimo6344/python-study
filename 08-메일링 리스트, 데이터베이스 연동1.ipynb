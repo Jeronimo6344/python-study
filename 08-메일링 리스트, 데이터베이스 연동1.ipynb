{
 "cells": [
  {
   "cell_type": "markdown",
   "id": "a6633a42",
   "metadata": {},
   "source": [
    "# LAB 08 - 메일링 리스트 / 데이터베이스 연동\n",
    "## 1. 메일 발송 모듈 제작"
   ]
  },
  {
   "cell_type": "markdown",
   "id": "01c10b22",
   "metadata": {},
   "source": [
    "아래 코드를 mylibrary 폴더의 MyMailer.py 라는 파일로 생성하기"
   ]
  },
  {
   "cell_type": "code",
   "execution_count": 1,
   "id": "f7e86edf",
   "metadata": {},
   "outputs": [],
   "source": [
    "import os\n",
    "from smtplib import SMTP\n",
    "from email.mime.text import MIMEText\n",
    "from email.mime.application import MIMEApplication\n",
    "from email.mime.multipart import MIMEMultipart\n",
    "\n",
    "def sendMail(from_addr, to_addr, subject, content, files=[]):\n",
    "    content_type='plain'\n",
    "    username='cody634455@gmail.com'\n",
    "    password='dwse mkxb bhvh jtcj'\n",
    "    smtp='smtp.gmail.com'\n",
    "    port=587\n",
    "    msg=MIMEMultipart()\n",
    "    msg['Subject']=subject\n",
    "    msg['From']=from_addr\n",
    "    msg['To']=to_addr\n",
    "    msg.attach(MIMEText(content, content_type))\n",
    "    if files:\n",
    "        for file_item in files:\n",
    "            if os.path.exists(file_item):\n",
    "                with open(file_item, 'rb') as f:\n",
    "                    basename=os.path.basename(file_item)\n",
    "                    part=MIMEApplication(f.read(),Name=basename)\n",
    "                    part['Content-Disposition']='attachment; filename=\"%s\"' %basename\n",
    "                    msg.attach(part)\n",
    "                    print(basename,'(이)가 첨부되었습니다.')\n",
    "    mail=SMTP(smtp)\n",
    "    mail.ehlo()\n",
    "    mail.starttls()\n",
    "    mail.login(username,password)\n",
    "    mail.sendmail(from_addr,to_addr,msg.as_string())\n",
    "    mail.quit()\n",
    "\n",
    "if __name__==\"__main__\":\n",
    "    sendMail('cody634455@gmail.com','cody6344@naver.com','메일 발송 모듈 테스트','이것은 테스트 입니다.')"
   ]
  },
  {
   "cell_type": "markdown",
   "id": "b4db431c",
   "metadata": {},
   "source": [
    "## 2. 메일링 리스트 구현"
   ]
  },
  {
   "cell_type": "code",
   "execution_count": 6,
   "id": "e58f1c1b",
   "metadata": {},
   "outputs": [
    {
     "name": "stdout",
     "output_type": "stream",
     "text": [
      "2025 10 27\n"
     ]
    }
   ],
   "source": [
    "from mylibrary import MyMailer\n",
    "import datetime as dt\n",
    "\n",
    "today=dt.datetime.now()\n",
    "year=today.year\n",
    "month=today.month\n",
    "day=today.day\n",
    "print(year, month, day)"
   ]
  },
  {
   "cell_type": "code",
   "execution_count": 13,
   "id": "330a681a",
   "metadata": {},
   "outputs": [
    {
     "name": "stdout",
     "output_type": "stream",
     "text": [
      "안녕하세요 {name}님\n",
      "\n",
      "{yy}년도 {mm}월 급여명세서와 결산보고서 보내드립니다.\n",
      "\n",
      "귀하의 노고에 감사드립니다.\n",
      "\n",
      "- {yy}년 {mm}월 {dd}일 / 운영지원팀 드림\n"
     ]
    }
   ],
   "source": [
    "fromAddr='운영지원팀 <cody634455@gmail.com>'\n",
    "subjectTmpl='{name}님의 {yy}년 {mm}월 급여명세서 입니다.'\n",
    "with open('mail/content.txt','r',encoding='utf-8') as f:\n",
    "    contentTmpl=f.read()\n",
    "    print(contentTmpl)"
   ]
  },
  {
   "cell_type": "code",
   "execution_count": 15,
   "id": "3719dbd1",
   "metadata": {},
   "outputs": [
    {
     "name": "stdout",
     "output_type": "stream",
     "text": [
      "document.pptx (이)가 첨부되었습니다.\n",
      "pay1.xlsx (이)가 첨부되었습니다.\n",
      "document.pptx (이)가 첨부되었습니다.\n",
      "pay2.xlsx (이)가 첨부되었습니다.\n",
      "document.pptx (이)가 첨부되었습니다.\n",
      "pay3.xlsx (이)가 첨부되었습니다.\n",
      "document.pptx (이)가 첨부되었습니다.\n",
      "pay4.xlsx (이)가 첨부되었습니다.\n",
      "document.pptx (이)가 첨부되었습니다.\n",
      "pay5.xlsx (이)가 첨부되었습니다.\n"
     ]
    }
   ],
   "source": [
    "with open('mail/mail_list.csv','r',encoding='utf-8') as f:\n",
    "    csv=f.readlines()\n",
    "    for line in csv:\n",
    "        name,email,file1,file2=line.strip().split(',')\n",
    "        #print(name,email,file1,file2)\n",
    "        toAddr='{name} <{email}>'.format(name=name, email=email)\n",
    "        #print(toAddr)\n",
    "        subject=subjectTmpl.format(name=name,yy=year,mm=month)\n",
    "        #print(subject)\n",
    "        content=contentTmpl.format(name=name,yy=year,mm=month,dd=day)\n",
    "        #print(content)\n",
    "        MyMailer.sendMail(fromAddr,toAddr,subject,content,[file1,file2])"
   ]
  },
  {
   "cell_type": "markdown",
   "id": "0a251f42",
   "metadata": {},
   "source": [
    "## 비동기 처리"
   ]
  },
  {
   "cell_type": "code",
   "execution_count": 16,
   "id": "31cb21eb",
   "metadata": {},
   "outputs": [],
   "source": [
    "import time\n",
    "import datetime as dt\n",
    "from mylibrary import MyMailer\n",
    "import concurrent.futures as futures"
   ]
  },
  {
   "cell_type": "code",
   "execution_count": 17,
   "id": "af6f7283",
   "metadata": {},
   "outputs": [],
   "source": [
    "def timeWork(name,seconds):\n",
    "    print('[%s] 작업을 %d초 동안 수행합니다.'%(name, seconds))\n",
    "    for i in range(0,seconds):\n",
    "        time.sleep(1)\n",
    "        print('[%s] %d초...'%(name,i+1))\n",
    "    print('[%s] 작업이 종료되었습니다.'%name)"
   ]
  },
  {
   "cell_type": "code",
   "execution_count": 18,
   "id": "2335ad43",
   "metadata": {},
   "outputs": [
    {
     "name": "stdout",
     "output_type": "stream",
     "text": [
      "[A] 작업을 3초 동안 수행합니다.\n",
      "[A] 1초...\n",
      "[A] 2초...\n",
      "[A] 3초...\n",
      "[A] 작업이 종료되었습니다.\n",
      "[B] 작업을 5초 동안 수행합니다.\n",
      "[B] 1초...\n",
      "[B] 2초...\n",
      "[B] 3초...\n",
      "[B] 4초...\n",
      "[B] 5초...\n",
      "[B] 작업이 종료되었습니다.\n",
      "[C] 작업을 2초 동안 수행합니다.\n",
      "[C] 1초...\n",
      "[C] 2초...\n",
      "[C] 작업이 종료되었습니다.\n",
      "작업에 소요된 시간은 총 10초 입니다.\n"
     ]
    }
   ],
   "source": [
    "startTime=dt.datetime.now()\n",
    "timeWork('A',3)\n",
    "timeWork('B',5)\n",
    "timeWork('C',2)\n",
    "endTime=dt.datetime.now()\n",
    "workTime=endTime-startTime\n",
    "print('작업에 소요된 시간은 총 %s초 입니다.'%workTime.seconds)"
   ]
  },
  {
   "cell_type": "code",
   "execution_count": 19,
   "id": "23d50f79",
   "metadata": {},
   "outputs": [
    {
     "name": "stdout",
     "output_type": "stream",
     "text": [
      "[A] 작업을 3초 동안 수행합니다.\n",
      "[B] 작업을 5초 동안 수행합니다.\n",
      "[C] 작업을 2초 동안 수행합니다.\n",
      "[A] 1초...\n",
      "[C] 1초...\n",
      "[B] 1초...\n",
      "[B] 2초...\n",
      "[A] 2초...\n",
      "[C] 2초...\n",
      "[C] 작업이 종료되었습니다.\n",
      "[A] 3초...[B] 3초...\n",
      "\n",
      "[A] 작업이 종료되었습니다.\n",
      "[B] 4초...\n",
      "[B] 5초...\n",
      "[B] 작업이 종료되었습니다.\n",
      "작업에 소요된 시간은 총 5초 입니다.\n"
     ]
    }
   ],
   "source": [
    "startTime=dt.datetime.now()\n",
    "with futures.ThreadPoolExecutor(max_workers=3) as executor:\n",
    "    executor.submit(timeWork,'A',3)\n",
    "    executor.submit(timeWork,'B',5)\n",
    "    executor.submit(timeWork,'C',2)\n",
    "endTime=dt.datetime.now()\n",
    "workTime=endTime-startTime\n",
    "print('작업에 소요된 시간은 총 %s초 입니다.'%workTime.seconds)"
   ]
  },
  {
   "cell_type": "code",
   "execution_count": 20,
   "id": "2f8c00cb",
   "metadata": {},
   "outputs": [],
   "source": [
    "from mylibrary import MyMailer\n",
    "import datetime as dt\n",
    "\n",
    "today=dt.datetime.now()\n",
    "year=today.year\n",
    "month=today.month\n",
    "day=today.day\n",
    "\n",
    "fromAddr='운영지원팀 <cody634455@gmail.com>'\n",
    "subjectTmpl='{name}님의 {yy}년 {mm}월 급여명세서 입니다.'\n",
    "\n",
    "with open('mail/content.txt','r',encoding='utf-8') as f:\n",
    "    contentTmpl=f.read()"
   ]
  },
  {
   "cell_type": "code",
   "execution_count": 21,
   "id": "06a47b48",
   "metadata": {},
   "outputs": [
    {
     "name": "stdout",
     "output_type": "stream",
     "text": [
      "document.pptx (이)가 첨부되었습니다.\n",
      "pay1.xlsx (이)가 첨부되었습니다.\n",
      "document.pptx (이)가 첨부되었습니다.\n",
      "pay2.xlsx (이)가 첨부되었습니다.\n",
      "document.pptx (이)가 첨부되었습니다.\n",
      "pay3.xlsx (이)가 첨부되었습니다.\n",
      "document.pptx (이)가 첨부되었습니다.\n",
      "pay4.xlsx (이)가 첨부되었습니다.\n",
      "document.pptx (이)가 첨부되었습니다.\n",
      "pay5.xlsx (이)가 첨부되었습니다.\n",
      "작업에 소요된 시간은 총 21초 입니다.\n"
     ]
    }
   ],
   "source": [
    "startTime=dt.datetime.now()\n",
    "\n",
    "with open('mail/mail_list.csv','r',encoding='utf-8') as f:\n",
    "    csv=f.readlines()\n",
    "    for line in csv:\n",
    "        name,email,file1,file2=line.strip().split(',')\n",
    "        toAddr='{name} <{email}>'.format(name=name, email=email)\n",
    "        subject=subjectTmpl.format(name=name,yy=year,mm=month)\n",
    "        content=contentTmpl.format(name=name,yy=year,mm=month,dd=day)\n",
    "        MyMailer.sendMail(fromAddr,toAddr,subject,content,[file1,file2])\n",
    "\n",
    "endTime=dt.datetime.now()\n",
    "workTime=endTime-startTime\n",
    "print('작업에 소요된 시간은 총 %s초 입니다.'%workTime.seconds)"
   ]
  },
  {
   "cell_type": "code",
   "execution_count": 22,
   "id": "f0afa639",
   "metadata": {},
   "outputs": [
    {
     "name": "stdout",
     "output_type": "stream",
     "text": [
      "document.pptxdocument.pptx (이)가 첨부되었습니다.\n",
      " (이)가 첨부되었습니다.\n",
      "document.pptx (이)가 첨부되었습니다.\n",
      "document.pptx (이)가 첨부되었습니다.\n",
      "pay1.xlsx (이)가 첨부되었습니다.\n",
      "document.pptx (이)가 첨부되었습니다.\n",
      "pay2.xlsx (이)가 첨부되었습니다.\n",
      "pay3.xlsx (이)가 첨부되었습니다.\n",
      "pay4.xlsx (이)가 첨부되었습니다.\n",
      "pay5.xlsx (이)가 첨부되었습니다.\n",
      "작업에 소요된 시간은 총 8초 입니다.\n"
     ]
    }
   ],
   "source": [
    "startTime=dt.datetime.now()\n",
    "\n",
    "with open('mail/mail_list.csv','r',encoding='utf-8') as f:\n",
    "    csv=f.readlines()\n",
    "    with futures.ThreadPoolExecutor(max_workers=10) as executor:\n",
    "        for line in csv:\n",
    "            name,email,file1,file2=line.strip().split(',')\n",
    "            toAddr='{name} <{email}>'.format(name=name, email=email)\n",
    "            subject=subjectTmpl.format(name=name,yy=year,mm=month)\n",
    "            content=contentTmpl.format(name=name,yy=year,mm=month,dd=day)\n",
    "            #MyMailer.sendMail(fromAddr,toAddr,subject,content,[file1,file2])\n",
    "            executor.submit(MyMailer.sendMail,fromAddr,toAddr,subject,content,[file1,file2])\n",
    "\n",
    "endTime=dt.datetime.now()\n",
    "workTime=endTime-startTime\n",
    "print('작업에 소요된 시간은 총 %s초 입니다.'%workTime.seconds)"
   ]
  },
  {
   "cell_type": "markdown",
   "id": "7c0bf12a",
   "metadata": {},
   "source": [
    "## 비동기 리턴 / 예외 처리"
   ]
  },
  {
   "cell_type": "code",
   "execution_count": 23,
   "id": "1e0fe844",
   "metadata": {},
   "outputs": [],
   "source": [
    "import random\n",
    "\n",
    "def randomWork(name):\n",
    "    randomSecond=random.randrange(1,9)\n",
    "    print('[%s] 작업을 %d초 동안 수행합니다.'%(name,randomSecond))\n",
    "    for i in range(0,randomSecond):\n",
    "        time.sleep(1)\n",
    "        print('[%s] %d초...'%(name,i+1))\n",
    "    print('[%s] 작업이 종료되었습니다.'%name)\n",
    "    return randomSecond"
   ]
  },
  {
   "cell_type": "code",
   "execution_count": 27,
   "id": "26c8233a",
   "metadata": {},
   "outputs": [
    {
     "name": "stdout",
     "output_type": "stream",
     "text": [
      "[Lee] 작업을 4초 동안 수행합니다.\n",
      "[Kim] 작업을 4초 동안 수행합니다.\n",
      "[Hong] 작업을 8초 동안 수행합니다.\n",
      "[Kim] 1초...\n",
      "[Hong] 1초...\n",
      "[Lee] 1초...\n",
      "[Kim] 2초...\n",
      "[Hong] 2초...\n",
      "[Lee] 2초...\n",
      "[Kim] 3초...[Hong] 3초...\n",
      "[Lee] 3초...\n",
      "\n",
      "[Hong] 4초...[Lee] 4초...\n",
      "[Lee] 작업이 종료되었습니다.\n",
      "[Park] 작업을 4초 동안 수행합니다.\n",
      "[Kim] 4초...\n",
      "[Kim] 작업이 종료되었습니다.\n",
      "[Nam] 작업을 8초 동안 수행합니다.\n",
      "\n",
      "[Nam] 1초...[Park] 1초...\n",
      "\n",
      "[Hong] 5초...\n",
      "[Park] 2초...\n",
      "[Nam] 2초...\n",
      "[Hong] 6초...\n",
      "[Park] 3초...[Nam] 3초...\n",
      "[Hong] 7초...\n",
      "\n",
      "[Hong] 8초...[Park] 4초...\n",
      "[Park] 작업이 종료되었습니다.\n",
      "[Nam] 4초...\n",
      "\n",
      "[Hong] 작업이 종료되었습니다.\n",
      "[Nam] 5초...\n",
      "[Nam] 6초...\n",
      "[Nam] 7초...\n",
      "[Nam] 8초...\n",
      "[Nam] 작업이 종료되었습니다.\n",
      "비동기 처리가 총 8초의 작업을 수행하였습니다.\n",
      "작업에 소요된 시간은 총 8초 입니다.\n"
     ]
    }
   ],
   "source": [
    "startTime=dt.datetime.now()\n",
    "\n",
    "names=['Lee','Kim','Hong','Park','Nam']\n",
    "processes=[]\n",
    "resultSet=[]\n",
    "\n",
    "with futures.ThreadPoolExecutor(max_workers=3) as executor:\n",
    "    for n in names:\n",
    "        pro=executor.submit(randomWork,n)\n",
    "        processes.append(pro)\n",
    "\n",
    "    for p in processes:\n",
    "        result=p.result()\n",
    "    resultSet.append(result)\n",
    "\n",
    "print('비동기 처리가 총 %d초의 작업을 수행하였습니다.'%sum(resultSet))\n",
    "endTime=dt.datetime.now()\n",
    "worTime=endTime-startTime\n",
    "print('작업에 소요된 시간은 총 %s초 입니다.'%workTime.seconds)"
   ]
  },
  {
   "cell_type": "code",
   "execution_count": 28,
   "id": "68049400",
   "metadata": {},
   "outputs": [],
   "source": [
    "import random\n",
    "\n",
    "seasons=['봄','여름','가을','겨울']\n",
    "\n",
    "def seasonWork(name):\n",
    "    randomSecond=random.randrange(1,9)\n",
    "    print('[%s] 작업을 %d초 동안 수행합니다.'%(name,randomSecond))\n",
    "    for i in range(0,randomSecond):\n",
    "        time.sleep(1)\n",
    "        print('[%s] 지금은 <%s>입니다.'%(name,seasons[i]))\n",
    "    print('[%s] 작업이 종료되었습니다.'%name)\n",
    "    return [name,randomSecond]"
   ]
  },
  {
   "cell_type": "code",
   "execution_count": 30,
   "id": "d8a86c7b",
   "metadata": {},
   "outputs": [
    {
     "name": "stdout",
     "output_type": "stream",
     "text": [
      "[Lee] 작업을 1초 동안 수행합니다.\n",
      "[Kim] 작업을 2초 동안 수행합니다.\n",
      "[Hong] 작업을 6초 동안 수행합니다.\n",
      "[Park] 작업을 1초 동안 수행합니다.\n",
      "[Nam] 작업을 8초 동안 수행합니다.\n",
      "[Hong] 지금은 <봄>입니다.\n",
      "[Nam] 지금은 <봄>입니다.\n",
      "[Lee] 지금은 <봄>입니다.\n",
      "[Lee] 작업이 종료되었습니다.\n",
      "[Park] 지금은 <봄>입니다.\n",
      "[Park] 작업이 종료되었습니다.\n",
      "[Kim] 지금은 <봄>입니다.\n",
      "Lee의 작업이 완료되었습니다.\n",
      "[Nam] 지금은 <여름>입니다.\n",
      "[Kim] 지금은 <여름>입니다.\n",
      "[Kim] 작업이 종료되었습니다.\n",
      "[Hong] 지금은 <여름>입니다.\n",
      "Kim의 작업이 완료되었습니다.\n",
      "[Nam] 지금은 <가을>입니다.\n",
      "[Hong] 지금은 <가을>입니다.\n",
      "[Nam] 지금은 <겨울>입니다.\n",
      "[Hong] 지금은 <겨울>입니다.\n",
      "list index out of range\n",
      "Park의 작업이 완료되었습니다.\n",
      "list index out of range\n",
      "작업에 소요된 시간은 총 5초 입니다.\n"
     ]
    }
   ],
   "source": [
    "startTime=dt.datetime.now()\n",
    "\n",
    "names=['Lee','Kim','Hong','Park','Nam']\n",
    "processes=[]\n",
    "nameSet=[]\n",
    "timeSet=[]\n",
    "\n",
    "with futures.ThreadPoolExecutor(max_workers=len(names)) as executor:\n",
    "    for n in names:\n",
    "        pro=executor.submit(seasonWork,n)\n",
    "        processes.append(pro)\n",
    "    for p in processes:\n",
    "        try:\n",
    "            name,n=p.result()\n",
    "            nameSet.append(name)\n",
    "            timeSet.append(n)\n",
    "            print('%s의 작업이 완료되었습니다.'%name)\n",
    "        except Exception as e:\n",
    "            print(e)\n",
    "\n",
    "endTime=dt.datetime.now()\n",
    "workTime=endTime-startTime\n",
    "print('작업에 소요된 시간은 총 %s초 입니다.'%workTime.seconds)\n"
   ]
  },
  {
   "cell_type": "code",
   "execution_count": null,
   "id": "e8f2f5cd",
   "metadata": {},
   "outputs": [],
   "source": []
  }
 ],
 "metadata": {
  "kernelspec": {
   "display_name": "Python 3",
   "language": "python",
   "name": "python3"
  },
  "language_info": {
   "codemirror_mode": {
    "name": "ipython",
    "version": 3
   },
   "file_extension": ".py",
   "mimetype": "text/x-python",
   "name": "python",
   "nbconvert_exporter": "python",
   "pygments_lexer": "ipython3",
   "version": "3.13.9"
  }
 },
 "nbformat": 4,
 "nbformat_minor": 5
}
