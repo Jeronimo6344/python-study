{
 "cells": [
  {
   "cell_type": "markdown",
   "id": "a6633a42",
   "metadata": {},
   "source": [
    "# LAB 08 - 메일링 리스트 / 데이터베이스 연동\n",
    "## 1. 메일 발송 모듈 제작"
   ]
  },
  {
   "cell_type": "code",
   "execution_count": 1,
   "id": "f7e86edf",
   "metadata": {},
   "outputs": [],
   "source": [
    "import os\n",
    "from smtplib import SMTP\n",
    "from email.mime.text import MIMEText\n",
    "from email.mime.application import MIMEApplication\n",
    "from email.mime.multipart import MIMEMultipart\n",
    "\n",
    "def sendMail(from_addr, to_addr, subject, content, files=[]):\n",
    "    content_type='plain'\n",
    "    username='cody634455@gmail.com'\n",
    "    password='dwse mkxb bhvh jtcj'\n",
    "    smtp='smtp.gmail.com'\n",
    "    port=587\n",
    "    msg=MIMEMultipart()\n",
    "    msg['Subject']=subject\n",
    "    msg['From']=from_addr\n",
    "    msg['To']=to_addr\n",
    "    msg.attach(MIMEText(content, content_type))\n",
    "    if files:\n",
    "        for file_item in files:\n",
    "            if os.path.exists(file_item):\n",
    "                with open(file_item, 'rb') as f:\n",
    "                    basename=os.path.basename(file_item)\n",
    "                    part=MIMEApplication(f.read(),Name=basename)\n",
    "                    part['Content-Disposition']='attachment; filename=\"%s\"' %basename\n",
    "                    msg.attach(part)\n",
    "                    print(basename,'(이)가 첨부되었습니다.')\n",
    "    mail=SMTP(smtp)\n",
    "    mail.ehlo()\n",
    "    mail.starttls()\n",
    "    mail.login(username,password)\n",
    "    mail.sendmail(from_addr,to_addr,msg.as_string())\n",
    "    mail.quit()\n",
    "\n",
    "if __name__==\"__main__\":\n",
    "    sendMail('cody634455@gmail.com','cody6344@naver.com','메일 발송 모듈 테스트','이것은 테스트 입니다.')"
   ]
  },
  {
   "cell_type": "code",
   "execution_count": 5,
   "id": "e58f1c1b",
   "metadata": {},
   "outputs": [
    {
     "ename": "ImportError",
     "evalue": "cannot import name 'MyMailer' from 'mylibrary' (unknown location)",
     "output_type": "error",
     "traceback": [
      "\u001b[31m---------------------------------------------------------------------------\u001b[39m",
      "\u001b[31mImportError\u001b[39m                               Traceback (most recent call last)",
      "\u001b[36mCell\u001b[39m\u001b[36m \u001b[39m\u001b[32mIn[5]\u001b[39m\u001b[32m, line 1\u001b[39m\n\u001b[32m----> \u001b[39m\u001b[32m1\u001b[39m \u001b[38;5;28;01mfrom\u001b[39;00m\u001b[38;5;250m \u001b[39m\u001b[34;01mmylibrary\u001b[39;00m\u001b[38;5;250m \u001b[39m\u001b[38;5;28;01mimport\u001b[39;00m MyMailer\n\u001b[32m      2\u001b[39m \u001b[38;5;28;01mimport\u001b[39;00m\u001b[38;5;250m \u001b[39m\u001b[34;01mdatetime\u001b[39;00m\u001b[38;5;250m \u001b[39m\u001b[38;5;28;01mas\u001b[39;00m\u001b[38;5;250m \u001b[39m\u001b[34;01mdt\u001b[39;00m\n\u001b[32m      4\u001b[39m today=dt.datetime.now()\n",
      "\u001b[31mImportError\u001b[39m: cannot import name 'MyMailer' from 'mylibrary' (unknown location)"
     ]
    }
   ],
   "source": [
    "from mylibrary import MyMailer\n",
    "import datetime as dt\n",
    "\n",
    "today=dt.datetime.now()\n",
    "year=today.year\n",
    "month=today.month\n",
    "day=today.day\n",
    "print(year, month, day)"
   ]
  },
  {
   "cell_type": "code",
   "execution_count": null,
   "id": "330a681a",
   "metadata": {},
   "outputs": [],
   "source": []
  }
 ],
 "metadata": {
  "kernelspec": {
   "display_name": "Python 3",
   "language": "python",
   "name": "python3"
  },
  "language_info": {
   "codemirror_mode": {
    "name": "ipython",
    "version": 3
   },
   "file_extension": ".py",
   "mimetype": "text/x-python",
   "name": "python",
   "nbconvert_exporter": "python",
   "pygments_lexer": "ipython3",
   "version": "3.13.9"
  }
 },
 "nbformat": 4,
 "nbformat_minor": 5
}
