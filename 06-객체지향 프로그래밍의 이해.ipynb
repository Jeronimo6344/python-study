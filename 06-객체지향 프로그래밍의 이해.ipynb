{
 "cells": [
  {
   "cell_type": "markdown",
   "id": "c8f645cb",
   "metadata": {},
   "source": [
    "# LAB 06 - 객체지향 프로그래밍의 이해\n",
    "## 클래스와 객체"
   ]
  },
  {
   "cell_type": "code",
   "execution_count": null,
   "id": "a7a689d2",
   "metadata": {},
   "outputs": [],
   "source": [
    "class Dragoon:\n",
    "    speed=None\n",
    "    hp=None\n",
    "    attack=None\n",
    "    defense=None        #연습"
   ]
  },
  {
   "cell_type": "code",
   "execution_count": 3,
   "id": "79505aa2",
   "metadata": {},
   "outputs": [
    {
     "name": "stdout",
     "output_type": "stream",
     "text": [
      "speed: 10, hp: 100, attack: 20, defense: 5\n"
     ]
    }
   ],
   "source": [
    "dg1=Dragoon()\n",
    "dg1.speed=10\n",
    "dg1.hp=100\n",
    "dg1.attack=20\n",
    "dg1.defense=5\n",
    "tpl=\"speed: {0}, hp: {1}, attack: {2}, defense: {3}\"\n",
    "print(tpl.format(dg1.speed,dg1.hp,dg1.attack,dg1.defense))"
   ]
  },
  {
   "cell_type": "code",
   "execution_count": 4,
   "id": "5e6dd164",
   "metadata": {},
   "outputs": [
    {
     "name": "stdout",
     "output_type": "stream",
     "text": [
      "speed: 11, hp: 100, attack: 22, defense: 6\n"
     ]
    }
   ],
   "source": [
    "dg1.speed+=1\n",
    "dg1.hp+=10\n",
    "dg1.attack+=2\n",
    "dg1.defense+=1\n",
    "dg1.hp-=10\n",
    "tpl=\"speed: {0}, hp: {1}, attack: {2}, defense: {3}\"\n",
    "print(tpl.format(dg1.speed,dg1.hp,dg1.attack,dg1.defense))"
   ]
  },
  {
   "cell_type": "code",
   "execution_count": 7,
   "id": "fd299ce7",
   "metadata": {},
   "outputs": [
    {
     "name": "stdout",
     "output_type": "stream",
     "text": [
      "speed: 11, hp: 100, attack: 22, defense: 6\n",
      "speed: 12, hp: 120, attack: 22, defense: 7\n"
     ]
    }
   ],
   "source": [
    "dg2=Dragoon()\n",
    "dg2.speed=12\n",
    "dg2.hp=120\n",
    "dg2.attack=22\n",
    "dg2.defense=7\n",
    "\n",
    "tpl=\"speed: {0}, hp: {1}, attack: {2}, defense: {3}\"\n",
    "print(tpl.format(dg1.speed,dg1.hp,dg1.attack,dg1.defense))\n",
    "print(tpl.format(dg2.speed,dg2.hp,dg2.attack,dg2.defense))"
   ]
  },
  {
   "cell_type": "code",
   "execution_count": 8,
   "id": "e1c3bc16",
   "metadata": {},
   "outputs": [],
   "source": [
    "class Probe:\n",
    "    def move(self,x,y):\n",
    "        print(\"좌표 ({0}, {1})로 이동합니다.\".format(x,y))\n",
    "    def mineral(self):\n",
    "        print(\"광물을 채집합니다.(+10)\")\n",
    "        return 10\n",
    "    def gas(self):\n",
    "        print(\"가스를 채집합니다.(+5)\")\n",
    "        return 5"
   ]
  },
  {
   "cell_type": "code",
   "execution_count": 10,
   "id": "e2026236",
   "metadata": {},
   "outputs": [
    {
     "name": "stdout",
     "output_type": "stream",
     "text": [
      "좌표 (10, 10)로 이동합니다.\n",
      "광물을 채집합니다.(+10)\n",
      "광물을 채집합니다.(+10)\n",
      "가스를 채집합니다.(+5)\n",
      "가스를 채집합니다.(+5)\n",
      "가스를 채집합니다.(+5)\n",
      "채취된 광물: 20, 채취된 가스: 15\n"
     ]
    }
   ],
   "source": [
    "probe1=Probe()\n",
    "probe1.move(10,10)\n",
    "my_mineral=0\n",
    "my_mineral+=probe1.mineral()\n",
    "my_mineral+=probe1.mineral()\n",
    "my_gas=0\n",
    "my_gas+=probe1.gas()\n",
    "my_gas+=probe1.gas()\n",
    "my_gas+=probe1.gas()\n",
    "print(\"채취된 광물: {0}, 채취된 가스: {1}\".format(my_mineral,my_gas))"
   ]
  },
  {
   "cell_type": "markdown",
   "id": "b3834a51",
   "metadata": {},
   "source": [
    "## self와 생성자"
   ]
  },
  {
   "cell_type": "code",
   "execution_count": 11,
   "id": "155be608",
   "metadata": {},
   "outputs": [],
   "source": [
    "class Zealot:\n",
    "    hp=None\n",
    "    dps=None\n",
    "\n",
    "    def state(self):\n",
    "        print(\"상태 확인 >>> hp: {0}, dps: {1}\".format(self.hp, self.dps))\n",
    "    def level_up(self):\n",
    "        self.hp+=10\n",
    "        self.dps+=2\n",
    "        print(\"레벨업을 하여 체력(+10), 공격력(+2)이 증가합니다.\")\n",
    "    def attacked(self,enemy_attack):\n",
    "        self.hp-=enemy_attack\n",
    "        print(\"{0}의 공격을 받아 hp가 {1}만큼 감소합니다.\".format(enemy_attack,self.hp))"
   ]
  },
  {
   "cell_type": "code",
   "execution_count": 13,
   "id": "26fb76eb",
   "metadata": {},
   "outputs": [
    {
     "name": "stdout",
     "output_type": "stream",
     "text": [
      "상태 확인 >>> hp: 100, dps: 20\n",
      "30의 공격을 받아 hp가 70만큼 감소합니다.\n",
      "상태 확인 >>> hp: 70, dps: 20\n",
      "레벨업을 하여 체력(+10), 공격력(+2)이 증가합니다.\n",
      "상태 확인 >>> hp: 80, dps: 22\n"
     ]
    }
   ],
   "source": [
    "zealot1=Zealot()\n",
    "zealot1.hp=100\n",
    "zealot1.dps=20\n",
    "zealot1.state()\n",
    "zealot1.attacked(30)\n",
    "zealot1.state()\n",
    "zealot1.level_up()\n",
    "zealot1.state()"
   ]
  },
  {
   "cell_type": "code",
   "execution_count": 19,
   "id": "a5200a34",
   "metadata": {},
   "outputs": [],
   "source": [
    "class Marine:\n",
    "    name=None\n",
    "    hp=None\n",
    "    def __init__(self,name,hp):\n",
    "        self.name=name\n",
    "        self.hp=hp\n",
    "        print(\"[{0}] You wanna piece of me, boy?\".format(self.name))\n",
    "    def state(self):\n",
    "        print(\"[{0}] hp: {1}\".format(self.name,self.hp))\n",
    "    def level_up(self):\n",
    "        self.hp+=5\n",
    "        print(\"[{0}] 레벨업을 하여 체력(+5)이 증가합니다.\".format(self.hp))\n",
    "    def attacked(self,enemy_attack):\n",
    "        self.hp-=enemy_attack\n",
    "        print(\"[{0}] 적의 공격을 받아 hp가 {1} 감소하여 체력이 {2}으로 변동됩니다.\".format(self.name,enemy_attack,self.hp))"
   ]
  },
  {
   "cell_type": "code",
   "execution_count": 20,
   "id": "65ec5eea",
   "metadata": {},
   "outputs": [
    {
     "name": "stdout",
     "output_type": "stream",
     "text": [
      "[마린1] You wanna piece of me, boy?\n",
      "[마린2] You wanna piece of me, boy?\n",
      "[마린1] hp: 100\n",
      "[마린2] hp: 200\n",
      "[마린1] 적의 공격을 받아 hp가 30 감소하여 체력이 70으로 변동됩니다.\n",
      "[마린2] 적의 공격을 받아 hp가 20 감소하여 체력이 180으로 변동됩니다.\n",
      "[마린1] hp: 70\n",
      "[마린2] hp: 180\n",
      "[75] 레벨업을 하여 체력(+5)이 증가합니다.\n",
      "[185] 레벨업을 하여 체력(+5)이 증가합니다.\n",
      "[마린1] hp: 75\n",
      "[마린2] hp: 185\n"
     ]
    }
   ],
   "source": [
    "m1=Marine(\"마린1\",100)\n",
    "m2=Marine(\"마린2\",200)\n",
    "m1.state()\n",
    "m2.state()\n",
    "m1.attacked(30)\n",
    "m2.attacked(20)\n",
    "m1.state()\n",
    "m2.state()\n",
    "m1.level_up()\n",
    "m2.level_up()\n",
    "m1.state()\n",
    "m2.state()"
   ]
  },
  {
   "cell_type": "markdown",
   "id": "0853b00b",
   "metadata": {},
   "source": [
    "## 정보은닉(캡슐화)"
   ]
  },
  {
   "cell_type": "code",
   "execution_count": 23,
   "id": "81220264",
   "metadata": {},
   "outputs": [],
   "source": [
    "class Vulture:\n",
    "    __name=None\n",
    "    __hp=None\n",
    "    __dps=None\n",
    "\n",
    "    @property\n",
    "    def name(self):\n",
    "        return self.__name\n",
    "    @name.setter\n",
    "    def name(self,value):\n",
    "        self.__name=value\n",
    "    \n",
    "    @property\n",
    "    def hp(self):\n",
    "        return self.__hp\n",
    "    @hp.setter\n",
    "    def hp(self,value):\n",
    "        if value<1:\n",
    "            value=1\n",
    "        self.__hp=value\n",
    "    \n",
    "    @property\n",
    "    def dps(self):\n",
    "        return self.__dps\n",
    "    @dps.setter\n",
    "    def dps(self,value):\n",
    "        if value<1:\n",
    "            value=1\n",
    "        self.__dps=value\n",
    "\n",
    "    def __init__(self, name=None, hp=0, dps=0):\n",
    "        self.name=name\n",
    "        self.hp=hp\n",
    "        self.dps=dps\n",
    "        print(\"[{0}] Alright! Bring it on!\".format(self.name))\n",
    "    \n",
    "    def state(self):\n",
    "        print(\"[{0}] hp: {1}, dps: {2}\".format(self.name,self.hp,self.dps))\n",
    "    \n",
    "    def level_up(self):\n",
    "        self.hp+=5\n",
    "        self.dps+=1\n",
    "        print(\"[{0}] 레벨업을 하여 체력(+5), 공격력(+1)이 증가합니다.\".format(self.name))\n",
    "    \n",
    "    def attacked(self,enemy_attack):\n",
    "        self.hp-=enemy_attack\n",
    "        print(\"[{0}] 적의 공격을 받아 hp가 {1} 감소합니다.\".format(self.name,enemy_attack))\n",
    "    \n",
    "    def attack(self,target):\n",
    "        print(\"[{0}] {1}에게 초당 {2}만큼의 피해를 주는 공격을 가합니다.\".format(self.name, target, self.dps))"
   ]
  },
  {
   "cell_type": "code",
   "execution_count": 25,
   "id": "1da90844",
   "metadata": {},
   "outputs": [
    {
     "name": "stdout",
     "output_type": "stream",
     "text": [
      "[벌처1] Alright! Bring it on!\n",
      "[벌처2] Alright! Bring it on!\n",
      "[벌처1] hp: 100, dps: 1\n",
      "[벌처2] hp: 100, dps: 20\n",
      "[벌처1] 적의 공격을 받아 hp가 30 감소합니다.\n",
      "[벌처2] 적의 공격을 받아 hp가 20 감소합니다.\n",
      "[벌처1] hp: 70, dps: 1\n",
      "[벌처2] hp: 80, dps: 20\n",
      "[벌처1] 레벨업을 하여 체력(+5), 공격력(+1)이 증가합니다.\n",
      "[벌처2] 레벨업을 하여 체력(+5), 공격력(+1)이 증가합니다.\n",
      "[벌처1] hp: 75, dps: 2\n",
      "[벌처2] hp: 85, dps: 21\n",
      "[벌처1] 적1에게 초당 2만큼의 피해를 주는 공격을 가합니다.\n",
      "[벌처2] 적2에게 초당 21만큼의 피해를 주는 공격을 가합니다.\n"
     ]
    }
   ],
   "source": [
    "v1=Vulture(\"벌처1\", 100)\n",
    "v2=Vulture(\"벌처2\", 100, 20)\n",
    "\n",
    "v1.state()\n",
    "v2.state()\n",
    "\n",
    "v1.attacked(30)\n",
    "v2.attacked(20)\n",
    "\n",
    "v1.state()\n",
    "v2.state()\n",
    "\n",
    "v1.level_up()\n",
    "v2.level_up()\n",
    "\n",
    "v1.state()\n",
    "v2.state()\n",
    "\n",
    "v1.attack(\"적1\")\n",
    "v2.attack(\"적2\")"
   ]
  },
  {
   "cell_type": "markdown",
   "id": "60a7cbf4",
   "metadata": {},
   "source": [
    "## 클래스 상속"
   ]
  },
  {
   "cell_type": "code",
   "execution_count": 31,
   "id": "9bf5b954",
   "metadata": {},
   "outputs": [],
   "source": [
    "class Terran:\n",
    "    name=None\n",
    "    hp=None\n",
    "\n",
    "    def __init__(self,name,hp):\n",
    "        self.name=name\n",
    "        self.hp=hp\n",
    "    \n",
    "    def info(self):\n",
    "        return \"[%s] HP: %d\"%(self.name,self.hp)"
   ]
  },
  {
   "cell_type": "code",
   "execution_count": 32,
   "id": "82e6078d",
   "metadata": {},
   "outputs": [
    {
     "name": "stdout",
     "output_type": "stream",
     "text": [
      "[마린1] HP: 45\n",
      "[마린1] 총을 쏘아 100의 데미지를 입혔습니다.\n"
     ]
    }
   ],
   "source": [
    "class Marine(Terran):\n",
    "    def shoot(self,attack):\n",
    "        return \"[%s] 총을 쏘아 %d의 데미지를 입혔습니다.\"%(self.name,attack)\n",
    "m=Marine('마린1',45)\n",
    "print(m.info())\n",
    "print(m.shoot(100))"
   ]
  },
  {
   "cell_type": "code",
   "execution_count": 33,
   "id": "bbf5af71",
   "metadata": {},
   "outputs": [
    {
     "name": "stdout",
     "output_type": "stream",
     "text": [
      "[메딕1] HP: 30, Mana: 100\n",
      "[메딕1] 마린1의 체력을 회복시킵니다. (mana: -5)\n"
     ]
    }
   ],
   "source": [
    "class Medic(Terran):\n",
    "    mana=None\n",
    "\n",
    "    def __init__(self,name,hp,mana):\n",
    "        super().__init__(name,hp)\n",
    "        self.mana=mana\n",
    "    \n",
    "    def info_ex(self):\n",
    "        info_msg=super().info()\n",
    "        info_msg+=\", Mana: %d\"%self.mana\n",
    "        return info_msg\n",
    "    \n",
    "    def heal(self,target):\n",
    "        self.mana-=5\n",
    "        return \"[%s] %s의 체력을 회복시킵니다. (mana: -5)\"%(self.name,target)\n",
    "    \n",
    "md=Medic('메딕1',30,100)\n",
    "print(md.info_ex())\n",
    "print(md.heal('마린1'))"
   ]
  },
  {
   "cell_type": "markdown",
   "id": "3370cc01",
   "metadata": {},
   "source": [
    "## 메서드 오버라이드"
   ]
  },
  {
   "cell_type": "code",
   "execution_count": 34,
   "id": "d9a5ef27",
   "metadata": {},
   "outputs": [
    {
     "name": "stdout",
     "output_type": "stream",
     "text": [
      "[탱크1] HP: 150, 상태: 아머드모드\n",
      "[탱크1] HP: 150, 상태: 시즈모드\n"
     ]
    }
   ],
   "source": [
    "class SiegeTank(Terran):\n",
    "    seige_mode=None\n",
    "    def __init__(self,name,hp=150,siege_mode=False):\n",
    "        super().__init__(name,hp)\n",
    "        self.siege_mode=siege_mode\n",
    "\n",
    "    def set_siege(self,on):\n",
    "        self.siege_mode=bool(on)\n",
    "    def info(self):\n",
    "        base=super().info()\n",
    "        if self.siege_mode:\n",
    "            mode='시즈모드'\n",
    "        else:\n",
    "            mode='아머드모드'\n",
    "        return base+', 상태: '+mode\n",
    "\n",
    "t=SiegeTank('탱크1')\n",
    "print(t.info())\n",
    "t.set_siege(True)\n",
    "print(t.info())"
   ]
  },
  {
   "cell_type": "code",
   "execution_count": 36,
   "id": "20316182",
   "metadata": {},
   "outputs": [
    {
     "name": "stdout",
     "output_type": "stream",
     "text": [
      "[레이스] HP: 120\n",
      "레이스이(가) 비행합니다.\n",
      "레이스이(가) 은폐 상태가 됩니다.\n"
     ]
    }
   ],
   "source": [
    "class Flyer:\n",
    "    def fly(self):\n",
    "        return self.name+'이(가) 비행합니다.'\n",
    "    \n",
    "class Cloakable:\n",
    "    def cloak(self):\n",
    "        return self.name+'이(가) 은폐 상태가 됩니다.'\n",
    "\n",
    "class Wraith(Terran, Flyer, Cloakable):\n",
    "    def __init__(self, name, hp=120):\n",
    "        Terran.__init__(self,name,hp)\n",
    "    \n",
    "w=Wraith('레이스')\n",
    "print(w.info())\n",
    "print(w.fly())\n",
    "print(w.cloak())"
   ]
  },
  {
   "cell_type": "code",
   "execution_count": null,
   "id": "c6e1cf66",
   "metadata": {},
   "outputs": [],
   "source": []
  }
 ],
 "metadata": {
  "kernelspec": {
   "display_name": "Python 3",
   "language": "python",
   "name": "python3"
  },
  "language_info": {
   "codemirror_mode": {
    "name": "ipython",
    "version": 3
   },
   "file_extension": ".py",
   "mimetype": "text/x-python",
   "name": "python",
   "nbconvert_exporter": "python",
   "pygments_lexer": "ipython3",
   "version": "3.13.9"
  }
 },
 "nbformat": 4,
 "nbformat_minor": 5
}
