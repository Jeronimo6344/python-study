{
 "cells": [
  {
   "cell_type": "code",
   "execution_count": 13,
   "id": "ae2a9aae",
   "metadata": {},
   "outputs": [],
   "source": [
    "def solution(balls, share):\n",
    "    answer=1\n",
    "    for share in range(share,0,-1):\n",
    "        answer=answer*balls/share\n",
    "        balls-=1\n",
    "    answer=round(answer,0)\n",
    "    return answer"
   ]
  },
  {
   "cell_type": "code",
   "execution_count": 14,
   "id": "48aa1f20",
   "metadata": {},
   "outputs": [
    {
     "data": {
      "text/plain": [
       "10.0"
      ]
     },
     "execution_count": 14,
     "metadata": {},
     "output_type": "execute_result"
    }
   ],
   "source": [
    "solution(5,3)"
   ]
  },
  {
   "cell_type": "code",
   "execution_count": 15,
   "id": "56a4d929",
   "metadata": {},
   "outputs": [],
   "source": [
    "def fecto(n):\n",
    "    f = 1 # 팩토리얼 값을 저장할 변수, 초기값은 1\n",
    "    for i in range(1, n+1): # 1부터 n까지 반복하여 곱함\n",
    "        f *= i # 현재 숫자를 누적 곱셈\n",
    "    return f # 계산된 팩토리얼 값 반환\n",
    "def solution1(balls, share):\n",
    "    answer1 = fecto(balls) / (fecto(balls - share) * fecto(share))\n",
    "    return answer1"
   ]
  },
  {
   "cell_type": "code",
   "execution_count": 26,
   "id": "40e21f2b",
   "metadata": {},
   "outputs": [
    {
     "name": "stdout",
     "output_type": "stream",
     "text": [
      "779255311989700.0\n"
     ]
    }
   ],
   "source": [
    "print(solution1(53,24))"
   ]
  },
  {
   "cell_type": "code",
   "execution_count": 17,
   "id": "fbd09686",
   "metadata": {},
   "outputs": [],
   "source": [
    "def solution2(balls, share):\n",
    "    answer2=1\n",
    "    for share in range(share,0,-1):\n",
    "        answer2=answer2*balls/share\n",
    "        print(answer2)\n",
    "        balls-=1\n",
    "    return answer2"
   ]
  },
  {
   "cell_type": "code",
   "execution_count": 18,
   "id": "8888c7d9",
   "metadata": {},
   "outputs": [
    {
     "name": "stdout",
     "output_type": "stream",
     "text": [
      "2.2083333333333335\n",
      "4.992753623188406\n",
      "11.57411067193676\n",
      "27.55740636175419\n",
      "67.51564558629777\n",
      "170.56584148117332\n",
      "445.36636386750814\n",
      "1205.108984582669\n",
      "3389.369019138757\n",
      "9942.14912280702\n",
      "30536.600877192996\n",
      "98656.71052631583\n",
      "337077.09429824573\n",
      "1225734.8883572572\n",
      "4780366.064593303\n",
      "20183767.828282837\n",
      "93349926.20580812\n",
      "480085334.7727275\n",
      "2800497786.1742435\n",
      "19043384945.984856\n",
      "157107925804.37506\n",
      "1675817875246.6672\n",
      "25975177066323.344\n",
      "779255311989700.2\n",
      "779255311989700.2\n"
     ]
    }
   ],
   "source": [
    "print(solution2(53,24))"
   ]
  },
  {
   "cell_type": "code",
   "execution_count": 19,
   "id": "e461a64b",
   "metadata": {},
   "outputs": [],
   "source": [
    "def solution(numer1, denom1, numer2, denom2):\n",
    "    n=1\n",
    "    for i in range(1,denom1*denom2+1):\n",
    "        if i%denom1==0 and i%denom2==0:\n",
    "            n=i\n",
    "            break\n",
    "    m=numer1*(n//denom1)+numer2*(n//denom2)\n",
    "    answer = [m,n]\n",
    "    return answer"
   ]
  },
  {
   "cell_type": "code",
   "execution_count": 20,
   "id": "0a7ef3fa",
   "metadata": {},
   "outputs": [
    {
     "data": {
      "text/plain": [
       "[2, 1]"
      ]
     },
     "execution_count": 20,
     "metadata": {},
     "output_type": "execute_result"
    }
   ],
   "source": [
    "solution(1,1,1,1)"
   ]
  },
  {
   "cell_type": "code",
   "execution_count": 21,
   "id": "4b479632",
   "metadata": {},
   "outputs": [
    {
     "data": {
      "text/plain": [
       "[4, 1]"
      ]
     },
     "execution_count": 21,
     "metadata": {},
     "output_type": "execute_result"
    }
   ],
   "source": [
    "solution(2,1,2,1)"
   ]
  },
  {
   "cell_type": "code",
   "execution_count": 22,
   "id": "8f31496e",
   "metadata": {},
   "outputs": [
    {
     "data": {
      "text/plain": [
       "[24, 24]"
      ]
     },
     "execution_count": 22,
     "metadata": {},
     "output_type": "execute_result"
    }
   ],
   "source": [
    "solution(3,6,4,8)"
   ]
  },
  {
   "cell_type": "code",
   "execution_count": 2,
   "id": "9754abe3",
   "metadata": {},
   "outputs": [
    {
     "name": "stdout",
     "output_type": "stream",
     "text": [
      "['a', 'e', 'l', 'l', 'p']\n",
      "['a', 'e', 'l', 'p', 'p']\n"
     ]
    }
   ],
   "source": [
    "before=sorted(list('allpe'))\n",
    "after=sorted(list('apple'))\n",
    "print(before)\n",
    "print(after)"
   ]
  },
  {
   "cell_type": "code",
   "execution_count": 14,
   "id": "48c9b794",
   "metadata": {},
   "outputs": [],
   "source": [
    "def solution(a, b):\n",
    "    answer = 0\n",
    "    for i in range(min(a,b),0,-1):\n",
    "        if a%i==0 and b%i==0:\n",
    "            a=a/i\n",
    "            b=b/i\n",
    "            break\n",
    "    while True:\n",
    "        if b%2==0:\n",
    "            b=b//2\n",
    "            continue\n",
    "        else:\n",
    "            break\n",
    "    while True:\n",
    "        if b%5==0:\n",
    "            b=b//5\n",
    "            continue\n",
    "        else:\n",
    "            break\n",
    "    if b==1:\n",
    "        answer=1\n",
    "    else:\n",
    "        answer=2\n",
    "    return answer"
   ]
  },
  {
   "cell_type": "code",
   "execution_count": 15,
   "id": "0af25190",
   "metadata": {},
   "outputs": [
    {
     "data": {
      "text/plain": [
       "1"
      ]
     },
     "execution_count": 15,
     "metadata": {},
     "output_type": "execute_result"
    }
   ],
   "source": [
    "solution(11,22)"
   ]
  },
  {
   "cell_type": "code",
   "execution_count": 11,
   "id": "8793ae2f",
   "metadata": {},
   "outputs": [
    {
     "name": "stdout",
     "output_type": "stream",
     "text": [
      "0\n",
      "0\n",
      "11\n"
     ]
    }
   ],
   "source": [
    "a=11\n",
    "b=22\n",
    "a1=0\n",
    "b1=0\n",
    "for i in range(11,0,-1):\n",
    "    if a//i==0 and b//i==0:\n",
    "        a1=a//i\n",
    "        b1=b//i\n",
    "        break\n",
    "\n",
    "print(a1)\n",
    "print(b1)\n",
    "print(min(a,b))"
   ]
  },
  {
   "cell_type": "code",
   "execution_count": 16,
   "id": "c2a85d44",
   "metadata": {},
   "outputs": [],
   "source": [
    "class zm:\n",
    "    __hp=None\n",
    "    @property\n",
    "    def hp(self):\n",
    "        return self.__hp\n",
    "    @hp.setter\n",
    "    def hp(self,value):\n",
    "        if value<1:\n",
    "            value=1\n",
    "        self.__hp=value"
   ]
  },
  {
   "cell_type": "code",
   "execution_count": 39,
   "id": "409281e3",
   "metadata": {},
   "outputs": [
    {
     "ename": "IndexError",
     "evalue": "list index out of range",
     "output_type": "error",
     "traceback": [
      "\u001b[31m---------------------------------------------------------------------------\u001b[39m",
      "\u001b[31mIndexError\u001b[39m                                Traceback (most recent call last)",
      "\u001b[36mCell\u001b[39m\u001b[36m \u001b[39m\u001b[32mIn[39]\u001b[39m\u001b[32m, line 19\u001b[39m\n\u001b[32m     17\u001b[39m \u001b[38;5;28;01mif\u001b[39;00m \u001b[38;5;28mlen\u001b[39m(k)==\u001b[32m1\u001b[39m:\n\u001b[32m     18\u001b[39m     \u001b[38;5;28;01mfor\u001b[39;00m h \u001b[38;5;129;01min\u001b[39;00m \u001b[38;5;28mrange\u001b[39m(\u001b[32m0\u001b[39m,\u001b[38;5;28mlen\u001b[39m(t)):\n\u001b[32m---> \u001b[39m\u001b[32m19\u001b[39m         \u001b[38;5;28;01mif\u001b[39;00m t[h]==\u001b[43mk\u001b[49m\u001b[43m[\u001b[49m\u001b[32;43m0\u001b[39;49m\u001b[43m]\u001b[49m:\n\u001b[32m     20\u001b[39m             answer.append(numlist[numlist.index(n-k[\u001b[32m0\u001b[39m])])\n\u001b[32m     21\u001b[39m             count+=\u001b[32m1\u001b[39m\n",
      "\u001b[31mIndexError\u001b[39m: list index out of range"
     ]
    }
   ],
   "source": [
    "numlist=[1,2,3,4,5,6]\n",
    "n=4\n",
    "answer=[]\n",
    "t=[]\n",
    "k=[]\n",
    "count=0\n",
    "for i in range(0,len(numlist)):\n",
    "    t.append(n-numlist[i])\n",
    "for j in range(0,len(t)):\n",
    "    k.append(abs(t[j]))\n",
    "k.sort()\n",
    "if k[0]==0:\n",
    "    answer.append(n)\n",
    "    del(k[0])\n",
    "    count+=1\n",
    "while True:\n",
    "    if len(k)==1:\n",
    "        for h in range(0,len(t)):\n",
    "            if t[h]==k[0]:\n",
    "                answer.append(numlist[numlist.index(n-k[0])])\n",
    "                count+=1\n",
    "                del(k[0])\n",
    "        if len(k)==1:\n",
    "            answer.append(numlist[numlist.index(n+k[0])])\n",
    "            count+=1\n",
    "        break\n",
    "    if k[0]==k[1]:\n",
    "        answer.append(numlist[numlist.index(n+k[0])])\n",
    "        answer.append(numlist[numlist.index(n-k[0])])\n",
    "        count+=2\n",
    "        del(k[0:2])\n",
    "    else:\n",
    "        for h in range(0,len(k)):\n",
    "            if k[0]==t[h]:\n",
    "                answer.append(numlist[numlist.index(n+k[0])])\n",
    "                count+=1\n",
    "                del(k[0])\n",
    "            else:\n",
    "                answer.append(numlist[numlist.index(n-k[0])])\n",
    "                count+=1\n",
    "                del(k[0])\n",
    "    if count==len(numlist):\n",
    "        break"
   ]
  },
  {
   "cell_type": "code",
   "execution_count": 33,
   "id": "b3155fb4",
   "metadata": {},
   "outputs": [
    {
     "name": "stdout",
     "output_type": "stream",
     "text": [
      "[3, 2, 1, 0, -1, -2]\n"
     ]
    }
   ],
   "source": [
    "print(t)"
   ]
  },
  {
   "cell_type": "code",
   "execution_count": 36,
   "id": "b17d34c7",
   "metadata": {},
   "outputs": [
    {
     "name": "stdout",
     "output_type": "stream",
     "text": [
      "[3]\n"
     ]
    }
   ],
   "source": [
    "print(k)"
   ]
  },
  {
   "cell_type": "code",
   "execution_count": null,
   "id": "3ee86ef4",
   "metadata": {},
   "outputs": [],
   "source": [
    "n=15\n",
    "answer = 0\n",
    "for i in range(1,n+1):\n",
    "    answer+=1\n",
    "    if i%3==0:\n",
    "        answer+=1\n",
    "    if list(str(i)).count('3')>0:\n",
    "        answer+=1\n",
    "    if i%3==0 and list(str(i)).count('3')>0:\n",
    "        answer-=1\n",
    "print(answer)"
   ]
  },
  {
   "cell_type": "code",
   "execution_count": 3,
   "id": "72eff7a3",
   "metadata": {},
   "outputs": [
    {
     "name": "stdout",
     "output_type": "stream",
     "text": [
      "29\n"
     ]
    }
   ],
   "source": [
    "p=['2','4','x']\n",
    "print(int(''.join(p[:-1]))+5)"
   ]
  },
  {
   "cell_type": "code",
   "execution_count": 8,
   "id": "0c23f0cf",
   "metadata": {},
   "outputs": [
    {
     "name": "stdout",
     "output_type": "stream",
     "text": [
      "10\n"
     ]
    }
   ],
   "source": [
    "a1=['1','2','3','4']\n",
    "for h in range(0,len(a1)):\n",
    "    a1[h]=int(a1[h])\n",
    "print(sum(a1))"
   ]
  },
  {
   "cell_type": "code",
   "execution_count": 13,
   "id": "c3710f92",
   "metadata": {},
   "outputs": [
    {
     "name": "stdout",
     "output_type": "stream",
     "text": [
      "[]\n",
      "0\n"
     ]
    }
   ],
   "source": [
    "a2=[]\n",
    "for h in range(0,len(a2)):\n",
    "    a2[h]=int(a2[h])\n",
    "print(a2)\n",
    "print(sum(a2))"
   ]
  },
  {
   "cell_type": "code",
   "execution_count": 14,
   "id": "e3e431c5",
   "metadata": {},
   "outputs": [
    {
     "name": "stdout",
     "output_type": "stream",
     "text": [
      "5\n"
     ]
    }
   ],
   "source": [
    "k=[2,2,3,3,5,5]\n",
    "print(max(k))"
   ]
  },
  {
   "cell_type": "code",
   "execution_count": null,
   "id": "171e601d",
   "metadata": {},
   "outputs": [],
   "source": []
  }
 ],
 "metadata": {
  "kernelspec": {
   "display_name": "Python 3",
   "language": "python",
   "name": "python3"
  },
  "language_info": {
   "codemirror_mode": {
    "name": "ipython",
    "version": 3
   },
   "file_extension": ".py",
   "mimetype": "text/x-python",
   "name": "python",
   "nbconvert_exporter": "python",
   "pygments_lexer": "ipython3",
   "version": "3.13.9"
  }
 },
 "nbformat": 4,
 "nbformat_minor": 5
}
