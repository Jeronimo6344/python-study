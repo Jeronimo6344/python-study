{
 "cells": [
  {
   "cell_type": "markdown",
   "id": "660653ad",
   "metadata": {},
   "source": [
    "# LAB02 ‒ 함수의 이해 / 코딩테스트 준비 / 조건문과 반복문\n",
    "\n",
    "## 01 - 함수의 이해"
   ]
  },
  {
   "cell_type": "code",
   "execution_count": null,
   "id": "4a7f9691",
   "metadata": {},
   "outputs": [
    {
     "name": "stdout",
     "output_type": "stream",
     "text": [
      "<class 'int'>\n"
     ]
    }
   ],
   "source": [
    "# 정수형 변수의 데이터 타입 확인\n",
    "age = 20        \n",
    "typeofage = type(age)\n",
    "print(typeofage)"
   ]
  },
  {
   "cell_type": "code",
   "execution_count": 68,
   "id": "2a05d44b",
   "metadata": {},
   "outputs": [
    {
     "name": "stdout",
     "output_type": "stream",
     "text": [
      "<class 'float'>\n"
     ]
    }
   ],
   "source": [
    "# 실수형 변수의 데이터 타입 확인\n",
    "pi = 3.14\n",
    "typeofpi = type(pi)\n",
    "print(typeofpi)"
   ]
  },
  {
   "cell_type": "code",
   "execution_count": 69,
   "id": "54c474ec",
   "metadata": {},
   "outputs": [
    {
     "name": "stdout",
     "output_type": "stream",
     "text": [
      "<class 'str'>\n"
     ]
    }
   ],
   "source": [
    "# 문자열 변수의 데이터 타입 확인\n",
    "message = \"Hello Python\"\n",
    "typeofmessage = type(message)\n",
    "print(typeofmessage)"
   ]
  },
  {
   "cell_type": "code",
   "execution_count": 70,
   "id": "8d5fc955",
   "metadata": {},
   "outputs": [
    {
     "name": "stdout",
     "output_type": "stream",
     "text": [
      "<class 'bool'>\n"
     ]
    }
   ],
   "source": [
    "# 논리형 변수의 데이터 타입 확인\n",
    "ok = True\n",
    "typeofok = type(ok)\n",
    "print(typeofok)"
   ]
  },
  {
   "cell_type": "code",
   "execution_count": 71,
   "id": "7e26dae8",
   "metadata": {},
   "outputs": [
    {
     "name": "stdout",
     "output_type": "stream",
     "text": [
      "Life is short 100 3.14 True\n"
     ]
    }
   ],
   "source": [
    "# 출력하고자 하는 모든 형태의 값을 파라미터로 전달한다\n",
    "# -> 문자열 이외의 다른 데이터 타입의 변수도 사용 가능함\n",
    "a = 100\n",
    "b = 3.14\n",
    "c = True\n",
    "print(\"Life\", \"is\", \"short\", a, b, c)"
   ]
  },
  {
   "cell_type": "code",
   "execution_count": 72,
   "id": "fe11ae78",
   "metadata": {},
   "outputs": [
    {
     "name": "stdout",
     "output_type": "stream",
     "text": [
      "dd\n",
      "<class 'str'>\n"
     ]
    }
   ],
   "source": [
    "# 문자열 입력받기\n",
    "msg1 = input(\"메시지를 입력하세요\")\n",
    "print(msg1)\n",
    "\n",
    "# 일벽 받은 내용의 데이터 타입 확인 --> 무조건 문자열(str)\n",
    "t=type(msg1)\n",
    "print(t)"
   ]
  },
  {
   "cell_type": "code",
   "execution_count": 73,
   "id": "88d633ee",
   "metadata": {},
   "outputs": [
    {
     "name": "stdout",
     "output_type": "stream",
     "text": [
      "23\n",
      "<class 'int'>\n"
     ]
    }
   ],
   "source": [
    "# 입력받은 값을 정수 타입으로 변환\n",
    "msg2 = input(\"정수를 입력하세요\")\n",
    "num = int(msg2)\n",
    "print(num)\n",
    "\n",
    "# 변환 결과의 데이터 타입 확인 --> 정수(int)\n",
    "num_type = type(num)\n",
    "print(num_type)"
   ]
  },
  {
   "cell_type": "code",
   "execution_count": 74,
   "id": "f98ee18b",
   "metadata": {},
   "outputs": [
    {
     "name": "stdout",
     "output_type": "stream",
     "text": [
      "13.5\n",
      "<class 'float'>\n"
     ]
    }
   ],
   "source": [
    "# 입력받은 값을 실수 타입으로 변환\n",
    "msg3 = input(\"실수를 입력하세요\")\n",
    "fnum = float(msg3)\n",
    "print(fnum)\n",
    "\n",
    "# 변환 결과의 데이터 타입 확인 --> 실수(float)\n",
    "fnum_type = type(fnum)\n",
    "print(fnum_type)"
   ]
  },
  {
   "cell_type": "code",
   "execution_count": 75,
   "id": "f5366361",
   "metadata": {},
   "outputs": [
    {
     "name": "stdout",
     "output_type": "stream",
     "text": [
      "100.0\n",
      "<class 'float'>\n"
     ]
    }
   ],
   "source": [
    "# 정수를 실수로 변환 --> 정수 뒤에 \".0\"이 추가됨\n",
    "num1 = 100\n",
    "num2 = float(num1)\n",
    "print(num2)\n",
    "\n",
    "# 변환 결과의 데이터 타입 확인 --> 실수(float)\n",
    "t1 = type(num2)\n",
    "print(t1)"
   ]
  },
  {
   "cell_type": "code",
   "execution_count": 76,
   "id": "af3b20b4",
   "metadata": {},
   "outputs": [
    {
     "name": "stdout",
     "output_type": "stream",
     "text": [
      "123\n",
      "<class 'int'>\n"
     ]
    }
   ],
   "source": [
    "# 실수를 정수로 변환 --> 소수점 버림\n",
    "num3 = 123.78\n",
    "num4 = int(num3)\n",
    "print(num4)\n",
    "\n",
    "# 변환 결과의 데이터 타입 확인 --> 정수(int)\n",
    "t2 = type(num4)\n",
    "print(t2)"
   ]
  },
  {
   "cell_type": "code",
   "execution_count": 77,
   "id": "46df6d84",
   "metadata": {},
   "outputs": [
    {
     "name": "stdout",
     "output_type": "stream",
     "text": [
      "<class 'int'> <class 'str'>\n",
      "<class 'float'> <class 'str'>\n"
     ]
    }
   ],
   "source": [
    "# 모든 데이터 타입을 문자열로 변환하는 str() 함수\n",
    "num1 = 100\n",
    "s1 = str(num1)\n",
    "print(type(num1),type(s1))\n",
    "\n",
    "num2 = 3.14\n",
    "s2 = str(num2)\n",
    "print(type(num2), type(s2))"
   ]
  },
  {
   "cell_type": "code",
   "execution_count": 78,
   "id": "1588db12",
   "metadata": {},
   "outputs": [
    {
     "name": "stdout",
     "output_type": "stream",
     "text": [
      "256\n"
     ]
    }
   ],
   "source": [
    "# 제곱근 구하기 --> '2**8' 연산과 동일한 결과\n",
    "a = pow(2,8)\n",
    "print(a)"
   ]
  },
  {
   "cell_type": "code",
   "execution_count": 79,
   "id": "488d8b2b",
   "metadata": {},
   "outputs": [
    {
     "name": "stdout",
     "output_type": "stream",
     "text": [
      "100\n",
      "100\n",
      "12.345\n"
     ]
    }
   ],
   "source": [
    "# 절댓값 구하기\n",
    "a = abs(100)\n",
    "print(a)\n",
    "b = abs(-100)\n",
    "print(b)\n",
    "c = abs(-12.345)\n",
    "print(c)"
   ]
  },
  {
   "cell_type": "code",
   "execution_count": 80,
   "id": "f267c8ab",
   "metadata": {},
   "outputs": [
    {
     "name": "stdout",
     "output_type": "stream",
     "text": [
      "124\n",
      "123.8\n"
     ]
    }
   ],
   "source": [
    "# 소수점 반올림 후 정수만 출력\n",
    "n = round(123.78)\n",
    "print(n)\n",
    "\n",
    "# 소수점 첫째 자리까지만 남기고 반올림\n",
    "n2 = round(123.76,1)\n",
    "print(n2)"
   ]
  },
  {
   "cell_type": "markdown",
   "id": "a8d5978e",
   "metadata": {},
   "source": [
    "## 02 - 함수 정의하기"
   ]
  },
  {
   "cell_type": "code",
   "execution_count": 81,
   "id": "05fcbb3c",
   "metadata": {},
   "outputs": [],
   "source": [
    "def say_hello():\n",
    "    print(\"Hello Python\")\n",
    "    print(\"안녕 파이썬\")"
   ]
  },
  {
   "cell_type": "code",
   "execution_count": 82,
   "id": "3e783735",
   "metadata": {},
   "outputs": [
    {
     "name": "stdout",
     "output_type": "stream",
     "text": [
      "Hello Python\n",
      "안녕 파이썬\n",
      "Hello Python\n",
      "안녕 파이썬\n"
     ]
    }
   ],
   "source": [
    "say_hello()\n",
    "say_hello()"
   ]
  },
  {
   "cell_type": "code",
   "execution_count": 83,
   "id": "c286a2af",
   "metadata": {},
   "outputs": [],
   "source": [
    "def f(x):\n",
    "    y=x+1\n",
    "    print(y)"
   ]
  },
  {
   "cell_type": "code",
   "execution_count": 84,
   "id": "9eb4b8c0",
   "metadata": {},
   "outputs": [
    {
     "name": "stdout",
     "output_type": "stream",
     "text": [
      "3\n"
     ]
    }
   ],
   "source": [
    "f(2)"
   ]
  },
  {
   "cell_type": "code",
   "execution_count": 85,
   "id": "17966e1e",
   "metadata": {},
   "outputs": [
    {
     "name": "stdout",
     "output_type": "stream",
     "text": [
      "4\n"
     ]
    }
   ],
   "source": [
    "f(3)"
   ]
  },
  {
   "cell_type": "code",
   "execution_count": 86,
   "id": "171e7b73",
   "metadata": {},
   "outputs": [],
   "source": [
    "def foo(count):\n",
    "    x=count*10\n",
    "    print(x)"
   ]
  },
  {
   "cell_type": "code",
   "execution_count": 87,
   "id": "4f0b92c3",
   "metadata": {},
   "outputs": [
    {
     "name": "stdout",
     "output_type": "stream",
     "text": [
      "20\n"
     ]
    }
   ],
   "source": [
    "foo(2)"
   ]
  },
  {
   "cell_type": "code",
   "execution_count": 88,
   "id": "f4d531da",
   "metadata": {},
   "outputs": [
    {
     "ename": "TypeError",
     "evalue": "foo() missing 1 required positional argument: 'count'",
     "output_type": "error",
     "traceback": [
      "\u001b[31m---------------------------------------------------------------------------\u001b[39m",
      "\u001b[31mTypeError\u001b[39m                                 Traceback (most recent call last)",
      "\u001b[36mCell\u001b[39m\u001b[36m \u001b[39m\u001b[32mIn[88]\u001b[39m\u001b[32m, line 1\u001b[39m\n\u001b[32m----> \u001b[39m\u001b[32m1\u001b[39m \u001b[43mfoo\u001b[49m\u001b[43m(\u001b[49m\u001b[43m)\u001b[49m\n",
      "\u001b[31mTypeError\u001b[39m: foo() missing 1 required positional argument: 'count'"
     ]
    }
   ],
   "source": [
    "foo()"
   ]
  },
  {
   "cell_type": "code",
   "execution_count": null,
   "id": "0977e9dd",
   "metadata": {},
   "outputs": [],
   "source": [
    "def hello(x, y):\n",
    "    z=x+y\n",
    "    print(z)"
   ]
  },
  {
   "cell_type": "code",
   "execution_count": null,
   "id": "c5f3b5f3",
   "metadata": {},
   "outputs": [
    {
     "name": "stdout",
     "output_type": "stream",
     "text": [
      "3\n"
     ]
    }
   ],
   "source": [
    "hello(2,1)"
   ]
  },
  {
   "cell_type": "code",
   "execution_count": null,
   "id": "416e9e9e",
   "metadata": {},
   "outputs": [
    {
     "name": "stdout",
     "output_type": "stream",
     "text": [
      "8\n"
     ]
    }
   ],
   "source": [
    "hello(5,3)"
   ]
  },
  {
   "cell_type": "code",
   "execution_count": null,
   "id": "b811c61b",
   "metadata": {},
   "outputs": [],
   "source": [
    "def sum1(x,y,z=0):\n",
    "    answer=x+y+z\n",
    "    print(answer)"
   ]
  },
  {
   "cell_type": "code",
   "execution_count": null,
   "id": "82c7b06d",
   "metadata": {},
   "outputs": [
    {
     "name": "stdout",
     "output_type": "stream",
     "text": [
      "6\n"
     ]
    }
   ],
   "source": [
    "# 모든 파라미터 값을 전달하며 함수 호출\n",
    "sum1(1,2,3)"
   ]
  },
  {
   "cell_type": "code",
   "execution_count": null,
   "id": "8b220780",
   "metadata": {},
   "outputs": [
    {
     "name": "stdout",
     "output_type": "stream",
     "text": [
      "30\n"
     ]
    }
   ],
   "source": [
    "# 초기값이 설정된 파라미터는 호출 시에 생략 가능함 -> 생략된 파라미터는 초기값으로 설정됨\n",
    "sum1(10,20)"
   ]
  },
  {
   "cell_type": "code",
   "execution_count": null,
   "id": "ae249371",
   "metadata": {},
   "outputs": [],
   "source": [
    "def sum2(a,b,c=0,d=0):\n",
    "    answer=a+b+c+d\n",
    "    print(answer)"
   ]
  },
  {
   "cell_type": "code",
   "execution_count": null,
   "id": "fcf29d8d",
   "metadata": {},
   "outputs": [
    {
     "name": "stdout",
     "output_type": "stream",
     "text": [
      "10\n"
     ]
    }
   ],
   "source": [
    "# 파라미터의 이름을 지정한 함수 호출 -> 파라미터 전달 순서를 무시할 수 있다\n",
    "sum2(d=3, c=4, b=2, a=1)"
   ]
  },
  {
   "cell_type": "code",
   "execution_count": null,
   "id": "4711a952",
   "metadata": {},
   "outputs": [
    {
     "name": "stdout",
     "output_type": "stream",
     "text": [
      "3\n"
     ]
    }
   ],
   "source": [
    "# 함수에 정의된 기본값 활용\n",
    "sum2(1, b=2)"
   ]
  },
  {
   "cell_type": "code",
   "execution_count": null,
   "id": "fbd57667",
   "metadata": {},
   "outputs": [],
   "source": [
    "def plus(x,y):\n",
    "    z=x+y\n",
    "    return z    # 자신이 호출된 위치로 값을 되돌려준다"
   ]
  },
  {
   "cell_type": "code",
   "execution_count": null,
   "id": "ee60808d",
   "metadata": {},
   "outputs": [
    {
     "name": "stdout",
     "output_type": "stream",
     "text": [
      "30\n"
     ]
    }
   ],
   "source": [
    "a=plus(10,20)   # 리턴 값을 다른 변수에 할당하기\n",
    "print(a)"
   ]
  },
  {
   "cell_type": "code",
   "execution_count": null,
   "id": "2a1c50de",
   "metadata": {},
   "outputs": [
    {
     "name": "stdout",
     "output_type": "stream",
     "text": [
      "300\n"
     ]
    }
   ],
   "source": [
    "print(plus(100,200))    # 리턴값을 갖는 함수는 그 결과를 직접 출력할 수 있다"
   ]
  },
  {
   "cell_type": "code",
   "execution_count": null,
   "id": "dcb3ee6c",
   "metadata": {},
   "outputs": [
    {
     "name": "stdout",
     "output_type": "stream",
     "text": [
      "112\n"
     ]
    }
   ],
   "source": [
    "b=plus(5,7)+100     # 리턴값을 갖는 함수는 그 결과를 다른 연산에 활용할 수 있다\n",
    "print(b)"
   ]
  },
  {
   "cell_type": "code",
   "execution_count": null,
   "id": "c01ab592",
   "metadata": {},
   "outputs": [],
   "source": [
    "# return문을 중간에 만나는 경우 그 즉시 수행을 종료한다\n",
    "# 리턴문 이후의 코드는 실행되지 않는다\n",
    "def foo(x,y):\n",
    "    return 0\n",
    "    z=x+y           # 함수가 실행 도중 중단되므로 이후의 코드는 무의미하다는 의미로 흐릿하게 표시됨\n",
    "    return z"
   ]
  },
  {
   "cell_type": "code",
   "execution_count": null,
   "id": "83a8e03e",
   "metadata": {},
   "outputs": [
    {
     "name": "stdout",
     "output_type": "stream",
     "text": [
      "0\n"
     ]
    }
   ],
   "source": [
    "# z값을 계산하기 전에 0을 리턴하므로 결과값이 0이 된다\n",
    "print(foo(100,200))"
   ]
  },
  {
   "cell_type": "code",
   "execution_count": null,
   "id": "75f3b16d",
   "metadata": {},
   "outputs": [],
   "source": [
    "a=100\n",
    "b=200\n",
    "\n",
    "def foo():\n",
    "    k=a+b   # 함수 안에서는 함수 밖의 변수 식별 가능\n",
    "    print(k)"
   ]
  },
  {
   "cell_type": "code",
   "execution_count": null,
   "id": "693d3394",
   "metadata": {},
   "outputs": [
    {
     "name": "stdout",
     "output_type": "stream",
     "text": [
      "300\n"
     ]
    }
   ],
   "source": [
    "foo()"
   ]
  },
  {
   "cell_type": "code",
   "execution_count": null,
   "id": "d69adfd6",
   "metadata": {},
   "outputs": [
    {
     "ename": "NameError",
     "evalue": "name 'k' is not defined",
     "output_type": "error",
     "traceback": [
      "\u001b[31m---------------------------------------------------------------------------\u001b[39m",
      "\u001b[31mNameError\u001b[39m                                 Traceback (most recent call last)",
      "\u001b[36mCell\u001b[39m\u001b[36m \u001b[39m\u001b[32mIn[44]\u001b[39m\u001b[32m, line 1\u001b[39m\n\u001b[32m----> \u001b[39m\u001b[32m1\u001b[39m \u001b[38;5;28mprint\u001b[39m(\u001b[43mk\u001b[49m)    \u001b[38;5;66;03m# 함수 밖에서는 함수 내부에서 생성된 변수 식별 불가\u001b[39;00m\n",
      "\u001b[31mNameError\u001b[39m: name 'k' is not defined"
     ]
    }
   ],
   "source": [
    "print(k)    # 함수 밖에서는 함수 내부에서 생성된 변수 식별 불가"
   ]
  },
  {
   "cell_type": "markdown",
   "id": "a309ead0",
   "metadata": {},
   "source": [
    "## 04 - 조건문"
   ]
  },
  {
   "cell_type": "code",
   "execution_count": null,
   "id": "f0f5f1b3",
   "metadata": {},
   "outputs": [
    {
     "name": "stdout",
     "output_type": "stream",
     "text": [
      "시험시작\n",
      "시험 끝\n"
     ]
    }
   ],
   "source": [
    "print(\"시험시작\")\n",
    "score=int(input(\"점수를 입력하세요\"))\n",
    "if score>=60:\n",
    "    print(\"합격입니다.\")\n",
    "print(\"시험 끝\")"
   ]
  },
  {
   "cell_type": "code",
   "execution_count": null,
   "id": "2da26e95",
   "metadata": {},
   "outputs": [
    {
     "name": "stdout",
     "output_type": "stream",
     "text": [
      "집에 가자\n"
     ]
    }
   ],
   "source": [
    "#money=10000\n",
    "money=0\n",
    "if money:\n",
    "    print(\"택시를 타고\")\n",
    "print(\"집에 가자\")"
   ]
  },
  {
   "cell_type": "code",
   "execution_count": null,
   "id": "bbe5df9b",
   "metadata": {},
   "outputs": [
    {
     "name": "stdout",
     "output_type": "stream",
     "text": [
      "프로그래밍\n"
     ]
    }
   ],
   "source": [
    "#name=\"Python\"\n",
    "name=\"\"\n",
    "if name:\n",
    "    print(name)\n",
    "print(\"프로그래밍\")"
   ]
  },
  {
   "cell_type": "code",
   "execution_count": null,
   "id": "f70ca268",
   "metadata": {},
   "outputs": [
    {
     "name": "stdout",
     "output_type": "stream",
     "text": [
      "19살 입니다.\n",
      "20살이 아닙니다.\n",
      "청소년입니다.\n"
     ]
    }
   ],
   "source": [
    "myage=int(input(\"나이를 입력하세요\"))\n",
    "if myage==19:\n",
    "    print(\"19살 입니다.\")\n",
    "if myage!=20:\n",
    "    print(\"20살이 아닙니다.\")\n",
    "if myage>19:\n",
    "    print(\"성인입니다.\")\n",
    "if myage<=19:\n",
    "    print(\"청소년입니다.\")"
   ]
  },
  {
   "cell_type": "code",
   "execution_count": null,
   "id": "59e5d336",
   "metadata": {},
   "outputs": [
    {
     "name": "stdout",
     "output_type": "stream",
     "text": [
      "C학점 입니다.\n"
     ]
    }
   ],
   "source": [
    "point=int(input(\"점수를 입력하세요\"))\n",
    "\n",
    "# AND --> 전체가 참이어야 결과가 참\n",
    "if point>70 and point<=80:\n",
    "    print(\"C학점 입니다.\")\n",
    "\n",
    "# OR --> 하나라도 참이면 결과가 참\n",
    "if point<=70 or point>80:\n",
    "    print(\"C학점이 아닙니다.\")"
   ]
  },
  {
   "cell_type": "code",
   "execution_count": null,
   "id": "c5c033dd",
   "metadata": {},
   "outputs": [
    {
     "name": "stdout",
     "output_type": "stream",
     "text": [
      "한국 사람이 아닙니다...(2)\n",
      "한국 사람이 아닙니다...(3)\n",
      "한국 사람이 아닙니다...(6)\n"
     ]
    }
   ],
   "source": [
    "#isKorean=True\n",
    "isKorean=False\n",
    "\n",
    "if isKorean==True:\n",
    "    print(\"한국 사람입니다...(1)\")\n",
    "if isKorean==False:\n",
    "    print(\"한국 사람이 아닙니다...(2)\")\n",
    "if isKorean!=True:\n",
    "    print(\"한국 사람이 아닙니다...(3)\")\n",
    "if isKorean!=False:\n",
    "    print(\"한국 사람입니다...(4)\")\n",
    "if isKorean:\n",
    "    print(\"한국 사람입니다...(5)\")\n",
    "if not isKorean:\n",
    "    print(\"한국 사람이 아닙니다...(6)\")"
   ]
  },
  {
   "cell_type": "code",
   "execution_count": null,
   "id": "b27da21a",
   "metadata": {},
   "outputs": [
    {
     "name": "stdout",
     "output_type": "stream",
     "text": [
      "시험 시작\n",
      "합격입니다.\n",
      "시험 끝\n"
     ]
    }
   ],
   "source": [
    "print(\"시험 시작\")\n",
    "score=int(input(\"점수를 입력하세요\"))\n",
    "if score>=60:\n",
    "    print(\"합격입니다.\")\n",
    "else:\n",
    "    print(\"불합격입니다.\")\n",
    "print(\"시험 끝\")"
   ]
  },
  {
   "cell_type": "code",
   "execution_count": null,
   "id": "88154a50",
   "metadata": {},
   "outputs": [
    {
     "name": "stdout",
     "output_type": "stream",
     "text": [
      "한국 사람이 아닙니다...(2)\n",
      "한국 사람이 아닙니다...(3)\n"
     ]
    }
   ],
   "source": [
    "answer=input(\"한국인입니까? (Y/N)\")\n",
    "\n",
    "if answer==\"Y\":\n",
    "    isKorean=True\n",
    "else:\n",
    "    isKorean=False\n",
    "\n",
    "if isKorean:\n",
    "    print(\"한국 사람 입니다...(1)\")\n",
    "else:\n",
    "    print(\"한국 사람이 아닙니다...(2)\")\n",
    "\n",
    "if not isKorean:\n",
    "    print(\"한국 사람이 아닙니다...(3)\")\n",
    "else:\n",
    "    print(\"한국 사람 입니다...(4)\")"
   ]
  },
  {
   "cell_type": "code",
   "execution_count": null,
   "id": "0b8261d5",
   "metadata": {},
   "outputs": [
    {
     "name": "stdout",
     "output_type": "stream",
     "text": [
      "시험 시작\n",
      "C학점\n",
      "시험 끝\n"
     ]
    }
   ],
   "source": [
    "print(\"시험 시작\")\n",
    "point=int(input(\"점수를 입력하세요\"))\n",
    "if point>90:\n",
    "    print(\"A학점\")\n",
    "elif point>80:\n",
    "    print(\"B학점\")\n",
    "elif point>70:\n",
    "    print(\"C학점\")\n",
    "elif point>60:\n",
    "    print(\"D학점\")\n",
    "else:\n",
    "    print(\"F학점\")\n",
    "print(\"시험 끝\")"
   ]
  },
  {
   "cell_type": "markdown",
   "id": "cc15204f",
   "metadata": {},
   "source": [
    "## 05 - 반복문"
   ]
  },
  {
   "cell_type": "markdown",
   "id": "9be1aefe",
   "metadata": {},
   "source": [
    "### WHILE 문"
   ]
  },
  {
   "cell_type": "code",
   "execution_count": 93,
   "id": "334fb5d5",
   "metadata": {},
   "outputs": [
    {
     "name": "stdout",
     "output_type": "stream",
     "text": [
      "x = 1\n",
      "x = 2\n",
      "x = 3\n",
      "x = 4\n",
      "x = 5\n",
      "x = 6\n",
      "x = 7\n",
      "x = 8\n",
      "x = 9\n",
      "x = 10\n",
      "x의 최종값 = 11\n"
     ]
    }
   ],
   "source": [
    "x=1                     #초기식\n",
    "while x<=10:            #조건식 -> x가 10보다 작거나 같은 동안 반복 수행\n",
    "    print(\"x =\",x)      #증감식 -> 조건에 사용되는 값을 변경\n",
    "    x+=1\n",
    "print(\"x의 최종값 =\",x)"
   ]
  },
  {
   "cell_type": "code",
   "execution_count": 92,
   "id": "91137e57",
   "metadata": {},
   "outputs": [
    {
     "name": "stdout",
     "output_type": "stream",
     "text": [
      "6 x 1 = 6\n",
      "6 x 2 = 12\n",
      "6 x 3 = 18\n",
      "6 x 4 = 24\n",
      "6 x 5 = 30\n",
      "6 x 6 = 36\n",
      "6 x 7 = 42\n",
      "6 x 8 = 48\n",
      "6 x 9 = 54\n"
     ]
    }
   ],
   "source": [
    "x=int(input(\"숫자를 입력하세요.\"))\n",
    "\n",
    "#구구단 출력하기\n",
    "y=1             #초기식\n",
    "while y<10:     #조건식 -> 10보다 작다이므로 10은 포함되지 않음\n",
    "    z=x*y       #반복이 진행되는 동안 수행할 명령\n",
    "    print(x,\"x\",y,\"=\",z)\n",
    "    y+=1        #증감식 -> y가 1씩 증가함"
   ]
  },
  {
   "cell_type": "code",
   "execution_count": 91,
   "id": "d5be3b13",
   "metadata": {},
   "outputs": [
    {
     "name": "stdout",
     "output_type": "stream",
     "text": [
      "x = 1 -> sum = 1\n",
      "x = 2 -> sum = 3\n",
      "x = 3 -> sum = 6\n",
      "x = 4 -> sum = 10\n",
      "x = 5 -> sum = 15\n",
      "x = 6 -> sum = 21\n",
      "x = 7 -> sum = 28\n",
      "x = 8 -> sum = 36\n",
      "x = 9 -> sum = 45\n",
      "x = 10 -> sum = 55\n"
     ]
    }
   ],
   "source": [
    "# 1~10까지의 총 합을 구하기\n",
    "x=1             #초기식\n",
    "sum=0           #총합을 누적해서 저장할 변수\n",
    "while x<=10:    #조건식 -> x가 10보다 작거나 같은 동안 반복 수행\n",
    "    sum+=x\n",
    "    print(\"x =\",x,\"-> sum =\",sum)\n",
    "    x+=1        #증감식 -> 조건에 사용되는 값을 변경"
   ]
  },
  {
   "cell_type": "code",
   "execution_count": 94,
   "id": "862ab660",
   "metadata": {},
   "outputs": [
    {
     "name": "stdout",
     "output_type": "stream",
     "text": [
      "0\n",
      "10\n",
      "20\n",
      "30\n",
      "40\n"
     ]
    }
   ],
   "source": [
    "# 0부터 50 전까지(=49까지) 10씩 증가\n",
    "a=0\n",
    "while a<50:\n",
    "    print(a)\n",
    "    a+=10"
   ]
  },
  {
   "cell_type": "code",
   "execution_count": 95,
   "id": "574eab0f",
   "metadata": {},
   "outputs": [
    {
     "name": "stdout",
     "output_type": "stream",
     "text": [
      "10\n",
      "8\n",
      "6\n",
      "4\n",
      "2\n"
     ]
    }
   ],
   "source": [
    "# 10부터 0 전까지(=1까지) 2씩 감소\n",
    "b=10\n",
    "while b>0:\n",
    "    print(b)\n",
    "    b-=2"
   ]
  },
  {
   "cell_type": "markdown",
   "id": "918fbc06",
   "metadata": {},
   "source": [
    "### FOR 문"
   ]
  },
  {
   "cell_type": "code",
   "execution_count": 97,
   "id": "199a5116",
   "metadata": {},
   "outputs": [
    {
     "name": "stdout",
     "output_type": "stream",
     "text": [
      "x = 1\n",
      "x = 2\n",
      "x = 3\n",
      "x = 4\n",
      "x = 5\n",
      "x = 6\n",
      "x = 7\n",
      "x = 8\n",
      "x = 9\n",
      "x = 10\n",
      "x의 최종값 = 10\n"
     ]
    }
   ],
   "source": [
    "# x가 1부터 11전까지 1씩 증가하면서 반복 수행\n",
    "for x in range(1,11):\n",
    "    # 반복이 진행되는 동안 수행할 명령\n",
    "    print(\"x =\",x)\n",
    "print(\"x의 최종값 =\",x)"
   ]
  },
  {
   "cell_type": "code",
   "execution_count": 98,
   "id": "5976be3b",
   "metadata": {},
   "outputs": [
    {
     "name": "stdout",
     "output_type": "stream",
     "text": [
      "8 x 1 = 8\n",
      "8 x 2 = 16\n",
      "8 x 3 = 24\n",
      "8 x 4 = 32\n",
      "8 x 5 = 40\n",
      "8 x 6 = 48\n",
      "8 x 7 = 56\n",
      "8 x 8 = 64\n",
      "8 x 9 = 72\n"
     ]
    }
   ],
   "source": [
    "x=int(input(\"숫자를 입력하세요.\"))\n",
    "# -> 1부터 10전까지 1씩 증가하는 값을 y에 설정\n",
    "for y in range(1,10):\n",
    "    # 반복이 진행되는 동안 수행할 명령\n",
    "    z=x*y\n",
    "    print(x,\"x\",y,\"=\",z)"
   ]
  },
  {
   "cell_type": "code",
   "execution_count": 99,
   "id": "5ffb8e85",
   "metadata": {},
   "outputs": [
    {
     "name": "stdout",
     "output_type": "stream",
     "text": [
      "x = 1 -> sum = 1\n",
      "x = 2 -> sum = 3\n",
      "x = 3 -> sum = 6\n",
      "x = 4 -> sum = 10\n",
      "x = 5 -> sum = 15\n",
      "x = 6 -> sum = 21\n",
      "x = 7 -> sum = 28\n",
      "x = 8 -> sum = 36\n",
      "x = 9 -> sum = 45\n",
      "x = 10 -> sum = 55\n"
     ]
    }
   ],
   "source": [
    "# 1~10까지의 총 합을 구하기\n",
    "sum=0\n",
    "for x in range (1,11):\n",
    "    sum+=x\n",
    "    print(\"x =\",x,\"-> sum =\",sum)"
   ]
  },
  {
   "cell_type": "code",
   "execution_count": 102,
   "id": "ffe822e7",
   "metadata": {},
   "outputs": [
    {
     "name": "stdout",
     "output_type": "stream",
     "text": [
      "0\n",
      "10\n",
      "20\n",
      "30\n",
      "40\n"
     ]
    }
   ],
   "source": [
    "# 0부터 50 전까지 10씩 증가\n",
    "for a in range(0,50,10):\n",
    "    print(a)"
   ]
  },
  {
   "cell_type": "code",
   "execution_count": 103,
   "id": "167d9f28",
   "metadata": {},
   "outputs": [
    {
     "name": "stdout",
     "output_type": "stream",
     "text": [
      "10\n",
      "8\n",
      "6\n",
      "4\n",
      "2\n"
     ]
    }
   ],
   "source": [
    "# 10부터 0 전까지 2씩 감소\n",
    "for b in range(10,0,-2):\n",
    "    print(b)"
   ]
  },
  {
   "cell_type": "code",
   "execution_count": null,
   "id": "2e54de7c",
   "metadata": {},
   "outputs": [],
   "source": []
  }
 ],
 "metadata": {
  "kernelspec": {
   "display_name": "Python 3",
   "language": "python",
   "name": "python3"
  },
  "language_info": {
   "codemirror_mode": {
    "name": "ipython",
    "version": 3
   },
   "file_extension": ".py",
   "mimetype": "text/x-python",
   "name": "python",
   "nbconvert_exporter": "python",
   "pygments_lexer": "ipython3",
   "version": "3.13.9"
  }
 },
 "nbformat": 4,
 "nbformat_minor": 5
}
